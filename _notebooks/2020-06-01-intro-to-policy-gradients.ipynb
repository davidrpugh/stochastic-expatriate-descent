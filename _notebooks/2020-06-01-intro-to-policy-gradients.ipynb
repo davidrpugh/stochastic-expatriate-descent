{
 "cells": [
  {
   "cell_type": "markdown",
   "metadata": {},
   "source": [
    "# Introduction to Policy Gradients\n",
    "> ???\n",
    "\n",
    "- branch: 2020-06-01-intro-to-policy-gradients\n",
    "- badges: true\n",
    "- image: images/???\n",
    "- comments: true\n",
    "- author: David R. Pugh\n",
    "- categories: [pytorch, deep-reinforcement-learning, optimization]"
   ]
  },
  {
   "cell_type": "markdown",
   "metadata": {},
   "source": [
    "### Google Colab Preamble\n",
    "\n",
    "If you are playing around with this notebook on Google Colab, then you will need to run the following cell in order to install the required OpenAI dependencies into the environment."
   ]
  },
  {
   "cell_type": "code",
   "execution_count": null,
   "metadata": {},
   "outputs": [],
   "source": [
    "%%bash\n",
    "\n",
    "# install required system dependencies\n",
    "apt-get install -y xvfb x11-utils\n",
    "\n",
    "# install required python dependencies (might need to install additional gym extras depending)\n",
    "pip install gym[box2d]==0.17.* pyvirtualdisplay==0.2.* PyOpenGL==3.1.* PyOpenGL-accelerate==3.1.*\n"
   ]
  },
  {
   "cell_type": "markdown",
   "metadata": {},
   "source": [
    "The code in the cell below creates a virtual display in the background that your Gym Envs can connect to for rendering. You can adjust the size of the virtual buffer as you like but you must set `visible=False`.\n",
    "\n",
    "**This code only needs to be run once per session to start the display.**"
   ]
  },
  {
   "cell_type": "code",
   "execution_count": null,
   "metadata": {},
   "outputs": [],
   "source": [
    "import pyvirtualdisplay\n",
    "\n",
    "\n",
    "_display = pyvirtualdisplay.Display(visible=False,  # use False with Xvfb\n",
    "                                    size=(1400, 900))\n",
    "_ = _display.start()"
   ]
  },
  {
   "cell_type": "markdown",
   "metadata": {},
   "source": [
    "### Binder Preamble\n",
    "\n",
    "If you are running this code on Binder, then there isn't really much to do as all the software is pre-installed. However you do still need to run the code in the cell below to creates a virtual display in the background that your Gym Envs can connect to for rendering. You can adjust the size of the virtual buffer as you like but you must set `visible=False`.\n",
    "\n",
    "*This code only needs to be run once per session to start the display.*"
   ]
  },
  {
   "cell_type": "code",
   "execution_count": null,
   "metadata": {},
   "outputs": [],
   "source": [
    "import pyvirtualdisplay\n",
    "\n",
    "\n",
    "_display = pyvirtualdisplay.Display(visible=False,  # use False with Xvfb\n",
    "                                    size=(1400, 900))\n",
    "_ = _display.start()"
   ]
  },
  {
   "cell_type": "markdown",
   "metadata": {},
   "source": [
    "# Policy Gradients"
   ]
  },
  {
   "cell_type": "code",
   "execution_count": null,
   "metadata": {},
   "outputs": [],
   "source": []
  },
  {
   "cell_type": "markdown",
   "metadata": {},
   "source": [
    "## Base RL Agent\n",
    "\n",
    "The code in the cell below defines a base `Agent` class designed to interact with [OpenAI Gym](https://gym.openai.com/) environments. When creating an `Agent` you must specify a `PolicyFn`. A `PolicyFn` is a no-argument function that returns a `Policy`. A `Policy` is a function that takes the environment state is its input and then returns the probabilities of choosing feasible actions. Here I use neural networks implemented in [PyTorch](https://pytorch.org/) as [`torch.nn.Module`](https://pytorch.org/docs/master/generated/torch.nn.Module.html) to represent a `Policy`. \n",
    "\n",
    "can also specify whether the agent should use a deterministic or stochastic policy for choosing actions. With a stochastic policy (which is the default), the agent samples from the probability distribution returned by its current approximate policy function when choosing its action given the state of the environment. With a deterministic policy, meanwhile, the agent always chooses the action with the largest probability mass. "
   ]
  },
  {
   "cell_type": "code",
   "execution_count": 130,
   "metadata": {},
   "outputs": [],
   "source": [
    "import collections\n",
    "import typing\n",
    "\n",
    "import numpy as np\n",
    "import torch\n",
    "from torch import distributions, nn, optim\n",
    "import torch.nn.functional as F\n",
    "\n",
    "\n",
    "GymState = np.ndarray\n",
    "Policy = nn.Module\n",
    "PolicyFn = typing.Callable[[], Policy]\n",
    "PreprocessingFn = typing.Callable[[GymState], torch.Tensor] \n",
    "Action = int\n",
    "Done = bool\n",
    "Reward = float\n",
    "\n",
    "\n",
    "class ReinforceAgent:\n",
    "    \n",
    "    def __init__(self,\n",
    "                 policy_fn: PolicyFn,\n",
    "                 gamma: float = 1.0,\n",
    "                 is_deterministic: bool = False,\n",
    "                 minibatch_size: int = 1,\n",
    "                 optimizer_kwargs: typing.Optional[dict] = None,\n",
    "                 preprocessing_fn: typing.Optional[PreprocessingFn] = None,\n",
    "                 seed: typing.Optional[int] = None):\n",
    "        if torch.cuda.is_available():\n",
    "            self._device = torch.device(\"cuda\") \n",
    "        else:\n",
    "            self._device = torch.device(\"cpu\")\n",
    "        self._episode_history = [collections.defaultdict(lambda: [])]\n",
    "        self._episode_losses = []\n",
    "        self._gamma = gamma\n",
    "        self._is_deterministic = is_deterministic\n",
    "        self._minibatch_size = minibatch_size\n",
    "        self._policy = policy_fn()\n",
    "        _ = self._policy.to(self._device)\n",
    "        \n",
    "        # initialize the optimizer\n",
    "        _kwargs = {} if optimizer_kwargs is None else optimizer_kwargs\n",
    "        self._optimizer = optim.Adam(self._policy.parameters(), **_kwargs)\n",
    "        \n",
    "        # converts GymState with shape (n_states,) to torch.Tensor with shape (1, n_states)\n",
    "        if preprocessing_fn is None:\n",
    "            self._preprocessing_fn = lambda state: torch.Tensor(state).unsqueeze(dim=0) \n",
    "        else:\n",
    "            self._preprocessing_fn = preprocessing_fn\n",
    "            \n",
    "        if seed is None:\n",
    "            self._random_state = np.random.RandomState()\n",
    "        else:\n",
    "            self._random_state = np.random.RandomState(seed)\n",
    "            torch.manual_seed(seed)\n",
    "            \n",
    "            # if using CUDA need to set cuDNN flags\n",
    "            if torch.cuda.is_available():\n",
    "                torch.backends.cudnn.deterministic = True\n",
    "                torch.backends.cudnn.benchmark = False\n",
    "        \n",
    "    def __call__(self, state: GymState) -> Action:\n",
    "        \"\"\"Apply the current policy function to the state and returns the action.\"\"\"\n",
    "        state_tensor = (self._preprocessing_fn(state)\n",
    "                            .to(self._device))\n",
    "        sampling_probs = (F.softmax(self._policy(state_tensor), dim=-1)\n",
    "                           .cpu())\n",
    "        if self._is_deterministic:\n",
    "            action = (sampling_probs.argmax()\n",
    "                                    .item())\n",
    "        else:\n",
    "            sampling_dist = distributions.Categorical(sampling_probs)\n",
    "            action = (sampling_dist.sample()\n",
    "                                   .item())\n",
    "        return action\n",
    "\n",
    "    def step(self,\n",
    "             state: GymState,\n",
    "             action: Action,\n",
    "             reward: Reward,\n",
    "             next_state: GymState,\n",
    "             done: Done) -> None:\n",
    "        \"\"\"\n",
    "        Updates the agent's state based on feedback received from the environment.\n",
    "        \n",
    "        Parameters:\n",
    "        -----------\n",
    "        state (np.array): the previous state of the environment.\n",
    "        action (int): the action taken by the agent in the previous state.\n",
    "        reward (float): the reward received from the environment.\n",
    "        next_state (np.array): the resulting state of the environment following the action.\n",
    "        done (bool): True is the training episode is finised; false otherwise.\n",
    "        \n",
    "        \"\"\"\n",
    "        # need to store log_probs, actions, and rewards for each timestep\n",
    "        state_tensor = (self._preprocessing_fn(state)\n",
    "                            .to(self._device))\n",
    "        log_probs = F.log_softmax(self._policy(state_tensor), dim=-1)\n",
    "        current_episode = self._episode_history[-1] \n",
    "        current_episode[\"log_probs\"].append(log_probs)\n",
    "        current_episode[\"actions\"].append(action)\n",
    "        current_episode[\"rewards\"].append(reward)\n",
    "        \n",
    "        if done:\n",
    "            \n",
    "            # compute and record the loss for the current episode\n",
    "            R = sum(self._gamma**t * reward for t, reward in enumerate(current_episode[\"rewards\"]))\n",
    "            _input = (torch.cat(current_episode[\"log_probs\"], dim=0)\n",
    "                           .to(self._device))\n",
    "            _target = (torch.tensor(current_episode[\"actions\"])\n",
    "                            .to(self._device))\n",
    "            episode_loss = (F.nll_loss(_input, _target, reduction=\"sum\")\n",
    "                             .unsqueeze(dim=0)) # required in order to cat episode losses\n",
    "            self._episode_losses.append(R * episode_loss)\n",
    "            \n",
    "            # possible to parallelize this!\n",
    "            if len(self._episode_history) == self._minibatch_size:\n",
    "                \n",
    "                # after collecting a minibatch of episodes compute the average loss\n",
    "                average_loss = (torch.cat(self._episode_losses, dim=0)\n",
    "                                     .mean(dim=0))\n",
    "\n",
    "                # update the parameters using gradient descent\n",
    "                self._optimizer.zero_grad()\n",
    "                average_loss.backward()\n",
    "                self._optimizer.step()\n",
    "\n",
    "                # reset the episode history and losses for the next minibatch\n",
    "                self._episode_history = [collections.defaultdict(lambda: [])]\n",
    "                self._episode_losses = []\n",
    "            \n",
    "            else:\n",
    "                # need to add a new dict to record the next episode's history\n",
    "                self._episode_history.append(collections.defaultdict(lambda: []))\n",
    "        "
   ]
  },
  {
   "cell_type": "markdown",
   "metadata": {},
   "source": [
    "## Training Loop"
   ]
  },
  {
   "cell_type": "code",
   "execution_count": 106,
   "metadata": {},
   "outputs": [],
   "source": [
    "import collections\n",
    "\n",
    "import gym\n",
    "\n",
    "\n",
    "Score = float\n",
    "\n",
    "\n",
    "def _train_for_at_most(agent: GymAgent, env: gym.Env, max_timesteps: int) -> Score:\n",
    "    \"\"\"Train the Agent for a maximum number of timesteps.\"\"\"\n",
    "    state = env.reset()\n",
    "    rewards = []\n",
    "    for t in range(max_timesteps):\n",
    "        action = agent(state)\n",
    "        next_state, reward, done, _ = env.step(action)\n",
    "        agent.step(state, action, reward, next_state, done)\n",
    "        state = next_state\n",
    "        rewards.append(reward)\n",
    "        if done:\n",
    "            break\n",
    "    return sum(rewards)\n",
    "\n",
    "                \n",
    "def _train_until_done(agent: GymAgent, env: gym.Env) -> Score:\n",
    "    \"\"\"Train the Agent until the current episode is complete.\"\"\"\n",
    "    state = env.reset()\n",
    "    rewards = []\n",
    "    done = False\n",
    "    while not done:\n",
    "        action = agent(state)\n",
    "        next_state, reward, done, _ = env.step(action)\n",
    "        agent.step(state, action, reward, next_state, done)\n",
    "        state = next_state\n",
    "        rewards.append(reward)\n",
    "    return sum(rewards)\n",
    "\n",
    "\n",
    "def train(agent: GymAgent,\n",
    "          env: gym.Env,\n",
    "          target_score: Score,\n",
    "          number_episodes: int,\n",
    "          maximum_timesteps: typing.Optional[int] = None,\n",
    "          verbose: bool = False) -> typing.List[Score]:\n",
    "    \"\"\"Train and Agent to solve a given environment.\"\"\"\n",
    "    scores = []\n",
    "    most_recent_scores = collections.deque(maxlen=100)\n",
    "    for i in range(number_episodes):\n",
    "        if maximum_timesteps is None:\n",
    "            score = _train_until_done(agent, env)\n",
    "        else:\n",
    "            score = _train_for_at_most(agent, env, maximum_timesteps)         \n",
    "        scores.append(score)\n",
    "        most_recent_scores.append(score)\n",
    "        \n",
    "        average_score = sum(most_recent_scores) / len(most_recent_scores)\n",
    "        if len(most_recent_scores) >=100 and average_score >= target_score:\n",
    "            if verbose:\n",
    "                print(f\"\\nEnvironment solved in {i:d} episodes!\\tAverage Score: {average_score:.2f}\")\n",
    "            break\n",
    "        if verbose and (i + 1) % 100 == 0:\n",
    "            print(f\"\\rEpisode {i + 1}\\tAverage Score: {average_score:.2f}\")\n",
    "\n",
    "    return scores\n"
   ]
  },
  {
   "cell_type": "code",
   "execution_count": 75,
   "metadata": {},
   "outputs": [],
   "source": [
    "import matplotlib.pyplot as plt\n",
    "from IPython import display\n",
    "\n",
    "\n",
    "def simulate(agent: GymAgent, env: gym.Env, ax: plt.Axes) -> None:\n",
    "    state = env.reset()\n",
    "    img = ax.imshow(env.render(mode='rgb_array'))\n",
    "    done = False\n",
    "    while not done:\n",
    "        action = agent(state)\n",
    "        img.set_data(env.render(mode='rgb_array')) \n",
    "        plt.axis('off')\n",
    "        display.display(plt.gcf())\n",
    "        display.clear_output(wait=True)\n",
    "        state, reward, done, _ = env.step(action)       \n",
    "    env.close()"
   ]
  },
  {
   "cell_type": "markdown",
   "metadata": {},
   "source": [
    "# CartPole environment\n",
    "\n",
    "The [CartPole](https://gym.openai.com/envs/CartPole-v0/) is a classic RL problem. A pole is attached by an un-actuated joint to a cart which moves along a frictionless track. The system is controlled by applying a force of +1 or -1 to the cart. The pole starts upright, and the goal is to prevent it from falling over. A reward of +1 is provided for every timestep that the pole remains upright. The episode ends when the pole is more than 15 degrees from vertical, or the cart moves more than 2.4 units from the center.\n",
    "\n",
    "In the cell below I define a function that takes the number of actions and number of states as inputs and returns a `PolicyFn`. In this case the defined policy amounts to performing logistic regression. The policy takes a state vector as its input and predicts the probabilities of moving left or right. Note that I do not include a bias term: if the state vector is the zero vector, then our policy should be to neither move left nor right."
   ]
  },
  {
   "cell_type": "markdown",
   "metadata": {},
   "source": [
    "## Performance of a trained `ReinforceAgent`"
   ]
  },
  {
   "cell_type": "code",
   "execution_count": 141,
   "metadata": {},
   "outputs": [],
   "source": [
    "def make_policy_fn(number_actions, number_hidden_units, number_states) -> PolicyFn:\n",
    "    \n",
    "    def policy_fn() -> Policy:\n",
    "        policy = nn.Sequential(\n",
    "            nn.Linear(number_states, number_hidden_units, bias=False),\n",
    "            nn.ReLU(),\n",
    "            nn.Linear(number_hidden_units, number_actions)\n",
    "        )\n",
    "        return policy\n",
    "    \n",
    "    return policy_fn\n"
   ]
  },
  {
   "cell_type": "code",
   "execution_count": 151,
   "metadata": {},
   "outputs": [],
   "source": [
    "_seed = 42\n",
    "env = gym.make('CartPole-v0')\n",
    "env.seed(_seed)\n",
    "\n",
    "NUMBER_ACTIONS = env.action_space.n\n",
    "NUMBER_STATES, = env.observation_space.shape\n",
    "_policy_fn = make_policy_fn(NUMBER_ACTIONS, 16, NUMBER_STATES)\n",
    "\n",
    "_optimizer_kwargs = {\n",
    "    \"lr\": 1e-2,\n",
    "}\n",
    "reinforce_agent = ReinforceAgent(_policy_fn,\n",
    "                                 minibatch_size=1,\n",
    "                                 optimizer_kwargs=_optimizer_kwargs,\n",
    "                                 seed=_seed)"
   ]
  },
  {
   "cell_type": "code",
   "execution_count": 152,
   "metadata": {},
   "outputs": [
    {
     "name": "stdout",
     "output_type": "stream",
     "text": [
      "Episode 100\tAverage Score: 38.66\n",
      "Episode 200\tAverage Score: 68.59\n",
      "Episode 300\tAverage Score: 100.78\n",
      "Episode 400\tAverage Score: 132.04\n",
      "\n",
      "Environment solved in 480 episodes!\tAverage Score: 195.10\n"
     ]
    }
   ],
   "source": [
    "scores = train(reinforce_agent, env, number_episodes=1000, target_score=195.0, verbose=True)"
   ]
  },
  {
   "cell_type": "code",
   "execution_count": 155,
   "metadata": {},
   "outputs": [
    {
     "data": {
      "text/plain": [
       "[Text(0, 0.5, 'Score'), Text(0.5, 0, 'Number of episodes')]"
      ]
     },
     "execution_count": 155,
     "metadata": {},
     "output_type": "execute_result"
    },
    {
     "data": {
      "image/png": "[encoded data removed]",
      "text/plain": [
       "<Figure size 720x432 with 1 Axes>"
      ]
     },
     "metadata": {
      "needs_background": "light"
     },
     "output_type": "display_data"
    }
   ],
   "source": [
    "fig, ax = plt.subplots(1, 1, figsize=(10,6)) \n",
    "ax.plot(scores)\n",
    "_ = ax.set(xlabel=\"Number of episodes\", ylabel=\"Score\")"
   ]
  },
  {
   "cell_type": "code",
   "execution_count": 153,
   "metadata": {},
   "outputs": [
    {
     "data": {
      "image/png": "[encoded data removed]",
      "text/plain": [
       "<Figure size 720x576 with 1 Axes>"
      ]
     },
     "metadata": {
      "needs_background": "light"
     },
     "output_type": "display_data"
    }
   ],
   "source": [
    "_, ax = plt.subplots(1, 1, figsize=(10, 8))\n",
    "simulate(reinforce_agent, env, ax)"
   ]
  },
  {
   "cell_type": "code",
   "execution_count": 157,
   "metadata": {},
   "outputs": [],
   "source": [
    "_seed = None\n",
    "env = gym.make('CartPole-v0')\n",
    "env.seed(_seed)\n",
    "\n",
    "_policy_fn = make_policy_fn(NUMBER_ACTIONS, 16, NUMBER_STATES)\n",
    "\n",
    "_optimizer_kwargs = {\n",
    "    \"lr\": 1e-2,\n",
    "}\n",
    "\n",
    "episode_scores = []\n",
    "number_required_episodes = []\n",
    "for t in range(100):\n",
    "    reinforce_agent = ReinforceAgent(_policy_fn,\n",
    "                                     minibatch_size=1,\n",
    "                                     optimizer_kwargs=_optimizer_kwargs,\n",
    "                                     seed=_seed)\n",
    "    scores = train(reinforce_agent, env, target_score=195.0, number_episodes=1000)\n",
    "    episode_scores.append(scores)\n",
    "    number_required_episodes.append(len(scores))\n"
   ]
  },
  {
   "cell_type": "code",
   "execution_count": 165,
   "metadata": {},
   "outputs": [
    {
     "data": {
      "image/png": "[encoded data removed]",
      "text/plain": [
       "<Figure size 432x288 with 1 Axes>"
      ]
     },
     "metadata": {
      "needs_background": "light"
     },
     "output_type": "display_data"
    }
   ],
   "source": [
    "fig, ax = plt.subplots(1, 1)\n",
    "_ = ax.hist(number_required_episodes)\n",
    "_ = ax.set(xlabel=\"Number of episodes\",\n",
    "           ylabel=\"Number of training runs\",\n",
    "           title=\"Number of episodes required to solve\")"
   ]
  },
  {
   "cell_type": "code",
   "execution_count": 173,
   "metadata": {},
   "outputs": [
    {
     "name": "stdout",
     "output_type": "stream",
     "text": [
      "observation space: Box(4,)\n",
      "action space: Discrete(2)\n"
     ]
    }
   ],
   "source": [
    "env = gym.make('CartPole-v0')\n",
    "env.seed(0)\n",
    "torch.manual_seed(0) # set random seed\n",
    "\n",
    "print('observation space:', env.observation_space)\n",
    "print('action space:', env.action_space)\n",
    "\n",
    "device = torch.device(\"cuda:0\" if torch.cuda.is_available() else \"cpu\")\n",
    "\n",
    "class Policy(nn.Module):\n",
    "    def __init__(self, s_size=4, h_size=16, a_size=2):\n",
    "        super(Policy, self).__init__()\n",
    "        self.fc1 = nn.Linear(s_size, h_size)\n",
    "        self.fc2 = nn.Linear(h_size, a_size)\n",
    "\n",
    "    def forward(self, x):\n",
    "        x = F.relu(self.fc1(x))\n",
    "        x = self.fc2(x)\n",
    "        return F.softmax(x, dim=1)\n",
    "    \n",
    "    def act(self, state):\n",
    "        state = torch.from_numpy(state).float().unsqueeze(0).to(device)\n",
    "        probs = self.forward(state).cpu()\n",
    "        m = distributions.Categorical(probs)\n",
    "        action = m.sample()\n",
    "        return action.item(), m.log_prob(action)"
   ]
  },
  {
   "cell_type": "code",
   "execution_count": 174,
   "metadata": {},
   "outputs": [
    {
     "name": "stdout",
     "output_type": "stream",
     "text": [
      "Episode 100\tAverage Score: 34.47\n",
      "Episode 200\tAverage Score: 66.26\n",
      "Episode 300\tAverage Score: 87.82\n",
      "Episode 400\tAverage Score: 72.83\n",
      "Episode 500\tAverage Score: 172.00\n",
      "Episode 600\tAverage Score: 160.65\n",
      "Episode 700\tAverage Score: 167.15\n",
      "Environment solved in 691 episodes!\tAverage Score: 196.69\n"
     ]
    }
   ],
   "source": [
    "def reinforce(env: gym.Env,\n",
    "              agent_kwargs: dict,\n",
    "              target_score: float,\n",
    "              number_episodes: int = 2,\n",
    "              minibatch_size: int = 5,\n",
    "              number_iterations: int = 150,\n",
    "              verbose: bool = False):\n",
    "    agents = [ReinforceAgent(**agent_kwargs) for _ in range(minibatch_size)]\n",
    "    scores = []\n",
    "    most_recent_scores = collections.deque(maxlen=100)\n",
    "    \n",
    "    for i in range(number_iterations):\n",
    "        # train each hillclimber for some number of episodes (this can be done in parallel)\n",
    "        _ = [train(agents, env, float(\"inf\"), 1, verbose=verbose) for agent in agents]\n",
    "\n",
    "        average_loss = compute_average_loss(agents)\n",
    "        \n",
    "        # if not solved, then synchronize the hill climbers and repeat\n",
    "        average_score = sum(most_recent_scores) / len(most_recent_scores)\n",
    "        if len(most_recent_scores) >= 100 and average_score >= target_score:\n",
    "            if verbose:\n",
    "                print(f\"\\nEnvironment solved in {i:d} iterations!\\tAverage Score: {average_score:.2f}\")\n",
    "            break\n",
    "        else:\n",
    "            synchronize_hillclimbers(hillclimbers, best_hillclimber._best_policy_state_dict)\n",
    "    \n",
    "    return scores, best_hillclimber"
   ]
  },
  {
   "cell_type": "code",
   "execution_count": 176,
   "metadata": {},
   "outputs": [
    {
     "name": "stdout",
     "output_type": "stream",
     "text": [
      "Episode 1000\tAverage Score: 124.08\n",
      "Environment solved in 530 episodes!\tAverage Score: 195.87\n",
      "Environment solved in 647 episodes!\tAverage Score: 195.07\n",
      "Episode 1000\tAverage Score: 91.43\n",
      "Environment solved in 740 episodes!\tAverage Score: 195.39\n",
      "Environment solved in 786 episodes!\tAverage Score: 195.96\n",
      "Environment solved in 733 episodes!\tAverage Score: 195.61\n",
      "Environment solved in 845 episodes!\tAverage Score: 195.07\n",
      "Episode 1000\tAverage Score: 94.45\n",
      "Environment solved in 776 episodes!\tAverage Score: 195.22\n",
      "Episode 1000\tAverage Score: 80.18\n",
      "Episode 1000\tAverage Score: 18.65\n",
      "Episode 1000\tAverage Score: 99.22\n",
      "Episode 1000\tAverage Score: 77.06\n",
      "Episode 1000\tAverage Score: 75.37\n",
      "Environment solved in 569 episodes!\tAverage Score: 195.56\n",
      "Episode 1000\tAverage Score: 152.69\n",
      "Episode 1000\tAverage Score: 67.95\n",
      "Episode 1000\tAverage Score: 103.57\n",
      "Episode 1000\tAverage Score: 171.31\n",
      "Environment solved in 800 episodes!\tAverage Score: 195.64\n",
      "Episode 1000\tAverage Score: 81.84\n",
      "Environment solved in 662 episodes!\tAverage Score: 195.94\n",
      "Episode 1000\tAverage Score: 179.56\n",
      "Episode 1000\tAverage Score: 154.36\n",
      "Environment solved in 843 episodes!\tAverage Score: 195.31\n",
      "Episode 1000\tAverage Score: 100.60\n",
      "Environment solved in 507 episodes!\tAverage Score: 195.02\n",
      "Episode 1000\tAverage Score: 184.76\n",
      "Episode 1000\tAverage Score: 134.90\n",
      "Episode 1000\tAverage Score: 90.44\n",
      "Environment solved in 494 episodes!\tAverage Score: 195.22\n",
      "Environment solved in 624 episodes!\tAverage Score: 195.10\n",
      "Environment solved in 749 episodes!\tAverage Score: 195.68\n",
      "Environment solved in 629 episodes!\tAverage Score: 195.15\n",
      "Episode 1000\tAverage Score: 54.85\n",
      "Environment solved in 787 episodes!\tAverage Score: 195.32\n",
      "Episode 1000\tAverage Score: 137.05\n",
      "Episode 1000\tAverage Score: 88.83\n",
      "Episode 1000\tAverage Score: 97.82\n",
      "Environment solved in 836 episodes!\tAverage Score: 195.37\n",
      "Episode 1000\tAverage Score: 59.18\n",
      "Environment solved in 468 episodes!\tAverage Score: 195.42\n",
      "Environment solved in 594 episodes!\tAverage Score: 195.16\n",
      "Episode 1000\tAverage Score: 139.53\n",
      "Episode 1000\tAverage Score: 87.91\n",
      "Episode 1000\tAverage Score: 89.97\n",
      "Episode 1000\tAverage Score: 63.89\n",
      "Episode 1000\tAverage Score: 61.90\n",
      "Environment solved in 566 episodes!\tAverage Score: 195.04\n",
      "Environment solved in 829 episodes!\tAverage Score: 195.25\n",
      "Episode 1000\tAverage Score: 40.55\n",
      "Episode 1000\tAverage Score: 99.44\n",
      "Environment solved in 617 episodes!\tAverage Score: 195.11\n",
      "Episode 1000\tAverage Score: 120.07\n",
      "Episode 1000\tAverage Score: 90.74\n",
      "Episode 1000\tAverage Score: 126.79\n",
      "Episode 1000\tAverage Score: 109.09\n",
      "Environment solved in 651 episodes!\tAverage Score: 196.34\n",
      "Episode 1000\tAverage Score: 28.95\n",
      "Episode 1000\tAverage Score: 72.99\n",
      "Episode 1000\tAverage Score: 59.14\n",
      "Episode 1000\tAverage Score: 88.64\n",
      "Episode 1000\tAverage Score: 58.98\n",
      "Episode 1000\tAverage Score: 93.78\n",
      "Episode 1000\tAverage Score: 97.38\n",
      "Environment solved in 591 episodes!\tAverage Score: 195.10\n",
      "Episode 1000\tAverage Score: 98.04\n",
      "Environment solved in 796 episodes!\tAverage Score: 195.60\n",
      "Episode 1000\tAverage Score: 71.25\n",
      "Episode 1000\tAverage Score: 129.13\n",
      "Episode 1000\tAverage Score: 89.00\n",
      "Environment solved in 696 episodes!\tAverage Score: 195.37\n",
      "Episode 1000\tAverage Score: 50.29\n",
      "Episode 1000\tAverage Score: 91.09\n",
      "Episode 1000\tAverage Score: 67.95\n",
      "Environment solved in 854 episodes!\tAverage Score: 195.78\n",
      "Episode 1000\tAverage Score: 117.79\n",
      "Environment solved in 419 episodes!\tAverage Score: 195.81\n",
      "Episode 1000\tAverage Score: 104.71\n",
      "Environment solved in 542 episodes!\tAverage Score: 195.29\n",
      "Episode 1000\tAverage Score: 64.52\n",
      "Episode 1000\tAverage Score: 77.96\n",
      "Episode 1000\tAverage Score: 100.77\n",
      "Environment solved in 885 episodes!\tAverage Score: 195.75\n",
      "Episode 1000\tAverage Score: 74.87\n",
      "Environment solved in 818 episodes!\tAverage Score: 195.01\n",
      "Episode 1000\tAverage Score: 53.00\n",
      "Episode 1000\tAverage Score: 119.65\n",
      "Episode 1000\tAverage Score: 135.22\n",
      "Episode 1000\tAverage Score: 74.68\n",
      "Episode 1000\tAverage Score: 54.98\n",
      "Episode 1000\tAverage Score: 135.65\n",
      "Episode 1000\tAverage Score: 160.99\n",
      "Environment solved in 548 episodes!\tAverage Score: 195.48\n",
      "Episode 1000\tAverage Score: 52.64\n",
      "Episode 1000\tAverage Score: 167.17\n",
      "Episode 1000\tAverage Score: 85.95\n",
      "Episode 1000\tAverage Score: 71.03\n",
      "Episode 1000\tAverage Score: 48.23\n"
     ]
    }
   ],
   "source": [
    "_seed = None\n",
    "env = gym.make('CartPole-v0')\n",
    "env.seed(_seed)\n",
    "\n",
    "episode_scores = []\n",
    "number_required_episodes = []\n",
    "for t in range(100):\n",
    "    policy = Policy().to(device)\n",
    "    optimizer = optim.Adam(policy.parameters(), lr=1e-2)\n",
    "\n",
    "    scores = reinforce(print_every=1000)\n",
    "    episode_scores.append(scores)\n",
    "    number_required_episodes.append(len(scores))\n"
   ]
  },
  {
   "cell_type": "code",
   "execution_count": 177,
   "metadata": {},
   "outputs": [
    {
     "data": {
      "image/png": "[encoded data removed]",
      "text/plain": [
       "<Figure size 432x288 with 1 Axes>"
      ]
     },
     "metadata": {
      "needs_background": "light"
     },
     "output_type": "display_data"
    }
   ],
   "source": [
    "fig, ax = plt.subplots(1, 1)\n",
    "_ = ax.hist(number_required_episodes)\n",
    "_ = ax.set(xlabel=\"Number of episodes\",\n",
    "           ylabel=\"Number of training runs\",\n",
    "           title=\"Number of episodes required to solve\")"
   ]
  },
  {
   "cell_type": "markdown",
   "metadata": {},
   "source": [
    "## What are the main problems of REINFORCE? There are three issues:\n",
    "\n",
    "* The update process is very inefficient! We run the policy once, update once, and then throw away the trajectory.\n",
    "\n",
    "* The gradient estimate gg is very noisy. By chance the collected trajectory may not be representative of the policy.\n",
    "\n",
    "* There is no clear credit assignment. A trajectory may contain many good/bad actions and whether these actions are reinforced depends only on the final total output.\n",
    "\n",
    "In the following concepts, we will go over ways to improve the REINFORCE algorithm and resolve all 3 issues. All of the improvements will be utilized and implemented in the PPO algorithm."
   ]
  },
  {
   "cell_type": "markdown",
   "metadata": {},
   "source": [
    "## Rewards Normalization\n",
    "\n",
    "There is another bonus for running multiple trajectories: we can collect all the total rewards and get a sense of how they are distributed.\n",
    "\n",
    "In many cases, the distribution of rewards shifts as learning happens. Reward = 1 might be really good in the beginning, but really bad after 1000 training episode.\n",
    "\n",
    "Learning can be improved if we normalize the rewards, where \\muμ is the mean, and \\sigmaσ the standard deviation.\n",
    "\n",
    "R_i \\leftarrow \\frac{R_i -\\mu}{\\sigma} \\qquad \\mu = \\frac{1}{N}\\sum_i^N R_i \\qquad \\sigma = \\sqrt{\\frac{1}{N}\\sum_i (R_i - \\mu)^2}R \n",
    "i\n",
    "​\t ← \n",
    "σ\n",
    "R \n",
    "i\n",
    "​\t −μ\n",
    "​\t μ= \n",
    "N\n",
    "1\n",
    "​\t  \n",
    "i\n",
    "∑\n",
    "N\n",
    "​\t R \n",
    "i\n",
    "​\t σ= \n",
    "N\n",
    "1\n",
    "​\t  \n",
    "i\n",
    "∑\n",
    "​\t (R \n",
    "i\n",
    "​\t −μ) \n",
    "2\n",
    " \n",
    "​\t \n",
    "\n",
    "(when all the R_iR \n",
    "i\n",
    "​\t  are the same, \\sigma =0σ=0, we can set all the normalized rewards to 0 to avoid numerical problems)\n",
    "\n",
    "This batch-normalization technique is also used in many other problems in AI (e.g. image classification), where normalizing the input can improve learning.\n",
    "\n",
    "Intuitively, normalizing the rewards roughly corresponds to picking half the actions to encourage/discourage, while also making sure the steps for gradient ascents are not too large/small."
   ]
  },
  {
   "cell_type": "code",
   "execution_count": null,
   "metadata": {},
   "outputs": [],
   "source": []
  }
 ],
 "metadata": {
  "kernelspec": {
   "display_name": "Python 3",
   "language": "python",
   "name": "python3"
  },
  "language_info": {
   "codemirror_mode": {
    "name": "ipython",
    "version": 3
   },
   "file_extension": ".py",
   "mimetype": "text/x-python",
   "name": "python",
   "nbconvert_exporter": "python",
   "pygments_lexer": "ipython3",
   "version": "3.7.6"
  }
 },
 "nbformat": 4,
 "nbformat_minor": 4
}
