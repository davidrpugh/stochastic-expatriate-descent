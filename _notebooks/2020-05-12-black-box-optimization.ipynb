{
 "cells": [
  {
   "cell_type": "markdown",
   "metadata": {},
   "source": [
    "# Black box optimization for RL\n",
    "> Notes on various approaches to black box optimization used in RL\n",
    "\n",
    "- branch: 2020-05-12-black-box-optimization\n",
    "- badges: true\n",
    "- image: images/???\n",
    "- comments: true\n",
    "- author: David R. Pugh\n",
    "- categories: [pytorch, deep-reinforcement-learning, optimization]"
   ]
  },
  {
   "cell_type": "markdown",
   "metadata": {},
   "source": [
    "### Google Colab Preamble\n",
    "\n",
    "If you are playing around with this notebook on Google Colab, then you will need to run the following cell in order to install the required OpenAI dependencies into the environment."
   ]
  },
  {
   "cell_type": "code",
   "execution_count": null,
   "metadata": {},
   "outputs": [],
   "source": [
    "%%bash\n",
    "\n",
    "# install required system dependencies\n",
    "apt-get install -y xvfb x11-utils\n",
    "\n",
    "# install required python dependencies (might need to install additional gym extras depending)\n",
    "pip install gym[box2d]==0.17.* pyvirtualdisplay==0.2.* PyOpenGL==3.1.* PyOpenGL-accelerate==3.1.*\n"
   ]
  },
  {
   "cell_type": "markdown",
   "metadata": {},
   "source": [
    "The code in the cell below creates a virtual display in the background that your Gym Envs can connect to for rendering. You can adjust the size of the virtual buffer as you like but you must set `visible=False`.\n",
    "\n",
    "**This code only needs to be run once per session to start the display.**"
   ]
  },
  {
   "cell_type": "code",
   "execution_count": null,
   "metadata": {},
   "outputs": [],
   "source": [
    "import pyvirtualdisplay\n",
    "\n",
    "\n",
    "_display = pyvirtualdisplay.Display(visible=False,  # use False with Xvfb\n",
    "                                    size=(1400, 900))\n",
    "_ = _display.start()"
   ]
  },
  {
   "cell_type": "markdown",
   "metadata": {},
   "source": [
    "### Binder Preamble\n",
    "\n",
    "If you are running this code on Binder, then there isn't really much to do as all the software is pre-installed. However you do still need to run the code in the cell below to creates a virtual display in the background that your Gym Envs can connect to for rendering. You can adjust the size of the virtual buffer as you like but you must set `visible=False`.\n",
    "\n",
    "*This code only needs to be run once per session to start the display.*"
   ]
  },
  {
   "cell_type": "code",
   "execution_count": null,
   "metadata": {},
   "outputs": [],
   "source": [
    "import pyvirtualdisplay\n",
    "\n",
    "\n",
    "_display = pyvirtualdisplay.Display(visible=False,  # use False with Xvfb\n",
    "                                    size=(1400, 900))\n",
    "_ = _display.start()"
   ]
  },
  {
   "cell_type": "markdown",
   "metadata": {},
   "source": [
    "# Black-box optimization\n",
    "\n",
    "Black-box optimization is great for proto-typing, or for situations when the objective function is not differentiable."
   ]
  },
  {
   "cell_type": "markdown",
   "metadata": {},
   "source": [
    "## Base RL Agent\n",
    "\n",
    "The code in the cell below defines a base `Agent` class designed to interact with [OpenAI Gym](https://gym.openai.com/) environments. When creating an `Agent` you must specify a `PolicyFn`. A `PolicyFn` is a no-argument function that returns a `Policy`. A `Policy` is a function that takes the environment state is its input and then returns the probabilities of choosing feasible actions. Here I use neural networks implemented in [PyTorch](https://pytorch.org/) as [`torch.nn.Module`](https://pytorch.org/docs/master/generated/torch.nn.Module.html) to represent a `Policy`. \n",
    "\n",
    "can also specify whether the agent should use a deterministic or stochastic policy for choosing actions. With a stochastic policy (which is the default), the agent samples from the probability distribution returned by its current approximate policy function when choosing its action given the state of the environment. With a deterministic policy, meanwhile, the agent always chooses the action with the largest probability mass. "
   ]
  },
  {
   "cell_type": "code",
   "execution_count": 1,
   "metadata": {},
   "outputs": [],
   "source": [
    "import typing\n",
    "\n",
    "import numpy as np\n",
    "import torch\n",
    "from torch import distributions, nn\n",
    "\n",
    "\n",
    "GymState = np.ndarray\n",
    "Policy = nn.Module\n",
    "PolicyFn = typing.Callable[[], Policy]\n",
    "PreprocessingFn = typing.Callable[[GymState], torch.Tensor] \n",
    "Action = int\n",
    "\n",
    "\n",
    "class GymAgent:\n",
    "    \n",
    "    def __init__(self,\n",
    "                 policy_fn: PolicyFn,\n",
    "                 gamma: float = 1.0,\n",
    "                 is_deterministic: bool = False,\n",
    "                 preprocessing_fn: typing.Optional[PreprocessingFn] = None,\n",
    "                 seed: typing.Optional[int] = None):\n",
    "        if torch.cuda.is_available():\n",
    "            self._device = torch.device(\"cuda\") \n",
    "        else:\n",
    "            self._device = torch.device(\"cpu\")\n",
    "        self._gamma = gamma\n",
    "        self._is_deterministic = is_deterministic\n",
    "        self._policy = policy_fn()\n",
    "        _ = self._policy.to(self._device)\n",
    "        \n",
    "        # converts np.ndarray with shape (n_states,) to torch.Tensor with shape (1, n_states)\n",
    "        if preprocessing_fn is None:\n",
    "            self._preprocessing_fn = lambda state: torch.Tensor(state).unsqueeze(dim=0) \n",
    "        else:\n",
    "            self._preprocessing_fn = preprocessing_fn\n",
    "            \n",
    "        if seed is None:\n",
    "            self._random_state = np.random.RandomState()\n",
    "        else:\n",
    "            self._random_state = np.random.RandomState(seed)\n",
    "            torch.manual_seed(seed)\n",
    "            \n",
    "            # if using CUDA need to set cuDNN flags\n",
    "            #if torch.cuda.is_available():\n",
    "            #    torch.backends.cudnn.deterministic = True\n",
    "            #    torch.backends.cudnn.benchmark = False\n",
    "        \n",
    "    def __call__(self, state: GymState) -> Action:\n",
    "        \"\"\"Apply the current policy function to the state and returns the action.\"\"\"\n",
    "        state_tensor = (self._preprocessing_fn(state)\n",
    "                            .to(self._device))\n",
    "        sampling_probs = (self._policy(state_tensor)\n",
    "                              .cpu())\n",
    "        if self._is_deterministic:\n",
    "            action = (sampling_probs.argmax()\n",
    "                                    .item())\n",
    "        else:\n",
    "            sampling_dist = distributions.Categorical(sampling_probs)\n",
    "            action = (sampling_dist.sample()\n",
    "                                   .item())\n",
    "        return action\n",
    "\n",
    "    def evaluate(self, rewards) -> None:\n",
    "        \"\"\"Evaluate rewards generated from following the current policy while interacting with an environment.\"\"\"\n",
    "        raise NotImplementedError\n",
    "        \n",
    "    def load_state_dict(self, state_dict: typing.Dict[str, torch.Tensor]) -> None:\n",
    "        \"\"\"Update the parameters of the policy function using the state_dict.\"\"\"\n",
    "        copied_state_dict = copy.deepcopy(state_dict) # avoid sharing mutable state_dict!\n",
    "        _ = self._policy.load_state_dict(copied_state_dict)\n",
    "        "
   ]
  },
  {
   "cell_type": "markdown",
   "metadata": {},
   "source": [
    "## Training Loop"
   ]
  },
  {
   "cell_type": "code",
   "execution_count": 11,
   "metadata": {},
   "outputs": [],
   "source": [
    "import collections\n",
    "\n",
    "import gym\n",
    "\n",
    "\n",
    "Score = int\n",
    "\n",
    "\n",
    "def _train_for_at_most(agent: GymAgent, env: gym.Env, max_timesteps: int) -> Score:\n",
    "    \"\"\"Train the Agent for a maximum number of timesteps.\"\"\"\n",
    "    state = env.reset()\n",
    "    rewards = []\n",
    "    for t in range(max_timesteps):\n",
    "        action = agent(state)\n",
    "        next_state, reward, done, _ = env.step(action)\n",
    "        state = next_state\n",
    "        rewards.append(reward)\n",
    "        if done:\n",
    "            break\n",
    "    return sum(rewards), rewards\n",
    "\n",
    "                \n",
    "def _train_until_done(agent: GymAgent, env: gym.Env) -> Score:\n",
    "    \"\"\"Train the Agent until the current episode is complete.\"\"\"\n",
    "    state = env.reset()\n",
    "    rewards = []\n",
    "    done = False\n",
    "    while not done:\n",
    "        action = agent(state)\n",
    "        next_state, reward, done, _ = env.step(action)\n",
    "        state = next_state\n",
    "        rewards.append(reward)\n",
    "    return sum(rewards), rewards\n",
    "\n",
    "\n",
    "def train(agent: GymAgent,\n",
    "          env: gym.Env,\n",
    "          target_score: Score,\n",
    "          maximum_episodes: int,\n",
    "          maximum_timesteps: typing.Optional[int] = None,\n",
    "          verbose: bool = False) -> typing.List[Score]:\n",
    "    \"\"\"Train and Agent to solve a given environment.\"\"\"\n",
    "    scores = []\n",
    "    most_recent_scores = collections.deque(maxlen=100)\n",
    "    for i in range(maximum_episodes):\n",
    "        if maximum_timesteps is None:\n",
    "            score, rewards = _train_until_done(agent, env)\n",
    "        else:\n",
    "            score, rewards = _train_for_at_most(agent, env, maximum_timesteps)         \n",
    "        scores.append(score)\n",
    "        most_recent_scores.append(score)\n",
    "        agent.evaluate(rewards)\n",
    "        \n",
    "        average_score = sum(most_recent_scores) / len(most_recent_scores)\n",
    "        if len(most_recent_scores) >=100 and average_score >= target_score:\n",
    "            if verbose:\n",
    "                print(f\"\\nEnvironment solved in {i:d} episodes!\\tAverage Score: {average_score:.2f}\")\n",
    "            break\n",
    "        if verbose and (i + 1) % 100 == 0:\n",
    "            print(f\"\\rEpisode {i + 1}\\tAverage Score: {average_score:.2f}\")\n",
    "\n",
    "    return scores\n"
   ]
  },
  {
   "cell_type": "code",
   "execution_count": 3,
   "metadata": {},
   "outputs": [],
   "source": [
    "import matplotlib.pyplot as plt\n",
    "from IPython import display\n",
    "\n",
    "\n",
    "def simulate(agent: GymAgent, env: gym.Env, ax: plt.Axes) -> None:\n",
    "    state = env.reset()\n",
    "    img = ax.imshow(env.render(mode='rgb_array'))\n",
    "    done = False\n",
    "    while not done:\n",
    "        action = agent(state)\n",
    "        img.set_data(env.render(mode='rgb_array')) \n",
    "        plt.axis('off')\n",
    "        display.display(plt.gcf())\n",
    "        display.clear_output(wait=True)\n",
    "        state, reward, done, _ = env.step(action)       \n",
    "    env.close()"
   ]
  },
  {
   "cell_type": "markdown",
   "metadata": {},
   "source": [
    "# CartPole environment\n",
    "\n",
    "The [CartPole](https://gym.openai.com/envs/CartPole-v0/) is a classic RL problem. A pole is attached by an un-actuated joint to a cart which moves along a frictionless track. The system is controlled by applying a force of +1 or -1 to the cart. The pole starts upright, and the goal is to prevent it from falling over. A reward of +1 is provided for every timestep that the pole remains upright. The episode ends when the pole is more than 15 degrees from vertical, or the cart moves more than 2.4 units from the center.\n",
    "\n",
    "In the cell below I define a function that takes the number of actions and number of states as inputs and returns a `PolicyFn`. In this case the defined policy amounts to performing logistic regression. The policy takes a state vector as its input and predicts the probabilities of moving left or right. Note that I do not include a bias term: if the state vector is the zero vector, then our policy should be to neither move left nor right."
   ]
  },
  {
   "cell_type": "markdown",
   "metadata": {},
   "source": [
    "# Algorithms\n",
    "\n",
    "## Hill-climbing\n",
    "\n",
    "A [Hill-climbing algorithm](https://en.wikipedia.org/wiki/Hill_climbing) is a mathematical optimization technique. It is an iterative algorithm that starts with an arbitrary (typically random) solution to a problem, then attempts to find a better solution by making an incremental change to the existing solution. If the change produces a better solution, another incremental change is made to the new solution, and so on until no further improvements can be found.\n",
    "\n",
    "The code in the cell below defines a `HillClimber` agent that uses a neural network to parameterize an approximate policy function which return the probability of choosing each of a discrete number of actions given the current state of its environment. The agent will keep track of the \"best\" policy function parameters as measured by the total (discounted) rewards achieved from following that policy while intereacting with its environment. During an iteration of the training algorithm the agent randomly updates the current \"best\" parameters and then uses the resulting policy function to interact with its environment and generate more rewards. If the performance of the agent improves, then the agent updates its \"best\" parameters accordingly; if the agent's performance degrades, then the agent resets the current parameters to their previous \"best\" values."
   ]
  },
  {
   "cell_type": "code",
   "execution_count": 4,
   "metadata": {},
   "outputs": [],
   "source": [
    "import copy\n",
    "\n",
    "\n",
    "class HillClimber(GymAgent):\n",
    "    \n",
    "    def __init__(self,\n",
    "                 policy_fn: PolicyFn,\n",
    "                 gamma: float = 1.0,\n",
    "                 is_deterministic: bool = False,\n",
    "                 preprocessing_fn: typing.Optional[PreprocessingFn] = None,\n",
    "                 seed: typing.Optional[int] = None,\n",
    "                 sigma: float = 1.0):\n",
    "        super().__init__(policy_fn, gamma, is_deterministic, preprocessing_fn, seed)\n",
    "        self._max_discounted_reward = -float(\"inf\")\n",
    "        copied_state_dict = copy.deepcopy(self._policy.state_dict()) # avoid storing mutable state!\n",
    "        self._best_policy_state_dict = copied_state_dict \n",
    "        self._sigma = sigma\n",
    "        \n",
    "    def __ge__(self, other):\n",
    "        return not self.__lt__(other)\n",
    "    \n",
    "    def __lt__(self, other):\n",
    "        return self._max_discounted_reward < other._max_discounted_reward\n",
    "\n",
    "    @property\n",
    "    def best_policy_state_dict(self):\n",
    "        \"\"\"The state_dict parameterizing the best policy function found thus far.\"\"\"\n",
    "        return self._best_policy_state_dict\n",
    "    \n",
    "    @property\n",
    "    def score(self):\n",
    "        \"\"\"The maximum discounted reward achieved thus far.\"\"\"\n",
    "        return self._max_discounted_reward\n",
    "    \n",
    "    def evaluate(self, rewards):\n",
    "        \"\"\"Evaluate rewards generated from following the current policy when interacting with an environment.\"\"\"\n",
    "        discounted_reward = sum(self._gamma**i * reward for i, reward in enumerate(rewards))\n",
    "        if discounted_reward >= self._max_discounted_reward:\n",
    "            self._max_discounted_reward = discounted_reward\n",
    "            copied_state_dict = copy.deepcopy(self._policy.state_dict()) # avoid storing mutable state!\n",
    "            self._best_policy_state_dict = copied_state_dict           \n",
    "        else:\n",
    "            _ = self.load_state_dict(self._best_policy_state_dict)\n",
    "        with torch.no_grad():\n",
    "            for parameter in self._policy.parameters():\n",
    "                parameter.add_(torch.randn_like(parameter), alpha=self._sigma)\n"
   ]
  },
  {
   "cell_type": "markdown",
   "metadata": {},
   "source": [
    "## Performance of an untrained `HillClimber`"
   ]
  },
  {
   "cell_type": "code",
   "execution_count": 10,
   "metadata": {},
   "outputs": [
    {
     "data": {
      "image/png": "[encoded data removed]",
      "text/plain": [
       "<Figure size 720x576 with 1 Axes>"
      ]
     },
     "metadata": {
      "needs_background": "light"
     },
     "output_type": "display_data"
    }
   ],
   "source": [
    "_, ax = plt.subplots(1, 1, figsize=(10, 8))\n",
    "simulate(hillclimber, env, ax)"
   ]
  },
  {
   "cell_type": "markdown",
   "metadata": {},
   "source": [
    "## Performance of a trained `Hillclimber`"
   ]
  },
  {
   "cell_type": "code",
   "execution_count": 5,
   "metadata": {},
   "outputs": [],
   "source": [
    "def make_policy_fn(number_actions, number_states) -> PolicyFn:\n",
    "    \n",
    "    def policy_fn() -> Policy:\n",
    "        policy = nn.Sequential(\n",
    "            nn.Linear(number_states, number_actions, bias=False),\n",
    "            nn.Softmax(dim=-1)\n",
    "        )\n",
    "        return policy\n",
    "    \n",
    "    return policy_fn\n"
   ]
  },
  {
   "cell_type": "code",
   "execution_count": null,
   "metadata": {},
   "outputs": [],
   "source": [
    "NUMBER_ACTIONS = env.action_space.n\n",
    "NUMBER_STATES, = env.observation_space.shape"
   ]
  },
  {
   "cell_type": "code",
   "execution_count": 21,
   "metadata": {},
   "outputs": [
    {
     "name": "stdout",
     "output_type": "stream",
     "text": [
      "Episode 100\tAverage Score: 151.17\n",
      "Episode 200\tAverage Score: 145.24\n",
      "Episode 300\tAverage Score: 165.94\n",
      "Episode 400\tAverage Score: 169.29\n",
      "Episode 500\tAverage Score: 180.09\n",
      "\n",
      "Environment solved in 526 episodes!\tAverage Score: 195.39\n",
      "CPU times: user 10.1 s, sys: 30 ms, total: 10.1 s\n",
      "Wall time: 10.1 s\n"
     ]
    }
   ],
   "source": [
    "%%time\n",
    "_seed = 42\n",
    "env = gym.make('CartPole-v0')\n",
    "env.seed(_seed)\n",
    "\n",
    "_policy_fn = make_policy_fn(NUMBER_ACTIONS, NUMBER_STATES)\n",
    "hillclimber = HillClimber(policy_fn=_policy_fn, seed=_seed)\n",
    "scores = train(hillclimber, env, target_score=195.0, maximum_episodes=1000, verbose=True)"
   ]
  },
  {
   "cell_type": "markdown",
   "metadata": {},
   "source": [
    "The `Hillclimber` requires almost 700 episodes of training to solve the environment. Seems slow but perhaps this training run is not representative of the typical performance of the algorithm. The following code simulates  "
   ]
  },
  {
   "cell_type": "code",
   "execution_count": 29,
   "metadata": {},
   "outputs": [
    {
     "name": "stdout",
     "output_type": "stream",
     "text": [
      "CPU times: user 1.16 s, sys: 68.9 ms, total: 1.23 s\n",
      "Wall time: 3min 2s\n"
     ]
    }
   ],
   "source": [
    "%%time\n",
    "import joblib\n",
    "import multiprocessing\n",
    "\n",
    "\n",
    "env = gym.make('CartPole-v0')\n",
    "\n",
    "hillclimber_kwargs = {\n",
    "    \"policy_fn\": make_policy_fn(NUMBER_ACTIONS, NUMBER_STATES),\n",
    "    \"gamma\": 1.0,\n",
    "    \"is_deterministic\": False,\n",
    "    \"preprocessing_fn\": None,\n",
    "    \"seed\": None,\n",
    "    \"sigma\": 1.0\n",
    "}\n",
    "\n",
    "\n",
    "def simulate_hillclimber():\n",
    "    hillclimber = HillClimber(**hillclimber_kwargs)\n",
    "    scores = train(hillclimber, env, target_score=195.0, maximum_episodes=1000)\n",
    "    return scores\n",
    "\n",
    "\n",
    "n_jobs = multiprocessing.cpu_count()\n",
    "n_hillclimbers = 100\n",
    "hillclimber_results = joblib.Parallel(n_jobs)(joblib.delayed(simulate_hillclimber)() for _ in range(n_hillclimbers))    "
   ]
  },
  {
   "cell_type": "code",
   "execution_count": 36,
   "metadata": {},
   "outputs": [
    {
     "data": {
      "image/png": "[encoded data removed]",
      "text/plain": [
       "<Figure size 432x288 with 1 Axes>"
      ]
     },
     "metadata": {
      "needs_background": "light"
     },
     "output_type": "display_data"
    }
   ],
   "source": [
    "fig, ax = plt.subplots(1, 1)\n",
    "\n",
    "hillclimber_required_episodes = [len(scores) for scores in hillclimber_results]\n",
    "_ = ax.hist(hillclimber_required_episodes)\n",
    "_ = ax.set(xlabel=\"Number of episodes\",\n",
    "           ylabel=\"Number of training runs\",\n",
    "           title=\"Number of episodes required to solve\")"
   ]
  },
  {
   "cell_type": "markdown",
   "metadata": {},
   "source": [
    "## Improving hill-climing using adaptive noise scaling"
   ]
  },
  {
   "cell_type": "markdown",
   "metadata": {},
   "source": [
    "As you can see from the above histogram, a basic hill-climbing algorithm is not terribly robust: basic hill-climbing often takes a long time to solve the environment and sometimes outright fails to find a solution even after 1000 episodes.\n",
    "\n",
    "Many improvements to the basic hill-climbing algorithm have been developed over the years. One simple improvement called adaptive noise scaling rescales the noise in the parameter updates depending on the performance of the `Hillclimber` agent. If the `HillClimber` agent's previous random parameter update improved its performance, then the amount of noise used in the next parameter update is decreased (leading to less local exploration of the objective function); if the `HillClimber` agent's performance degraded following the previous random update, then the amount of noise used in the next parameter update is increased (leading to more local exporation of the objective function)."
   ]
  },
  {
   "cell_type": "code",
   "execution_count": 37,
   "metadata": {},
   "outputs": [],
   "source": [
    "import copy\n",
    "\n",
    "\n",
    "class AdaptiveHillClimber(HillClimber):\n",
    "    \n",
    "    def __init__(self,\n",
    "                 policy_fn: PolicyFn,\n",
    "                 gamma: float = 1.0,\n",
    "                 is_deterministic: bool = False,\n",
    "                 preprocessing_fn: typing.Optional[PreprocessingFn] = None,\n",
    "                 seed: typing.Optional[int] = None,\n",
    "                 sigma: float = 1.0):\n",
    "        super().__init__(policy_fn, gamma, is_deterministic, preprocessing_fn, seed, sigma)\n",
    "        self._best_policy_state_dict = self._policy.state_dict()\n",
    "    \n",
    "    def evaluate(self, rewards):\n",
    "        \"\"\"Evaluate rewards generated from following the current policy when interacting with an environment.\"\"\"\n",
    "        discounted_reward = sum(self._gamma**i * reward for i, reward in enumerate(rewards))\n",
    "        if discounted_reward >= self._max_discounted_reward:\n",
    "            self._max_discounted_reward = discounted_reward\n",
    "            copied_state_dict = copy.deepcopy(self._policy.state_dict()) # avoid storing mutable state!\n",
    "            self._best_policy_state_dict = copied_state_dict\n",
    "            self._sigma = max(2**-10, self._sigma / 2)\n",
    "        else:\n",
    "            self._sigma = min(2, self._sigma * 2)\n",
    "            _ = self.load_state_dict(self._best_policy_state_dict)\n",
    "        with torch.no_grad():\n",
    "            for parameter in self._policy.parameters():\n",
    "                parameter.add_(torch.randn_like(parameter), alpha=self._sigma)\n"
   ]
  },
  {
   "cell_type": "code",
   "execution_count": 39,
   "metadata": {},
   "outputs": [
    {
     "name": "stdout",
     "output_type": "stream",
     "text": [
      "Episode 100\tAverage Score: 53.39\n",
      "Episode 200\tAverage Score: 161.00\n",
      "\n",
      "Environment solved in 233 episodes!\tAverage Score: 195.31\n",
      "CPU times: user 3.32 s, sys: 10.7 ms, total: 3.33 s\n",
      "Wall time: 3.34 s\n"
     ]
    }
   ],
   "source": [
    "%%time\n",
    "\n",
    "_seed = None\n",
    "env = gym.make('CartPole-v0')\n",
    "env.seed(_seed)\n",
    "\n",
    "hillclimber = AdaptiveHillClimber(policy_fn=_policy_fn, seed=_seed)\n",
    "scores = train(hillclimber, env, target_score=195.0, maximum_episodes=1000, verbose=True)"
   ]
  },
  {
   "cell_type": "markdown",
   "metadata": {},
   "source": [
    "To see the impact of adaptive noise scaling, we can re-run the simulation above."
   ]
  },
  {
   "cell_type": "code",
   "execution_count": 40,
   "metadata": {},
   "outputs": [
    {
     "name": "stdout",
     "output_type": "stream",
     "text": [
      "CPU times: user 1.25 s, sys: 15.9 ms, total: 1.27 s\n",
      "Wall time: 1min 54s\n"
     ]
    }
   ],
   "source": [
    "%%time\n",
    "\n",
    "env = gym.make('CartPole-v0')\n",
    "\n",
    "hillclimber_kwargs = {\n",
    "    \"policy_fn\": make_policy_fn(NUMBER_ACTIONS, NUMBER_STATES),\n",
    "    \"gamma\": 1.0,\n",
    "    \"is_deterministic\": False,\n",
    "    \"preprocessing_fn\": None,\n",
    "    \"seed\": None,\n",
    "    \"sigma\": 1.0\n",
    "}\n",
    "\n",
    "\n",
    "def simulate_hillclimber():\n",
    "    hillclimber = AdaptiveHillClimber(**hillclimber_kwargs)\n",
    "    scores = train(hillclimber, env, target_score=195.0, maximum_episodes=1000)\n",
    "    return scores\n",
    "\n",
    "\n",
    "n_jobs = multiprocessing.cpu_count()\n",
    "n_hillclimbers = 100\n",
    "hillclimber_results = joblib.Parallel(n_jobs)(joblib.delayed(simulate_hillclimber)() for _ in range(n_hillclimbers))    "
   ]
  },
  {
   "cell_type": "code",
   "execution_count": 41,
   "metadata": {},
   "outputs": [
    {
     "data": {
      "image/png": "[encoded data removed]",
      "text/plain": [
       "<Figure size 432x288 with 1 Axes>"
      ]
     },
     "metadata": {
      "needs_background": "light"
     },
     "output_type": "display_data"
    }
   ],
   "source": [
    "fig, ax = plt.subplots(1, 1)\n",
    "adaptive_hillclimber_required_episodes = [len(scores) for scores in hillclimber_results]\n",
    "_ = ax.hist(adaptive_hillclimber_required_episodes)\n",
    "_ = ax.set(xlabel=\"Number of episodes\",\n",
    "           ylabel=\"Number of training runs\",\n",
    "           title=\"Number of episodes required to solve\")"
   ]
  },
  {
   "cell_type": "markdown",
   "metadata": {},
   "source": [
    "## Steepest Ascent Hill-climbing\n",
    "\n",
    "Steepest ascent hill-climbing is an extension of the basic hill-climbing algorithm that is more robust. Rather than using a single `HillClimber`, the steepest ascent algorithm starts with a population of `HillClimber` instances. During an iteration of the steepest ascent algorithm each of the `HillClimber` instances is trained using the basic algorithm and then the `HillClimber` that has made the most progress is identified and the parameters of its policy function are shared with the other `HillClimber` instances. This processes is repeated until either the environment is solved or some maximum number of iteration is reached."
   ]
  },
  {
   "cell_type": "code",
   "execution_count": 146,
   "metadata": {},
   "outputs": [],
   "source": [
    "HillClimbers = typing.List[HillClimber]\n",
    "\n",
    "\n",
    "def synchronize_hillclimbers(hillclimbers: HillClimbers,\n",
    "                             state_dict: typing.Dict[str, torch.Tensor]) -> None:\n",
    "    _ = [hillclimber.load_state_dict(state_dict) for hillclimber in hillclimbers]\n",
    "\n",
    "\n",
    "def top_k_hillclimbers(hillclimbers: HillClimbers, k: int = 1) -> HillClimbers:\n",
    "    sorted_hillclimbers = sorted(hillclimbers)\n",
    "    return sorted_hillclimbers[-k:]\n"
   ]
  },
  {
   "cell_type": "code",
   "execution_count": 45,
   "metadata": {},
   "outputs": [],
   "source": [
    "def steepest_ascent_hillclimbing(env: gym.Env,\n",
    "                                 hillclimber_kwargs: dict,\n",
    "                                 target_score: float,\n",
    "                                 number_episodes: int = 2,\n",
    "                                 number_hillclimbers: int = 5,\n",
    "                                 number_iterations: int = 150,\n",
    "                                 verbose: bool = False):\n",
    "    hillclimbers = [HillClimber(**hillclimber_kwargs) for _ in range(number_hillclimbers)]\n",
    "    scores = []\n",
    "    most_recent_scores = collections.deque(maxlen=100)\n",
    "\n",
    "    n_jobs = multiprocessing.cpu_count()\n",
    "    \n",
    "    for i in range(number_iterations):\n",
    "        # train each hillclimber for some number of episodes (this can be done in parallel)\n",
    "        _ = joblib.Parallel(n_jobs)(joblib.delayed(train)(_, env, float(\"inf\"), number_episodes) for _ in hillclimbers)    \n",
    "\n",
    "        # identify the best hillclimber and evaluate the best policy\n",
    "        best_hillclimber, = top_k_hillclimbers(hillclimbers)\n",
    "        score = best_hillclimber.score\n",
    "        scores.append(score)\n",
    "        most_recent_scores.append(score)\n",
    "        \n",
    "        # if not solved, then synchronize the hill climbers and repeat\n",
    "        average_score = sum(most_recent_scores) / len(most_recent_scores)\n",
    "        if len(most_recent_scores) >= 100 and average_score >= target_score:\n",
    "            if verbose:\n",
    "                print(f\"\\nEnvironment solved in {i:d} iterations!\\tAverage Score: {average_score:.2f}\")\n",
    "            break\n",
    "        else:\n",
    "            synchronize_hillclimbers(hillclimbers, best_hillclimber._best_policy_state_dict)\n",
    "    \n",
    "    return scores, best_hillclimber"
   ]
  },
  {
   "cell_type": "code",
   "execution_count": 47,
   "metadata": {},
   "outputs": [
    {
     "name": "stderr",
     "output_type": "stream",
     "text": [
      "/Users/drpugh/Research/stochastic-expatriate-descent/env/lib/python3.7/site-packages/torch/storage.py:34: FutureWarning: pickle support for Storage will be removed in 1.5. Use `torch.save` instead\n",
      "  warnings.warn(\"pickle support for Storage will be removed in 1.5. Use `torch.save` instead\", FutureWarning)\n"
     ]
    },
    {
     "ename": "TerminatedWorkerError",
     "evalue": "A worker process managed by the executor was unexpectedly terminated. This could be caused by a segmentation fault while calling the function or by an excessive memory usage causing the Operating System to kill the worker.\n\nThe exit codes of the workers are {SIGABRT(-6), SIGABRT(-6), SIGABRT(-6), SIGABRT(-6), SIGABRT(-6), SIGABRT(-6), SIGABRT(-6), SIGABRT(-6)}",
     "output_type": "error",
     "traceback": [
      "\u001b[0;31m---------------------------------------------------------------------------\u001b[0m",
      "\u001b[0;31mTerminatedWorkerError\u001b[0m                     Traceback (most recent call last)",
      "\u001b[0;32m<ipython-input-47-af74c4f9502c>\u001b[0m in \u001b[0;36m<module>\u001b[0;34m\u001b[0m\n\u001b[1;32m     12\u001b[0m \u001b[0menv\u001b[0m \u001b[0;34m=\u001b[0m \u001b[0mgym\u001b[0m\u001b[0;34m.\u001b[0m\u001b[0mmake\u001b[0m\u001b[0;34m(\u001b[0m\u001b[0;34m'CartPole-v0'\u001b[0m\u001b[0;34m)\u001b[0m\u001b[0;34m\u001b[0m\u001b[0;34m\u001b[0m\u001b[0m\n\u001b[1;32m     13\u001b[0m \u001b[0;34m\u001b[0m\u001b[0m\n\u001b[0;32m---> 14\u001b[0;31m \u001b[0mscores\u001b[0m\u001b[0;34m,\u001b[0m \u001b[0mbest_hillclimber\u001b[0m \u001b[0;34m=\u001b[0m \u001b[0msteepest_ascent_hillclimbing\u001b[0m\u001b[0;34m(\u001b[0m\u001b[0menv\u001b[0m\u001b[0;34m,\u001b[0m \u001b[0m_hillclimber_kwargs\u001b[0m\u001b[0;34m,\u001b[0m \u001b[0mtarget_score\u001b[0m\u001b[0;34m=\u001b[0m\u001b[0;36m195.0\u001b[0m\u001b[0;34m,\u001b[0m \u001b[0mverbose\u001b[0m\u001b[0;34m=\u001b[0m\u001b[0;32mTrue\u001b[0m\u001b[0;34m)\u001b[0m\u001b[0;34m\u001b[0m\u001b[0;34m\u001b[0m\u001b[0m\n\u001b[0m",
      "\u001b[0;32m<ipython-input-45-9da55bd30bdc>\u001b[0m in \u001b[0;36msteepest_ascent_hillclimbing\u001b[0;34m(env, hillclimber_kwargs, target_score, number_episodes, number_hillclimbers, number_iterations, verbose)\u001b[0m\n\u001b[1;32m     14\u001b[0m     \u001b[0;32mfor\u001b[0m \u001b[0mi\u001b[0m \u001b[0;32min\u001b[0m \u001b[0mrange\u001b[0m\u001b[0;34m(\u001b[0m\u001b[0mnumber_iterations\u001b[0m\u001b[0;34m)\u001b[0m\u001b[0;34m:\u001b[0m\u001b[0;34m\u001b[0m\u001b[0;34m\u001b[0m\u001b[0m\n\u001b[1;32m     15\u001b[0m         \u001b[0;31m# train each hillclimber for some number of episodes (this can be done in parallel)\u001b[0m\u001b[0;34m\u001b[0m\u001b[0;34m\u001b[0m\u001b[0;34m\u001b[0m\u001b[0m\n\u001b[0;32m---> 16\u001b[0;31m         \u001b[0m_\u001b[0m \u001b[0;34m=\u001b[0m \u001b[0mjoblib\u001b[0m\u001b[0;34m.\u001b[0m\u001b[0mParallel\u001b[0m\u001b[0;34m(\u001b[0m\u001b[0mn_jobs\u001b[0m\u001b[0;34m)\u001b[0m\u001b[0;34m(\u001b[0m\u001b[0mjoblib\u001b[0m\u001b[0;34m.\u001b[0m\u001b[0mdelayed\u001b[0m\u001b[0;34m(\u001b[0m\u001b[0mtrain\u001b[0m\u001b[0;34m)\u001b[0m\u001b[0;34m(\u001b[0m\u001b[0m_\u001b[0m\u001b[0;34m,\u001b[0m \u001b[0menv\u001b[0m\u001b[0;34m,\u001b[0m \u001b[0mfloat\u001b[0m\u001b[0;34m(\u001b[0m\u001b[0;34m\"inf\"\u001b[0m\u001b[0;34m)\u001b[0m\u001b[0;34m,\u001b[0m \u001b[0mnumber_episodes\u001b[0m\u001b[0;34m)\u001b[0m \u001b[0;32mfor\u001b[0m \u001b[0m_\u001b[0m \u001b[0;32min\u001b[0m \u001b[0mhillclimbers\u001b[0m\u001b[0;34m)\u001b[0m\u001b[0;34m\u001b[0m\u001b[0;34m\u001b[0m\u001b[0m\n\u001b[0m\u001b[1;32m     17\u001b[0m \u001b[0;34m\u001b[0m\u001b[0m\n\u001b[1;32m     18\u001b[0m         \u001b[0;31m# identify the best hillclimber and evaluate the best policy\u001b[0m\u001b[0;34m\u001b[0m\u001b[0;34m\u001b[0m\u001b[0;34m\u001b[0m\u001b[0m\n",
      "\u001b[0;32m~/Research/stochastic-expatriate-descent/env/lib/python3.7/site-packages/joblib/parallel.py\u001b[0m in \u001b[0;36m__call__\u001b[0;34m(self, iterable)\u001b[0m\n\u001b[1;32m   1040\u001b[0m \u001b[0;34m\u001b[0m\u001b[0m\n\u001b[1;32m   1041\u001b[0m             \u001b[0;32mwith\u001b[0m \u001b[0mself\u001b[0m\u001b[0;34m.\u001b[0m\u001b[0m_backend\u001b[0m\u001b[0;34m.\u001b[0m\u001b[0mretrieval_context\u001b[0m\u001b[0;34m(\u001b[0m\u001b[0;34m)\u001b[0m\u001b[0;34m:\u001b[0m\u001b[0;34m\u001b[0m\u001b[0;34m\u001b[0m\u001b[0m\n\u001b[0;32m-> 1042\u001b[0;31m                 \u001b[0mself\u001b[0m\u001b[0;34m.\u001b[0m\u001b[0mretrieve\u001b[0m\u001b[0;34m(\u001b[0m\u001b[0;34m)\u001b[0m\u001b[0;34m\u001b[0m\u001b[0;34m\u001b[0m\u001b[0m\n\u001b[0m\u001b[1;32m   1043\u001b[0m             \u001b[0;31m# Make sure that we get a last message telling us we are done\u001b[0m\u001b[0;34m\u001b[0m\u001b[0;34m\u001b[0m\u001b[0;34m\u001b[0m\u001b[0m\n\u001b[1;32m   1044\u001b[0m             \u001b[0melapsed_time\u001b[0m \u001b[0;34m=\u001b[0m \u001b[0mtime\u001b[0m\u001b[0;34m.\u001b[0m\u001b[0mtime\u001b[0m\u001b[0;34m(\u001b[0m\u001b[0;34m)\u001b[0m \u001b[0;34m-\u001b[0m \u001b[0mself\u001b[0m\u001b[0;34m.\u001b[0m\u001b[0m_start_time\u001b[0m\u001b[0;34m\u001b[0m\u001b[0;34m\u001b[0m\u001b[0m\n",
      "\u001b[0;32m~/Research/stochastic-expatriate-descent/env/lib/python3.7/site-packages/joblib/parallel.py\u001b[0m in \u001b[0;36mretrieve\u001b[0;34m(self)\u001b[0m\n\u001b[1;32m    919\u001b[0m             \u001b[0;32mtry\u001b[0m\u001b[0;34m:\u001b[0m\u001b[0;34m\u001b[0m\u001b[0;34m\u001b[0m\u001b[0m\n\u001b[1;32m    920\u001b[0m                 \u001b[0;32mif\u001b[0m \u001b[0mgetattr\u001b[0m\u001b[0;34m(\u001b[0m\u001b[0mself\u001b[0m\u001b[0;34m.\u001b[0m\u001b[0m_backend\u001b[0m\u001b[0;34m,\u001b[0m \u001b[0;34m'supports_timeout'\u001b[0m\u001b[0;34m,\u001b[0m \u001b[0;32mFalse\u001b[0m\u001b[0;34m)\u001b[0m\u001b[0;34m:\u001b[0m\u001b[0;34m\u001b[0m\u001b[0;34m\u001b[0m\u001b[0m\n\u001b[0;32m--> 921\u001b[0;31m                     \u001b[0mself\u001b[0m\u001b[0;34m.\u001b[0m\u001b[0m_output\u001b[0m\u001b[0;34m.\u001b[0m\u001b[0mextend\u001b[0m\u001b[0;34m(\u001b[0m\u001b[0mjob\u001b[0m\u001b[0;34m.\u001b[0m\u001b[0mget\u001b[0m\u001b[0;34m(\u001b[0m\u001b[0mtimeout\u001b[0m\u001b[0;34m=\u001b[0m\u001b[0mself\u001b[0m\u001b[0;34m.\u001b[0m\u001b[0mtimeout\u001b[0m\u001b[0;34m)\u001b[0m\u001b[0;34m)\u001b[0m\u001b[0;34m\u001b[0m\u001b[0;34m\u001b[0m\u001b[0m\n\u001b[0m\u001b[1;32m    922\u001b[0m                 \u001b[0;32melse\u001b[0m\u001b[0;34m:\u001b[0m\u001b[0;34m\u001b[0m\u001b[0;34m\u001b[0m\u001b[0m\n\u001b[1;32m    923\u001b[0m                     \u001b[0mself\u001b[0m\u001b[0;34m.\u001b[0m\u001b[0m_output\u001b[0m\u001b[0;34m.\u001b[0m\u001b[0mextend\u001b[0m\u001b[0;34m(\u001b[0m\u001b[0mjob\u001b[0m\u001b[0;34m.\u001b[0m\u001b[0mget\u001b[0m\u001b[0;34m(\u001b[0m\u001b[0;34m)\u001b[0m\u001b[0;34m)\u001b[0m\u001b[0;34m\u001b[0m\u001b[0;34m\u001b[0m\u001b[0m\n",
      "\u001b[0;32m~/Research/stochastic-expatriate-descent/env/lib/python3.7/site-packages/joblib/_parallel_backends.py\u001b[0m in \u001b[0;36mwrap_future_result\u001b[0;34m(future, timeout)\u001b[0m\n\u001b[1;32m    538\u001b[0m         AsyncResults.get from multiprocessing.\"\"\"\n\u001b[1;32m    539\u001b[0m         \u001b[0;32mtry\u001b[0m\u001b[0;34m:\u001b[0m\u001b[0;34m\u001b[0m\u001b[0;34m\u001b[0m\u001b[0m\n\u001b[0;32m--> 540\u001b[0;31m             \u001b[0;32mreturn\u001b[0m \u001b[0mfuture\u001b[0m\u001b[0;34m.\u001b[0m\u001b[0mresult\u001b[0m\u001b[0;34m(\u001b[0m\u001b[0mtimeout\u001b[0m\u001b[0;34m=\u001b[0m\u001b[0mtimeout\u001b[0m\u001b[0;34m)\u001b[0m\u001b[0;34m\u001b[0m\u001b[0;34m\u001b[0m\u001b[0m\n\u001b[0m\u001b[1;32m    541\u001b[0m         \u001b[0;32mexcept\u001b[0m \u001b[0mCfTimeoutError\u001b[0m\u001b[0;34m:\u001b[0m\u001b[0;34m\u001b[0m\u001b[0;34m\u001b[0m\u001b[0m\n\u001b[1;32m    542\u001b[0m             \u001b[0;32mraise\u001b[0m \u001b[0mTimeoutError\u001b[0m\u001b[0;34m(\u001b[0m\u001b[0;34m)\u001b[0m\u001b[0;34m\u001b[0m\u001b[0;34m\u001b[0m\u001b[0m\n",
      "\u001b[0;32m~/Research/stochastic-expatriate-descent/env/lib/python3.7/concurrent/futures/_base.py\u001b[0m in \u001b[0;36mresult\u001b[0;34m(self, timeout)\u001b[0m\n\u001b[1;32m    433\u001b[0m                 \u001b[0;32mraise\u001b[0m \u001b[0mCancelledError\u001b[0m\u001b[0;34m(\u001b[0m\u001b[0;34m)\u001b[0m\u001b[0;34m\u001b[0m\u001b[0;34m\u001b[0m\u001b[0m\n\u001b[1;32m    434\u001b[0m             \u001b[0;32melif\u001b[0m \u001b[0mself\u001b[0m\u001b[0;34m.\u001b[0m\u001b[0m_state\u001b[0m \u001b[0;34m==\u001b[0m \u001b[0mFINISHED\u001b[0m\u001b[0;34m:\u001b[0m\u001b[0;34m\u001b[0m\u001b[0;34m\u001b[0m\u001b[0m\n\u001b[0;32m--> 435\u001b[0;31m                 \u001b[0;32mreturn\u001b[0m \u001b[0mself\u001b[0m\u001b[0;34m.\u001b[0m\u001b[0m__get_result\u001b[0m\u001b[0;34m(\u001b[0m\u001b[0;34m)\u001b[0m\u001b[0;34m\u001b[0m\u001b[0;34m\u001b[0m\u001b[0m\n\u001b[0m\u001b[1;32m    436\u001b[0m             \u001b[0;32melse\u001b[0m\u001b[0;34m:\u001b[0m\u001b[0;34m\u001b[0m\u001b[0;34m\u001b[0m\u001b[0m\n\u001b[1;32m    437\u001b[0m                 \u001b[0;32mraise\u001b[0m \u001b[0mTimeoutError\u001b[0m\u001b[0;34m(\u001b[0m\u001b[0;34m)\u001b[0m\u001b[0;34m\u001b[0m\u001b[0;34m\u001b[0m\u001b[0m\n",
      "\u001b[0;32m~/Research/stochastic-expatriate-descent/env/lib/python3.7/concurrent/futures/_base.py\u001b[0m in \u001b[0;36m__get_result\u001b[0;34m(self)\u001b[0m\n\u001b[1;32m    382\u001b[0m     \u001b[0;32mdef\u001b[0m \u001b[0m__get_result\u001b[0m\u001b[0;34m(\u001b[0m\u001b[0mself\u001b[0m\u001b[0;34m)\u001b[0m\u001b[0;34m:\u001b[0m\u001b[0;34m\u001b[0m\u001b[0;34m\u001b[0m\u001b[0m\n\u001b[1;32m    383\u001b[0m         \u001b[0;32mif\u001b[0m \u001b[0mself\u001b[0m\u001b[0;34m.\u001b[0m\u001b[0m_exception\u001b[0m\u001b[0;34m:\u001b[0m\u001b[0;34m\u001b[0m\u001b[0;34m\u001b[0m\u001b[0m\n\u001b[0;32m--> 384\u001b[0;31m             \u001b[0;32mraise\u001b[0m \u001b[0mself\u001b[0m\u001b[0;34m.\u001b[0m\u001b[0m_exception\u001b[0m\u001b[0;34m\u001b[0m\u001b[0;34m\u001b[0m\u001b[0m\n\u001b[0m\u001b[1;32m    385\u001b[0m         \u001b[0;32melse\u001b[0m\u001b[0;34m:\u001b[0m\u001b[0;34m\u001b[0m\u001b[0;34m\u001b[0m\u001b[0m\n\u001b[1;32m    386\u001b[0m             \u001b[0;32mreturn\u001b[0m \u001b[0mself\u001b[0m\u001b[0;34m.\u001b[0m\u001b[0m_result\u001b[0m\u001b[0;34m\u001b[0m\u001b[0;34m\u001b[0m\u001b[0m\n",
      "\u001b[0;31mTerminatedWorkerError\u001b[0m: A worker process managed by the executor was unexpectedly terminated. This could be caused by a segmentation fault while calling the function or by an excessive memory usage causing the Operating System to kill the worker.\n\nThe exit codes of the workers are {SIGABRT(-6), SIGABRT(-6), SIGABRT(-6), SIGABRT(-6), SIGABRT(-6), SIGABRT(-6), SIGABRT(-6), SIGABRT(-6)}"
     ]
    }
   ],
   "source": [
    "_policy_fn = make_policy_fn(NUMBER_ACTIONS, NUMBER_STATES)\n",
    "\n",
    "_hillclimber_kwargs = {\n",
    "    \"policy_fn\": _policy_fn,\n",
    "    \"gamma\": 1.0,\n",
    "    \"is_deterministic\": False,\n",
    "    \"preprocessing_fn\": None,\n",
    "    \"seed\": None,\n",
    "    \"sigma\": 1.0\n",
    "}\n",
    "\n",
    "env = gym.make('CartPole-v0')\n",
    "\n",
    "scores, best_hillclimber = steepest_ascent_hillclimbing(env, _hillclimber_kwargs, target_score=195.0, verbose=True)"
   ]
  },
  {
   "cell_type": "code",
   "execution_count": 150,
   "metadata": {},
   "outputs": [],
   "source": [
    "_seed = None\n",
    "env = gym.make('CartPole-v0')\n",
    "env.seed(_seed)\n",
    "\n",
    "_policy_fn = make_policy_fn(NUMBER_ACTIONS, NUMBER_STATES)\n",
    "\n",
    "_hillclimber_kwargs = {\n",
    "    \"policy_fn\": _policy_fn,\n",
    "    \"gamma\": 1.0,\n",
    "    \"is_deterministic\": False,\n",
    "    \"preprocessing_fn\": None,\n",
    "    \"seed\": None,\n",
    "    \"sigma\": 1.0\n",
    "}\n",
    "\n",
    "steepest_ascent_required_episodes = []\n",
    "for t in range(100):\n",
    "    scores, _ = steepest_ascent_hillclimbing(env, _hillclimber_kwargs, target_score=195.0, number_iterations=1000)\n",
    "    steepest_ascent_required_episodes.append(len(scores))\n"
   ]
  },
  {
   "cell_type": "code",
   "execution_count": 156,
   "metadata": {},
   "outputs": [
    {
     "data": {
      "image/png": "[encoded data removed]",
      "text/plain": [
       "<Figure size 432x288 with 1 Axes>"
      ]
     },
     "metadata": {
      "needs_background": "light"
     },
     "output_type": "display_data"
    }
   ],
   "source": [
    "fig, ax = plt.subplots(1, 1)\n",
    "_ = ax.hist(steepest_ascent_required_episodes)\n",
    "_ = ax.set(xlabel=\"Number of episodes\",\n",
    "           ylabel=\"Number of training runs\",\n",
    "           title=\"Number of episodes required to solve\")"
   ]
  },
  {
   "cell_type": "markdown",
   "metadata": {},
   "source": [
    "## Cross Entropy Methods\n",
    "\n",
    "While steepest ascent hill-climbing is a significant improvement over the basic hill-climbing algorithm, steepest ascent throws away quite a lot of useful information by only keep track of the parameters of the \"best\" `HillClimber` policy function. Instead of throwing away the parameters of the other `HillClimber` agents, what if you keep track of the policy function parameters of the top-$k$ performing `HillClimber` agents. You could then average together the values of these $k$ sets of policy function parameters to produce an estimate of the \"best\" policy function parameters. Repeat as necessary until the environment is solved or you have reached a maximum desired number of iterations. This is the basic idea behind [cross-entropy methods](https://en.wikipedia.org/wiki/Cross-entropy_method). "
   ]
  },
  {
   "cell_type": "code",
   "execution_count": 161,
   "metadata": {},
   "outputs": [],
   "source": [
    "def average_state_dicts(hillclimbers: typing.List[HillClimber]) -> typing.Dict[str, torch.Tensor]:\n",
    "    _folded_state_dicts = collections.defaultdict(lambda: [])\n",
    "    for hillclimber in hillclimbers:\n",
    "        for k, v in hillclimber._best_policy_state_dict.items():\n",
    "            _folded_state_dicts[k].append(v)\n",
    "    averaged_state_dict = {k: torch.stack(v, dim=0).mean(dim=0) for k, v in _folded_state_dicts.items()}\n",
    "    return averaged_state_dict\n",
    "\n",
    "\n",
    "def cross_entropy_method(env: gym.Env,\n",
    "                         hillclimber_kwargs: dict,\n",
    "                         target_score: float,\n",
    "                         k: int = 1,\n",
    "                         number_episodes: int = 2,\n",
    "                         number_hillclimbers: int = 5,\n",
    "                         number_iterations: int = 150,\n",
    "                         verbose: bool = False):\n",
    "    hillclimbers = [HillClimber(**hillclimber_kwargs) for _ in range(number_hillclimbers)]\n",
    "    scores = []\n",
    "    most_recent_scores = collections.deque(maxlen=100)\n",
    "    \n",
    "    for i in range(number_iterations):\n",
    "        # train each hillclimber for some number of episodes (this can be done in parallel!)\n",
    "        _ = [train(hillclimber, env, float(\"inf\"), number_episodes, verbose=verbose) for hillclimber in hillclimbers]\n",
    "        \n",
    "        # identify the best hillclimbers\n",
    "        best_hillclimbers = top_k_hillclimbers(hillclimbers, k)\n",
    "        \n",
    "        # average the policies of the best hillclimbers to get the best overall policy\n",
    "        best_policy_state_dict = average_state_dicts(best_hillclimbers)\n",
    "        \n",
    "        # evaluate the best overall policy\n",
    "        best_hillclimber = HillClimber(**hillclimber_kwargs)\n",
    "        _ = best_hillclimber.load_state_dict(best_policy_state_dict)\n",
    "        score, = train(best_hillclimber, env, float(\"inf\"), 1)\n",
    "        scores.append(score)\n",
    "        most_recent_scores.append(score)\n",
    "        \n",
    "        # if not solved, then synchronize the hill climbers and repeat\n",
    "        average_score = sum(most_recent_scores) / len(most_recent_scores)\n",
    "        if len(most_recent_scores) >= 100 and average_score >= target_score:\n",
    "            if verbose:\n",
    "                print(f\"\\nEnvironment solved in {i:d} iterations!\\tAverage Score: {average_score:.2f}\")\n",
    "            break\n",
    "        else:\n",
    "            synchronize_hillclimbers(hillclimbers, best_policy_state_dict)\n",
    "    \n",
    "    return scores, best_hillclimber\n"
   ]
  },
  {
   "cell_type": "markdown",
   "metadata": {},
   "source": [
    "The cross-entropy algorithm with `k=1` reduces to steepest ascent algorithm."
   ]
  },
  {
   "cell_type": "code",
   "execution_count": 169,
   "metadata": {},
   "outputs": [
    {
     "name": "stdout",
     "output_type": "stream",
     "text": [
      "\n",
      "Environment solved in 125 iterations!\tAverage Score: 195.44\n"
     ]
    }
   ],
   "source": [
    "_seed = None\n",
    "env = gym.make('CartPole-v0')\n",
    "env.seed(_seed)\n",
    "\n",
    "_policy_fn = make_policy_fn(NUMBER_ACTIONS, NUMBER_STATES)\n",
    "\n",
    "_hillclimber_kwargs = {\n",
    "    \"policy_fn\": _policy_fn,\n",
    "    \"gamma\": 1.0,\n",
    "    \"is_deterministic\": False,\n",
    "    \"preprocessing_fn\": None,\n",
    "    \"seed\": _seed,\n",
    "    \"sigma\": 1.0\n",
    "}\n",
    "\n",
    "scores, best_hillclimber = cross_entropy_method(env, _hillclimber_kwargs, target_score=195.0, k=1, verbose=True)"
   ]
  },
  {
   "cell_type": "code",
   "execution_count": 174,
   "metadata": {},
   "outputs": [
    {
     "name": "stdout",
     "output_type": "stream",
     "text": [
      "\n",
      "Environment solved in 139 iterations!\tAverage Score: 195.48\n"
     ]
    }
   ],
   "source": [
    "_seed = None\n",
    "env = gym.make('CartPole-v0')\n",
    "env.seed(_seed)\n",
    "\n",
    "_policy_fn = make_policy_fn(NUMBER_ACTIONS, NUMBER_STATES)\n",
    "\n",
    "_hillclimber_kwargs = {\n",
    "    \"policy_fn\": _policy_fn,\n",
    "    \"gamma\": 1.0,\n",
    "    \"is_deterministic\": False,\n",
    "    \"preprocessing_fn\": None,\n",
    "    \"seed\": _seed,\n",
    "    \"sigma\": 1.0\n",
    "}\n",
    "\n",
    "scores, best_hillclimber = cross_entropy_method(env, _hillclimber_kwargs, target_score=195.0, k=3, number_hillclimbers=10, verbose=True)"
   ]
  },
  {
   "cell_type": "code",
   "execution_count": 173,
   "metadata": {},
   "outputs": [
    {
     "ename": "KeyboardInterrupt",
     "evalue": "",
     "output_type": "error",
     "traceback": [
      "\u001b[0;31m---------------------------------------------------------------------------\u001b[0m",
      "\u001b[0;31mKeyboardInterrupt\u001b[0m                         Traceback (most recent call last)",
      "\u001b[0;32m<ipython-input-173-8860991c72f5>\u001b[0m in \u001b[0;36m<module>\u001b[0;34m\u001b[0m\n\u001b[1;32m     16\u001b[0m \u001b[0mcross_entropy_required_episodes\u001b[0m \u001b[0;34m=\u001b[0m \u001b[0;34m[\u001b[0m\u001b[0;34m]\u001b[0m\u001b[0;34m\u001b[0m\u001b[0;34m\u001b[0m\u001b[0m\n\u001b[1;32m     17\u001b[0m \u001b[0;32mfor\u001b[0m \u001b[0mt\u001b[0m \u001b[0;32min\u001b[0m \u001b[0mrange\u001b[0m\u001b[0;34m(\u001b[0m\u001b[0;36m100\u001b[0m\u001b[0;34m)\u001b[0m\u001b[0;34m:\u001b[0m\u001b[0;34m\u001b[0m\u001b[0;34m\u001b[0m\u001b[0m\n\u001b[0;32m---> 18\u001b[0;31m     \u001b[0mscores\u001b[0m\u001b[0;34m,\u001b[0m \u001b[0m_\u001b[0m \u001b[0;34m=\u001b[0m \u001b[0mcross_entropy_method\u001b[0m\u001b[0;34m(\u001b[0m\u001b[0menv\u001b[0m\u001b[0;34m,\u001b[0m \u001b[0m_hillclimber_kwargs\u001b[0m\u001b[0;34m,\u001b[0m \u001b[0mtarget_score\u001b[0m\u001b[0;34m=\u001b[0m\u001b[0;36m195.0\u001b[0m\u001b[0;34m,\u001b[0m \u001b[0mk\u001b[0m\u001b[0;34m=\u001b[0m\u001b[0;36m10\u001b[0m\u001b[0;34m,\u001b[0m \u001b[0mnumber_hillclimbers\u001b[0m\u001b[0;34m=\u001b[0m\u001b[0;36m100\u001b[0m\u001b[0;34m,\u001b[0m \u001b[0mnumber_iterations\u001b[0m\u001b[0;34m=\u001b[0m\u001b[0;36m1000\u001b[0m\u001b[0;34m)\u001b[0m\u001b[0;34m\u001b[0m\u001b[0;34m\u001b[0m\u001b[0m\n\u001b[0m\u001b[1;32m     19\u001b[0m     \u001b[0mcross_entropy_required_episodes\u001b[0m\u001b[0;34m.\u001b[0m\u001b[0mappend\u001b[0m\u001b[0;34m(\u001b[0m\u001b[0mlen\u001b[0m\u001b[0;34m(\u001b[0m\u001b[0mscores\u001b[0m\u001b[0;34m)\u001b[0m\u001b[0;34m)\u001b[0m\u001b[0;34m\u001b[0m\u001b[0;34m\u001b[0m\u001b[0m\n",
      "\u001b[0;32m<ipython-input-161-31d0f2b4adcc>\u001b[0m in \u001b[0;36mcross_entropy_method\u001b[0;34m(env, hillclimber_kwargs, target_score, k, number_episodes, number_hillclimbers, number_iterations, verbose)\u001b[0m\n\u001b[1;32m     22\u001b[0m     \u001b[0;32mfor\u001b[0m \u001b[0mi\u001b[0m \u001b[0;32min\u001b[0m \u001b[0mrange\u001b[0m\u001b[0;34m(\u001b[0m\u001b[0mnumber_iterations\u001b[0m\u001b[0;34m)\u001b[0m\u001b[0;34m:\u001b[0m\u001b[0;34m\u001b[0m\u001b[0;34m\u001b[0m\u001b[0m\n\u001b[1;32m     23\u001b[0m         \u001b[0;31m# train each hillclimber for some number of episodes\u001b[0m\u001b[0;34m\u001b[0m\u001b[0;34m\u001b[0m\u001b[0;34m\u001b[0m\u001b[0m\n\u001b[0;32m---> 24\u001b[0;31m         \u001b[0m_\u001b[0m \u001b[0;34m=\u001b[0m \u001b[0;34m[\u001b[0m\u001b[0mtrain\u001b[0m\u001b[0;34m(\u001b[0m\u001b[0mhillclimber\u001b[0m\u001b[0;34m,\u001b[0m \u001b[0menv\u001b[0m\u001b[0;34m,\u001b[0m \u001b[0mfloat\u001b[0m\u001b[0;34m(\u001b[0m\u001b[0;34m\"inf\"\u001b[0m\u001b[0;34m)\u001b[0m\u001b[0;34m,\u001b[0m \u001b[0mnumber_episodes\u001b[0m\u001b[0;34m,\u001b[0m \u001b[0mverbose\u001b[0m\u001b[0;34m=\u001b[0m\u001b[0mverbose\u001b[0m\u001b[0;34m)\u001b[0m \u001b[0;32mfor\u001b[0m \u001b[0mhillclimber\u001b[0m \u001b[0;32min\u001b[0m \u001b[0mhillclimbers\u001b[0m\u001b[0;34m]\u001b[0m\u001b[0;34m\u001b[0m\u001b[0;34m\u001b[0m\u001b[0m\n\u001b[0m\u001b[1;32m     25\u001b[0m \u001b[0;34m\u001b[0m\u001b[0m\n\u001b[1;32m     26\u001b[0m         \u001b[0;31m# identify the best hillclimbers\u001b[0m\u001b[0;34m\u001b[0m\u001b[0;34m\u001b[0m\u001b[0;34m\u001b[0m\u001b[0m\n",
      "\u001b[0;32m<ipython-input-161-31d0f2b4adcc>\u001b[0m in \u001b[0;36m<listcomp>\u001b[0;34m(.0)\u001b[0m\n\u001b[1;32m     22\u001b[0m     \u001b[0;32mfor\u001b[0m \u001b[0mi\u001b[0m \u001b[0;32min\u001b[0m \u001b[0mrange\u001b[0m\u001b[0;34m(\u001b[0m\u001b[0mnumber_iterations\u001b[0m\u001b[0;34m)\u001b[0m\u001b[0;34m:\u001b[0m\u001b[0;34m\u001b[0m\u001b[0;34m\u001b[0m\u001b[0m\n\u001b[1;32m     23\u001b[0m         \u001b[0;31m# train each hillclimber for some number of episodes\u001b[0m\u001b[0;34m\u001b[0m\u001b[0;34m\u001b[0m\u001b[0;34m\u001b[0m\u001b[0m\n\u001b[0;32m---> 24\u001b[0;31m         \u001b[0m_\u001b[0m \u001b[0;34m=\u001b[0m \u001b[0;34m[\u001b[0m\u001b[0mtrain\u001b[0m\u001b[0;34m(\u001b[0m\u001b[0mhillclimber\u001b[0m\u001b[0;34m,\u001b[0m \u001b[0menv\u001b[0m\u001b[0;34m,\u001b[0m \u001b[0mfloat\u001b[0m\u001b[0;34m(\u001b[0m\u001b[0;34m\"inf\"\u001b[0m\u001b[0;34m)\u001b[0m\u001b[0;34m,\u001b[0m \u001b[0mnumber_episodes\u001b[0m\u001b[0;34m,\u001b[0m \u001b[0mverbose\u001b[0m\u001b[0;34m=\u001b[0m\u001b[0mverbose\u001b[0m\u001b[0;34m)\u001b[0m \u001b[0;32mfor\u001b[0m \u001b[0mhillclimber\u001b[0m \u001b[0;32min\u001b[0m \u001b[0mhillclimbers\u001b[0m\u001b[0;34m]\u001b[0m\u001b[0;34m\u001b[0m\u001b[0;34m\u001b[0m\u001b[0m\n\u001b[0m\u001b[1;32m     25\u001b[0m \u001b[0;34m\u001b[0m\u001b[0m\n\u001b[1;32m     26\u001b[0m         \u001b[0;31m# identify the best hillclimbers\u001b[0m\u001b[0;34m\u001b[0m\u001b[0;34m\u001b[0m\u001b[0;34m\u001b[0m\u001b[0m\n",
      "\u001b[0;32m<ipython-input-4-de6ca5ba5243>\u001b[0m in \u001b[0;36mtrain\u001b[0;34m(agent, env, target_score, number_episodes, maximum_timesteps, verbose)\u001b[0m\n\u001b[1;32m     45\u001b[0m     \u001b[0;32mfor\u001b[0m \u001b[0mi\u001b[0m \u001b[0;32min\u001b[0m \u001b[0mrange\u001b[0m\u001b[0;34m(\u001b[0m\u001b[0mnumber_episodes\u001b[0m\u001b[0;34m)\u001b[0m\u001b[0;34m:\u001b[0m\u001b[0;34m\u001b[0m\u001b[0;34m\u001b[0m\u001b[0m\n\u001b[1;32m     46\u001b[0m         \u001b[0;32mif\u001b[0m \u001b[0mmaximum_timesteps\u001b[0m \u001b[0;32mis\u001b[0m \u001b[0;32mNone\u001b[0m\u001b[0;34m:\u001b[0m\u001b[0;34m\u001b[0m\u001b[0;34m\u001b[0m\u001b[0m\n\u001b[0;32m---> 47\u001b[0;31m             \u001b[0mscore\u001b[0m\u001b[0;34m,\u001b[0m \u001b[0mrewards\u001b[0m \u001b[0;34m=\u001b[0m \u001b[0m_train_until_done\u001b[0m\u001b[0;34m(\u001b[0m\u001b[0magent\u001b[0m\u001b[0;34m,\u001b[0m \u001b[0menv\u001b[0m\u001b[0;34m)\u001b[0m\u001b[0;34m\u001b[0m\u001b[0;34m\u001b[0m\u001b[0m\n\u001b[0m\u001b[1;32m     48\u001b[0m         \u001b[0;32melse\u001b[0m\u001b[0;34m:\u001b[0m\u001b[0;34m\u001b[0m\u001b[0;34m\u001b[0m\u001b[0m\n\u001b[1;32m     49\u001b[0m             \u001b[0mscore\u001b[0m\u001b[0;34m,\u001b[0m \u001b[0mrewards\u001b[0m \u001b[0;34m=\u001b[0m \u001b[0m_train_for_at_most\u001b[0m\u001b[0;34m(\u001b[0m\u001b[0magent\u001b[0m\u001b[0;34m,\u001b[0m \u001b[0menv\u001b[0m\u001b[0;34m,\u001b[0m \u001b[0mmaximum_timesteps\u001b[0m\u001b[0;34m)\u001b[0m\u001b[0;34m\u001b[0m\u001b[0;34m\u001b[0m\u001b[0m\n",
      "\u001b[0;32m<ipython-input-4-de6ca5ba5243>\u001b[0m in \u001b[0;36m_train_until_done\u001b[0;34m(agent, env)\u001b[0m\n\u001b[1;32m     27\u001b[0m     \u001b[0mdone\u001b[0m \u001b[0;34m=\u001b[0m \u001b[0;32mFalse\u001b[0m\u001b[0;34m\u001b[0m\u001b[0;34m\u001b[0m\u001b[0m\n\u001b[1;32m     28\u001b[0m     \u001b[0;32mwhile\u001b[0m \u001b[0;32mnot\u001b[0m \u001b[0mdone\u001b[0m\u001b[0;34m:\u001b[0m\u001b[0;34m\u001b[0m\u001b[0;34m\u001b[0m\u001b[0m\n\u001b[0;32m---> 29\u001b[0;31m         \u001b[0maction\u001b[0m \u001b[0;34m=\u001b[0m \u001b[0magent\u001b[0m\u001b[0;34m(\u001b[0m\u001b[0mstate\u001b[0m\u001b[0;34m)\u001b[0m\u001b[0;34m\u001b[0m\u001b[0;34m\u001b[0m\u001b[0m\n\u001b[0m\u001b[1;32m     30\u001b[0m         \u001b[0mnext_state\u001b[0m\u001b[0;34m,\u001b[0m \u001b[0mreward\u001b[0m\u001b[0;34m,\u001b[0m \u001b[0mdone\u001b[0m\u001b[0;34m,\u001b[0m \u001b[0m_\u001b[0m \u001b[0;34m=\u001b[0m \u001b[0menv\u001b[0m\u001b[0;34m.\u001b[0m\u001b[0mstep\u001b[0m\u001b[0;34m(\u001b[0m\u001b[0maction\u001b[0m\u001b[0;34m)\u001b[0m\u001b[0;34m\u001b[0m\u001b[0;34m\u001b[0m\u001b[0m\n\u001b[1;32m     31\u001b[0m         \u001b[0mstate\u001b[0m \u001b[0;34m=\u001b[0m \u001b[0mnext_state\u001b[0m\u001b[0;34m\u001b[0m\u001b[0;34m\u001b[0m\u001b[0m\n",
      "\u001b[0;32m<ipython-input-107-9c54b4010e1a>\u001b[0m in \u001b[0;36m__call__\u001b[0;34m(self, state)\u001b[0m\n\u001b[1;32m     42\u001b[0m     \u001b[0;32mdef\u001b[0m \u001b[0m__call__\u001b[0m\u001b[0;34m(\u001b[0m\u001b[0mself\u001b[0m\u001b[0;34m,\u001b[0m \u001b[0mstate\u001b[0m\u001b[0;34m:\u001b[0m \u001b[0mGymState\u001b[0m\u001b[0;34m)\u001b[0m \u001b[0;34m->\u001b[0m \u001b[0mAction\u001b[0m\u001b[0;34m:\u001b[0m\u001b[0;34m\u001b[0m\u001b[0;34m\u001b[0m\u001b[0m\n\u001b[1;32m     43\u001b[0m         \u001b[0mstate_tensor\u001b[0m \u001b[0;34m=\u001b[0m \u001b[0mself\u001b[0m\u001b[0;34m.\u001b[0m\u001b[0m_preprocessing_fn\u001b[0m\u001b[0;34m(\u001b[0m\u001b[0mstate\u001b[0m\u001b[0;34m)\u001b[0m\u001b[0;34m\u001b[0m\u001b[0;34m\u001b[0m\u001b[0m\n\u001b[0;32m---> 44\u001b[0;31m         sampling_probs = (self._policy(state_tensor)\n\u001b[0m\u001b[1;32m     45\u001b[0m                               \u001b[0;34m.\u001b[0m\u001b[0mcpu\u001b[0m\u001b[0;34m(\u001b[0m\u001b[0;34m)\u001b[0m\u001b[0;34m\u001b[0m\u001b[0;34m\u001b[0m\u001b[0m\n\u001b[1;32m     46\u001b[0m                               \u001b[0;34m.\u001b[0m\u001b[0mdetach\u001b[0m\u001b[0;34m(\u001b[0m\u001b[0;34m)\u001b[0m\u001b[0;34m\u001b[0m\u001b[0;34m\u001b[0m\u001b[0m\n",
      "\u001b[0;32m~/Research/stochastic-expatriate-descent/env/lib/python3.7/site-packages/torch/nn/modules/module.py\u001b[0m in \u001b[0;36m__call__\u001b[0;34m(self, *input, **kwargs)\u001b[0m\n\u001b[1;32m    548\u001b[0m             \u001b[0mresult\u001b[0m \u001b[0;34m=\u001b[0m \u001b[0mself\u001b[0m\u001b[0;34m.\u001b[0m\u001b[0m_slow_forward\u001b[0m\u001b[0;34m(\u001b[0m\u001b[0;34m*\u001b[0m\u001b[0minput\u001b[0m\u001b[0;34m,\u001b[0m \u001b[0;34m**\u001b[0m\u001b[0mkwargs\u001b[0m\u001b[0;34m)\u001b[0m\u001b[0;34m\u001b[0m\u001b[0;34m\u001b[0m\u001b[0m\n\u001b[1;32m    549\u001b[0m         \u001b[0;32melse\u001b[0m\u001b[0;34m:\u001b[0m\u001b[0;34m\u001b[0m\u001b[0;34m\u001b[0m\u001b[0m\n\u001b[0;32m--> 550\u001b[0;31m             \u001b[0mresult\u001b[0m \u001b[0;34m=\u001b[0m \u001b[0mself\u001b[0m\u001b[0;34m.\u001b[0m\u001b[0mforward\u001b[0m\u001b[0;34m(\u001b[0m\u001b[0;34m*\u001b[0m\u001b[0minput\u001b[0m\u001b[0;34m,\u001b[0m \u001b[0;34m**\u001b[0m\u001b[0mkwargs\u001b[0m\u001b[0;34m)\u001b[0m\u001b[0;34m\u001b[0m\u001b[0;34m\u001b[0m\u001b[0m\n\u001b[0m\u001b[1;32m    551\u001b[0m         \u001b[0;32mfor\u001b[0m \u001b[0mhook\u001b[0m \u001b[0;32min\u001b[0m \u001b[0mself\u001b[0m\u001b[0;34m.\u001b[0m\u001b[0m_forward_hooks\u001b[0m\u001b[0;34m.\u001b[0m\u001b[0mvalues\u001b[0m\u001b[0;34m(\u001b[0m\u001b[0;34m)\u001b[0m\u001b[0;34m:\u001b[0m\u001b[0;34m\u001b[0m\u001b[0;34m\u001b[0m\u001b[0m\n\u001b[1;32m    552\u001b[0m             \u001b[0mhook_result\u001b[0m \u001b[0;34m=\u001b[0m \u001b[0mhook\u001b[0m\u001b[0;34m(\u001b[0m\u001b[0mself\u001b[0m\u001b[0;34m,\u001b[0m \u001b[0minput\u001b[0m\u001b[0;34m,\u001b[0m \u001b[0mresult\u001b[0m\u001b[0;34m)\u001b[0m\u001b[0;34m\u001b[0m\u001b[0;34m\u001b[0m\u001b[0m\n",
      "\u001b[0;32m~/Research/stochastic-expatriate-descent/env/lib/python3.7/site-packages/torch/nn/modules/container.py\u001b[0m in \u001b[0;36mforward\u001b[0;34m(self, input)\u001b[0m\n\u001b[1;32m     98\u001b[0m     \u001b[0;32mdef\u001b[0m \u001b[0mforward\u001b[0m\u001b[0;34m(\u001b[0m\u001b[0mself\u001b[0m\u001b[0;34m,\u001b[0m \u001b[0minput\u001b[0m\u001b[0;34m)\u001b[0m\u001b[0;34m:\u001b[0m\u001b[0;34m\u001b[0m\u001b[0;34m\u001b[0m\u001b[0m\n\u001b[1;32m     99\u001b[0m         \u001b[0;32mfor\u001b[0m \u001b[0mmodule\u001b[0m \u001b[0;32min\u001b[0m \u001b[0mself\u001b[0m\u001b[0;34m:\u001b[0m\u001b[0;34m\u001b[0m\u001b[0;34m\u001b[0m\u001b[0m\n\u001b[0;32m--> 100\u001b[0;31m             \u001b[0minput\u001b[0m \u001b[0;34m=\u001b[0m \u001b[0mmodule\u001b[0m\u001b[0;34m(\u001b[0m\u001b[0minput\u001b[0m\u001b[0;34m)\u001b[0m\u001b[0;34m\u001b[0m\u001b[0;34m\u001b[0m\u001b[0m\n\u001b[0m\u001b[1;32m    101\u001b[0m         \u001b[0;32mreturn\u001b[0m \u001b[0minput\u001b[0m\u001b[0;34m\u001b[0m\u001b[0;34m\u001b[0m\u001b[0m\n\u001b[1;32m    102\u001b[0m \u001b[0;34m\u001b[0m\u001b[0m\n",
      "\u001b[0;32m~/Research/stochastic-expatriate-descent/env/lib/python3.7/site-packages/torch/nn/modules/module.py\u001b[0m in \u001b[0;36m__call__\u001b[0;34m(self, *input, **kwargs)\u001b[0m\n\u001b[1;32m    548\u001b[0m             \u001b[0mresult\u001b[0m \u001b[0;34m=\u001b[0m \u001b[0mself\u001b[0m\u001b[0;34m.\u001b[0m\u001b[0m_slow_forward\u001b[0m\u001b[0;34m(\u001b[0m\u001b[0;34m*\u001b[0m\u001b[0minput\u001b[0m\u001b[0;34m,\u001b[0m \u001b[0;34m**\u001b[0m\u001b[0mkwargs\u001b[0m\u001b[0;34m)\u001b[0m\u001b[0;34m\u001b[0m\u001b[0;34m\u001b[0m\u001b[0m\n\u001b[1;32m    549\u001b[0m         \u001b[0;32melse\u001b[0m\u001b[0;34m:\u001b[0m\u001b[0;34m\u001b[0m\u001b[0;34m\u001b[0m\u001b[0m\n\u001b[0;32m--> 550\u001b[0;31m             \u001b[0mresult\u001b[0m \u001b[0;34m=\u001b[0m \u001b[0mself\u001b[0m\u001b[0;34m.\u001b[0m\u001b[0mforward\u001b[0m\u001b[0;34m(\u001b[0m\u001b[0;34m*\u001b[0m\u001b[0minput\u001b[0m\u001b[0;34m,\u001b[0m \u001b[0;34m**\u001b[0m\u001b[0mkwargs\u001b[0m\u001b[0;34m)\u001b[0m\u001b[0;34m\u001b[0m\u001b[0;34m\u001b[0m\u001b[0m\n\u001b[0m\u001b[1;32m    551\u001b[0m         \u001b[0;32mfor\u001b[0m \u001b[0mhook\u001b[0m \u001b[0;32min\u001b[0m \u001b[0mself\u001b[0m\u001b[0;34m.\u001b[0m\u001b[0m_forward_hooks\u001b[0m\u001b[0;34m.\u001b[0m\u001b[0mvalues\u001b[0m\u001b[0;34m(\u001b[0m\u001b[0;34m)\u001b[0m\u001b[0;34m:\u001b[0m\u001b[0;34m\u001b[0m\u001b[0;34m\u001b[0m\u001b[0m\n\u001b[1;32m    552\u001b[0m             \u001b[0mhook_result\u001b[0m \u001b[0;34m=\u001b[0m \u001b[0mhook\u001b[0m\u001b[0;34m(\u001b[0m\u001b[0mself\u001b[0m\u001b[0;34m,\u001b[0m \u001b[0minput\u001b[0m\u001b[0;34m,\u001b[0m \u001b[0mresult\u001b[0m\u001b[0;34m)\u001b[0m\u001b[0;34m\u001b[0m\u001b[0;34m\u001b[0m\u001b[0m\n",
      "\u001b[0;32m~/Research/stochastic-expatriate-descent/env/lib/python3.7/site-packages/torch/nn/modules/linear.py\u001b[0m in \u001b[0;36mforward\u001b[0;34m(self, input)\u001b[0m\n\u001b[1;32m     85\u001b[0m \u001b[0;34m\u001b[0m\u001b[0m\n\u001b[1;32m     86\u001b[0m     \u001b[0;32mdef\u001b[0m \u001b[0mforward\u001b[0m\u001b[0;34m(\u001b[0m\u001b[0mself\u001b[0m\u001b[0;34m,\u001b[0m \u001b[0minput\u001b[0m\u001b[0;34m)\u001b[0m\u001b[0;34m:\u001b[0m\u001b[0;34m\u001b[0m\u001b[0;34m\u001b[0m\u001b[0m\n\u001b[0;32m---> 87\u001b[0;31m         \u001b[0;32mreturn\u001b[0m \u001b[0mF\u001b[0m\u001b[0;34m.\u001b[0m\u001b[0mlinear\u001b[0m\u001b[0;34m(\u001b[0m\u001b[0minput\u001b[0m\u001b[0;34m,\u001b[0m \u001b[0mself\u001b[0m\u001b[0;34m.\u001b[0m\u001b[0mweight\u001b[0m\u001b[0;34m,\u001b[0m \u001b[0mself\u001b[0m\u001b[0;34m.\u001b[0m\u001b[0mbias\u001b[0m\u001b[0;34m)\u001b[0m\u001b[0;34m\u001b[0m\u001b[0;34m\u001b[0m\u001b[0m\n\u001b[0m\u001b[1;32m     88\u001b[0m \u001b[0;34m\u001b[0m\u001b[0m\n\u001b[1;32m     89\u001b[0m     \u001b[0;32mdef\u001b[0m \u001b[0mextra_repr\u001b[0m\u001b[0;34m(\u001b[0m\u001b[0mself\u001b[0m\u001b[0;34m)\u001b[0m\u001b[0;34m:\u001b[0m\u001b[0;34m\u001b[0m\u001b[0;34m\u001b[0m\u001b[0m\n",
      "\u001b[0;32m~/Research/stochastic-expatriate-descent/env/lib/python3.7/site-packages/torch/nn/functional.py\u001b[0m in \u001b[0;36mlinear\u001b[0;34m(input, weight, bias)\u001b[0m\n\u001b[1;32m   1610\u001b[0m         \u001b[0mret\u001b[0m \u001b[0;34m=\u001b[0m \u001b[0mtorch\u001b[0m\u001b[0;34m.\u001b[0m\u001b[0maddmm\u001b[0m\u001b[0;34m(\u001b[0m\u001b[0mbias\u001b[0m\u001b[0;34m,\u001b[0m \u001b[0minput\u001b[0m\u001b[0;34m,\u001b[0m \u001b[0mweight\u001b[0m\u001b[0;34m.\u001b[0m\u001b[0mt\u001b[0m\u001b[0;34m(\u001b[0m\u001b[0;34m)\u001b[0m\u001b[0;34m)\u001b[0m\u001b[0;34m\u001b[0m\u001b[0;34m\u001b[0m\u001b[0m\n\u001b[1;32m   1611\u001b[0m     \u001b[0;32melse\u001b[0m\u001b[0;34m:\u001b[0m\u001b[0;34m\u001b[0m\u001b[0;34m\u001b[0m\u001b[0m\n\u001b[0;32m-> 1612\u001b[0;31m         \u001b[0moutput\u001b[0m \u001b[0;34m=\u001b[0m \u001b[0minput\u001b[0m\u001b[0;34m.\u001b[0m\u001b[0mmatmul\u001b[0m\u001b[0;34m(\u001b[0m\u001b[0mweight\u001b[0m\u001b[0;34m.\u001b[0m\u001b[0mt\u001b[0m\u001b[0;34m(\u001b[0m\u001b[0;34m)\u001b[0m\u001b[0;34m)\u001b[0m\u001b[0;34m\u001b[0m\u001b[0;34m\u001b[0m\u001b[0m\n\u001b[0m\u001b[1;32m   1613\u001b[0m         \u001b[0;32mif\u001b[0m \u001b[0mbias\u001b[0m \u001b[0;32mis\u001b[0m \u001b[0;32mnot\u001b[0m \u001b[0;32mNone\u001b[0m\u001b[0;34m:\u001b[0m\u001b[0;34m\u001b[0m\u001b[0;34m\u001b[0m\u001b[0m\n\u001b[1;32m   1614\u001b[0m             \u001b[0moutput\u001b[0m \u001b[0;34m+=\u001b[0m \u001b[0mbias\u001b[0m\u001b[0;34m\u001b[0m\u001b[0;34m\u001b[0m\u001b[0m\n",
      "\u001b[0;31mKeyboardInterrupt\u001b[0m: "
     ]
    }
   ],
   "source": [
    "_seed = None\n",
    "env = gym.make('CartPole-v0')\n",
    "env.seed(_seed)\n",
    "\n",
    "_policy_fn = make_policy_fn(NUMBER_ACTIONS, NUMBER_STATES)\n",
    "\n",
    "_hillclimber_kwargs = {\n",
    "    \"policy_fn\": _policy_fn,\n",
    "    \"gamma\": 1.0,\n",
    "    \"is_deterministic\": False,\n",
    "    \"preprocessing_fn\": None,\n",
    "    \"seed\": None,\n",
    "    \"sigma\": 1.0\n",
    "}\n",
    "\n",
    "cross_entropy_required_episodes = []\n",
    "for t in range(100):\n",
    "    scores, _ = cross_entropy_method(env, _hillclimber_kwargs, target_score=195.0, k=10, number_hillclimbers=100, number_iterations=1000)\n",
    "    cross_entropy_required_episodes.append(len(scores))\n"
   ]
  },
  {
   "cell_type": "code",
   "execution_count": null,
   "metadata": {},
   "outputs": [],
   "source": [
    "fig, ax = plt.subplots(1, 1)\n",
    "_ = ax.hist(cross_entropy_required_episodes)\n",
    "_ = ax.set(xlabel=\"Number of episodes\",\n",
    "           ylabel=\"Number of training runs\",\n",
    "           title=\"Number of episodes required to solve\")"
   ]
  },
  {
   "cell_type": "code",
   "execution_count": 65,
   "metadata": {},
   "outputs": [
    {
     "data": {
      "image/png": "[encoded data removed]",
      "text/plain": [
       "<Figure size 720x576 with 1 Axes>"
      ]
     },
     "metadata": {
      "needs_background": "light"
     },
     "output_type": "display_data"
    }
   ],
   "source": [
    "_, ax = plt.subplots(1, 1, figsize=(10, 8))\n",
    "simulate(best_hillclimber, env, ax)"
   ]
  },
  {
   "cell_type": "code",
   "execution_count": null,
   "metadata": {},
   "outputs": [],
   "source": []
  },
  {
   "cell_type": "markdown",
   "metadata": {},
   "source": [
    "## Evolutionary strategies\n",
    "\n",
    "OpenAI [blog post](https://openai.com/blog/evolution-strategies/) on evolutionary strategies. Link to paper https://arxiv.org/abs/1703.03864, https://arxiv.org/pdf/1703.03864.pdf"
   ]
  },
  {
   "cell_type": "code",
   "execution_count": null,
   "metadata": {},
   "outputs": [],
   "source": [
    "def evolutionary_strategies(env: gym.Env,\n",
    "                            hillclimber_kwargs: dict,\n",
    "                            target_score: float,\n",
    "                            k: int = 1,\n",
    "                            number_episodes: int = 2,\n",
    "                            number_hillclimbers: int = 5,\n",
    "                            number_iterations: int = 150,\n",
    "                            verbose: bool = False):\n",
    "    hillclimbers = [HillClimber(**hillclimber_kwargs) for _ in range(number_hillclimbers)]\n",
    "    scores = []\n",
    "    most_recent_scores = collections.deque(maxlen=100)\n",
    "    \n",
    "    for i in range(number_iterations):\n",
    "        # train each hillclimber for some number of episodes\n",
    "        _ = [train(hillclimber, env, float(\"inf\"), number_episodes, verbose=verbose) for hillclimber in hillclimbers]\n",
    "        \n",
    "        current_scores = torch.Tensor([hillclimber.score for hillclimber in hillclimbers])\n",
    "        weights = current_scores / current_scores.sum() \n",
    "        \n",
    "        # identify the best hillclimbers\n",
    "        best_hillclimbers = top_k_hillclimbers(hillclimbers, k)\n",
    "        \n",
    "        # average the policies of the best hillclimbers to get the best overall policy\n",
    "        best_policy_state_dict = average_state_dicts(best_hillclimbers)\n",
    "        \n",
    "        # evaluate the best overall policy\n",
    "        best_hillclimber = HillClimber(**hillclimber_kwargs)\n",
    "        _ = best_hillclimber.load_state_dict(best_policy_state_dict)\n",
    "        score, = train(best_hillclimber, env, float(\"inf\"), 1)\n",
    "        scores.append(score)\n",
    "        most_recent_scores.append(score)\n",
    "        \n",
    "        # if not solved, then synchronize the hill climbers and repeat\n",
    "        average_score = sum(most_recent_scores) / len(most_recent_scores)\n",
    "        if len(most_recent_scores) >= 100 and average_score >= target_score:\n",
    "            if verbose:\n",
    "                print(f\"\\nEnvironment solved in {i:d} iterations!\\tAverage Score: {average_score:.2f}\")\n",
    "            break\n",
    "        else:\n",
    "            synchronize_hillclimbers(hillclimbers, best_policy_state_dict)\n",
    "    \n",
    "    return scores, best_hillclimber\n"
   ]
  }
 ],
 "metadata": {
  "kernelspec": {
   "display_name": "Python 3",
   "language": "python",
   "name": "python3"
  },
  "language_info": {
   "codemirror_mode": {
    "name": "ipython",
    "version": 3
   },
   "file_extension": ".py",
   "mimetype": "text/x-python",
   "name": "python",
   "nbconvert_exporter": "python",
   "pygments_lexer": "ipython3",
   "version": "3.7.6"
  }
 },
 "nbformat": 4,
 "nbformat_minor": 4
}
