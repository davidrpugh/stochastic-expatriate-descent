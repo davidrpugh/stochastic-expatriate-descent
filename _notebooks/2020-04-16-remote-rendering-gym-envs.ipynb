{
 "cells": [
  {
   "cell_type": "markdown",
   "metadata": {},
   "source": [
    "# Rendering OpenAI Gym Envs on Binder and Google Colab \n",
    "> ???\n",
    "\n",
    "- branch: 2020-04-16-remote-rendering-gym-envs\n",
    "- badges: true\n",
    "- image: images/\n",
    "- comments: true\n",
    "- author: David R. Pugh\n",
    "- categories: [binder, google-colab]"
   ]
  },
  {
   "cell_type": "markdown",
   "metadata": {},
   "source": [
    "Getting OpenAI environments that support rendering to render properly on remote servers such as Google Colab and Binder turned out to be more challenging that I expected. In this post I lay out my solution in the hopes that I might save others time and effort to work it out independently (that said I did learn quite a bit by figuring it all out on my own)"
   ]
  },
  {
   "cell_type": "markdown",
   "metadata": {},
   "source": [
    "# Google Colab Preamble"
   ]
  },
  {
   "cell_type": "markdown",
   "metadata": {},
   "source": [
    "## Install X11 system dependencies\n",
    "\n",
    "Install necessary [X11](https://en.wikipedia.org/wiki/X_Window_System) dependencies, in particular [Xvfb](https://www.x.org/releases/X11R7.7/doc/man/man1/Xvfb.1.xhtml), which is an X server that can run on machines with no display hardware and no physical input devices. "
   ]
  },
  {
   "cell_type": "code",
   "execution_count": null,
   "metadata": {},
   "outputs": [],
   "source": [
    "!apt-get install -y xvfb x11-utils"
   ]
  },
  {
   "cell_type": "markdown",
   "metadata": {},
   "source": [
    "## Install additional Python dependencies\n",
    "\n",
    "Now that you have installed Xvfb, you need to install a Python wrapper \n",
    "[`pyvirtualdisplay`](https://github.com/ponty/PyVirtualDisplay) in order to interact with Xvfb \n",
    "virtual displays from within Python. Next you need to install the Python bindings for \n",
    "[OpenGL](https://www.opengl.org/): [PyOpenGL](http://pyopengl.sourceforge.net/) and \n",
    "[PyOpenGL-accelerate](https://pypi.org/project/PyOpenGL-accelerate/). The former are the actual \n",
    "Python bindings, the latter is and optional set of C (Cython) extensions providing acceleration of \n",
    "common operations for slow points in PyOpenGL 3.x."
   ]
  },
  {
   "cell_type": "code",
   "execution_count": null,
   "metadata": {},
   "outputs": [],
   "source": [
    "!pip install pyvirtualdisplay==0.2.* PyOpenGL==3.1.* PyOpenGL-accelerate==3.1.*"
   ]
  },
  {
   "cell_type": "markdown",
   "metadata": {},
   "source": [
    "## Install OpenAI Gym"
   ]
  },
  {
   "cell_type": "code",
   "execution_count": null,
   "metadata": {},
   "outputs": [],
   "source": [
    "!pip install gym[box2d]==0.17.* "
   ]
  },
  {
   "cell_type": "markdown",
   "metadata": {},
   "source": [
    "## Create a virtual display in the background\n",
    "\n",
    "Next you need to create a virtual display in the background which the Gym Envs can connect to for rendering purposes. You can check that there is no display at present by confirming that the value of the [`DISPLAY`](https://askubuntu.com/questions/432255/what-is-the-display-environment-variable) environment variable has not yet been set. "
   ]
  },
  {
   "cell_type": "code",
   "execution_count": null,
   "metadata": {},
   "outputs": [],
   "source": [
    "!echo $DISPLAY"
   ]
  },
  {
   "cell_type": "markdown",
   "metadata": {},
   "source": [
    "The code in the cell below creates a virtual display in the background that your Gym Envs can connect to for rendering. You can adjust the `size` of the virtual buffer as you like but you must set `visible=False` when working with Xvfb. \n",
    "\n",
    "**This code only needs to be run once per session to start the display.**"
   ]
  },
  {
   "cell_type": "code",
   "execution_count": null,
   "metadata": {},
   "outputs": [],
   "source": [
    "import pyvirtualdisplay\n",
    "\n",
    "\n",
    "_display = pyvirtualdisplay.Display(visible=False,  # use False with Xvfb\n",
    "                                    size=(1400, 900))\n",
    "_ = _display.start()"
   ]
  },
  {
   "cell_type": "markdown",
   "metadata": {},
   "source": [
    "After running the cell above you can echo out the value of the `DISPLAY` environment variable again to confirm that you now have a display running."
   ]
  },
  {
   "cell_type": "code",
   "execution_count": null,
   "metadata": {},
   "outputs": [],
   "source": [
    "!echo $DISPLAY"
   ]
  },
  {
   "cell_type": "markdown",
   "metadata": {},
   "source": [
    "# Binder Preamble"
   ]
  },
  {
   "cell_type": "markdown",
   "metadata": {},
   "source": [
    "## No additional installation required!\n",
    "\n",
    "Unlike Google Colab, with Binder you can bake all the required dependencies (including the X11 system dependencies!) into the Docker image on which the Binder instance is based using Binder config files. These config files can either live in the root directory of your Git repo or in a `binder` sub-directory as is this case here. If you are interested in learning more about Binder, then check out the documentation for [BinderHub](https://binderhub.readthedocs.io/en/latest/) which is the underlying technology behind the Binder project."
   ]
  },
  {
   "cell_type": "code",
   "execution_count": 6,
   "metadata": {},
   "outputs": [
    {
     "name": "stdout",
     "output_type": "stream",
     "text": [
      "#!/bin/bash\n",
      "\n",
      "apt-get install -y xvfb x11-utils\n"
     ]
    }
   ],
   "source": [
    "# config file for system dependencies\n",
    "!cat ../binder/apt.txt"
   ]
  },
  {
   "cell_type": "code",
   "execution_count": 8,
   "metadata": {},
   "outputs": [
    {
     "name": "stdout",
     "output_type": "stream",
     "text": [
      "name: null\n",
      "\n",
      "channels:\n",
      "  - conda-forge\n",
      "  - defaults\n",
      "\n",
      "dependencies:\n",
      "  - gym-box2d=0.17\n",
      "  - jupyterlab=2.0\n",
      "  - matplotlib=3.2\n",
      "  - pip=20.0\n",
      "  - python=3.7\n",
      "  - pyvirtualdisplay=0.2\n"
     ]
    }
   ],
   "source": [
    "# config file describing the conda environment\n",
    "!cat ../binder/environment.yml"
   ]
  },
  {
   "cell_type": "code",
   "execution_count": 9,
   "metadata": {},
   "outputs": [
    {
     "name": "stdout",
     "output_type": "stream",
     "text": [
      "PyOpenGL==3.1.*\n",
      "PyOpenGL-accelerate==3.1.*\n"
     ]
    }
   ],
   "source": [
    "# config file containing python deps not avaiable via conda channels\n",
    "!cat ../binder/requirements.txt"
   ]
  },
  {
   "cell_type": "markdown",
   "metadata": {},
   "source": [
    "## Create a virtual display in the background\n",
    "\n",
    "Next you need to create a virtual display in the background which the Gym Envs can connect to for rendering purposes. You can check that there is no display at present by confirming that the value of the [`DISPLAY`](https://askubuntu.com/questions/432255/what-is-the-display-environment-variable) environment variable has not yet been set."
   ]
  },
  {
   "cell_type": "code",
   "execution_count": null,
   "metadata": {},
   "outputs": [],
   "source": [
    "!echo $DISPLAY"
   ]
  },
  {
   "cell_type": "markdown",
   "metadata": {},
   "source": [
    "The code in the cell below creates a virtual display in the background that your Gym Envs can connect to for rendering. You can adjust the `size` of the virtual buffer as you like but you must set `visible=False` when working with Xvfb. \n",
    "\n",
    "**This code only needs to be run once per session to start the display.**"
   ]
  },
  {
   "cell_type": "code",
   "execution_count": null,
   "metadata": {},
   "outputs": [],
   "source": [
    "import pyvirtualdisplay\n",
    "\n",
    "\n",
    "_display = pyvirtualdisplay.Display(visible=False,  # use False with Xvfb\n",
    "                                    size=(1400, 900))\n",
    "_display.start()"
   ]
  },
  {
   "cell_type": "markdown",
   "metadata": {},
   "source": [
    "After running the cell above you can echo out the value of the `DISPLAY` environment variable again to confirm that you now have a display running."
   ]
  },
  {
   "cell_type": "code",
   "execution_count": 1,
   "metadata": {},
   "outputs": [
    {
     "name": "stdout",
     "output_type": "stream",
     "text": [
      "/private/tmp/com.apple.launchd.CPYx1vyZ97/org.macosforge.xquartz:0\n"
     ]
    }
   ],
   "source": [
    "!echo $DISPLAY"
   ]
  },
  {
   "cell_type": "markdown",
   "metadata": {},
   "source": [
    "## Demo\n",
    "\n",
    "Just to prove that the above setup works as advertised I will run a short simulation.\n",
    "\n",
    "First I will define some useful type aliases for `State` (modeled as a NumPy array) and `Agent` (modeled as a function that maps `State` to `Action`) ."
   ]
  },
  {
   "cell_type": "code",
   "execution_count": 3,
   "metadata": {},
   "outputs": [],
   "source": [
    "import typing\n",
    "\n",
    "import numpy as np\n",
    "\n",
    "\n",
    "# represent states as arrays and actions as ints\n",
    "State = np.array\n",
    "Action = int\n",
    "\n",
    "# agent is just a function! \n",
    "Agent = typing.Callable[[State], Action]"
   ]
  },
  {
   "cell_type": "code",
   "execution_count": null,
   "metadata": {},
   "outputs": [],
   "source": [
    "import gym\n",
    "import matplotlib.pyplot as plt\n",
    "from IPython import display\n",
    "\n",
    "\n",
    "def simulate(agent: Agent, env: gym.Env) -> None:\n",
    "    state = env.reset()\n",
    "    img = plt.imshow(env.render(mode='rgb_array'))\n",
    "    done = False\n",
    "    while not done:\n",
    "        action = agent(state)\n",
    "        img.set_data(env.render(mode='rgb_array')) \n",
    "        plt.axis('off')\n",
    "        display.display(plt.gcf())\n",
    "        display.clear_output(wait=True)\n",
    "        state, reward, done, _ = env.step(action)       \n",
    "    env.close()\n",
    "    \n"
   ]
  },
  {
   "cell_type": "code",
   "execution_count": null,
   "metadata": {},
   "outputs": [],
   "source": [
    "def uniform_random_policy(state: State,\n",
    "                          number_actions: int,\n",
    "                          random_state: np.random.RandomState) -> Action:\n",
    "    return random_state.randint(number_actions)\n",
    "\n",
    "\n",
    "def make_agent(number_actions: int,\n",
    "               random_state: np.random.RandomState = None) -> Agent:\n",
    "    _random_state = np.random.RandomState() if random_state is None else random_state\n",
    "    return lambda state: uniform_random_policy(state, number_actions, _random_state)\n",
    "    "
   ]
  },
  {
   "cell_type": "markdown",
   "metadata": {},
   "source": [
    "Choose an environment (note that not all of the Open AI Gym environments support rendering)."
   ]
  },
  {
   "cell_type": "code",
   "execution_count": null,
   "metadata": {},
   "outputs": [],
   "source": [
    "lunar_lander_v2 = gym.make('LunarLander-v2')\n",
    "_ = lunar_lander_v2.seed(42)"
   ]
  },
  {
   "cell_type": "code",
   "execution_count": null,
   "metadata": {},
   "outputs": [],
   "source": [
    "random_agent = make_agent(lunar_lander_v2.action_space.n, random_state=None)\n",
    "simulate(random_agent, lunar_lander_v2)"
   ]
  },
  {
   "cell_type": "code",
   "execution_count": null,
   "metadata": {},
   "outputs": [],
   "source": []
  }
 ],
 "metadata": {
  "kernelspec": {
   "display_name": "Python 3",
   "language": "python",
   "name": "python3"
  },
  "language_info": {
   "codemirror_mode": {
    "name": "ipython",
    "version": 3
   },
   "file_extension": ".py",
   "mimetype": "text/x-python",
   "name": "python",
   "nbconvert_exporter": "python",
   "pygments_lexer": "ipython3",
   "version": "3.7.6"
  }
 },
 "nbformat": 4,
 "nbformat_minor": 4
}
