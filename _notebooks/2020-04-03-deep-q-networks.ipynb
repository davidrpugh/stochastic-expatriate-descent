{
 "cells": [
  {
   "cell_type": "markdown",
   "metadata": {},
   "source": [
    "# Getting familiar with deep Q-networks\n",
    "> Notes on the seminal Deep Q-Networks *Nature* paper from Deepmind.\n",
    "\n",
    "- branch: 2020-04-03-deep-q-networks\n",
    "- badges: true\n",
    "- image: images/q-network-architecture.jpg\n",
    "- comments: true\n",
    "- author: David R. Pugh\n",
    "- categories: [pytorch, deep-reinforcement-learning, deep-q-networks]"
   ]
  },
  {
   "cell_type": "markdown",
   "metadata": {},
   "source": [
    "## Colab specific environment setup\n",
    "\n",
    "If you are playing around with this notebook on Google Colab, then you will need to run the following cell in order to install the required dependencies into the environment."
   ]
  },
  {
   "cell_type": "code",
   "execution_count": 134,
   "metadata": {
    "collapsed": true,
    "jupyter": {
     "outputs_hidden": true
    }
   },
   "outputs": [
    {
     "name": "stdout",
     "output_type": "stream",
     "text": [
      "Collecting package metadata (current_repodata.json): done\n",
      "Solving environment: done\n",
      "\n",
      "## Package Plan ##\n",
      "\n",
      "  environment location: /Users/pughdr/Research/stochastic-expatriate-descent/env\n",
      "\n",
      "  added / updated specs:\n",
      "    - pytorch=1.4\n",
      "    - scipy=1.4\n",
      "    - swig=4.0\n",
      "\n",
      "\n",
      "The following packages will be downloaded:\n",
      "\n",
      "    package                    |            build\n",
      "    ---------------------------|-----------------\n",
      "    openssl-1.1.1f             |       h0b31af3_0         1.9 MB  conda-forge\n",
      "    pcre-8.44                  |       h4a8c4bd_0         222 KB  conda-forge\n",
      "    scipy-1.4.1                |   py37hce1b9e5_2        18.9 MB  conda-forge\n",
      "    swig-4.0.1                 |       h6de7cb9_0         1.1 MB  conda-forge\n",
      "    ------------------------------------------------------------\n",
      "                                           Total:        22.1 MB\n",
      "\n",
      "The following NEW packages will be INSTALLED:\n",
      "\n",
      "  pcre               conda-forge/osx-64::pcre-8.44-h4a8c4bd_0\n",
      "  scipy              conda-forge/osx-64::scipy-1.4.1-py37hce1b9e5_2\n",
      "  swig               conda-forge/osx-64::swig-4.0.1-h6de7cb9_0\n",
      "\n",
      "The following packages will be SUPERSEDED by a higher-priority channel:\n",
      "\n",
      "  ca-certificates     pkgs/main::ca-certificates-2020.1.1-0 --> conda-forge::ca-certificates-2019.11.28-hecc5488_0\n",
      "  certifi              pkgs/main::certifi-2019.11.28-py37_1 --> conda-forge::certifi-2019.11.28-py37hc8dfbb8_1\n",
      "  openssl              pkgs/main::openssl-1.1.1f-h1de35cc_0 --> conda-forge::openssl-1.1.1f-h0b31af3_0\n",
      "\n",
      "\n",
      "\n",
      "Downloading and Extracting Packages\n",
      "pcre-8.44            | 222 KB    | ##################################### | 100% \n",
      "swig-4.0.1           | 1.1 MB    | ##################################### | 100% \n",
      "scipy-1.4.1          | 18.9 MB   | ##################################### | 100% \n",
      "openssl-1.1.1f       | 1.9 MB    | ##################################### | 100% \n",
      "Preparing transaction: done\n",
      "Verifying transaction: done\n",
      "Executing transaction: done\n",
      "Requirement already satisfied: gym==0.17.* in /Users/pughdr/Research/stochastic-expatriate-descent/env/lib/python3.7/site-packages (0.17.1)\n",
      "Requirement already satisfied: pyvirtualdisplay==0.2.* in /Users/pughdr/Research/stochastic-expatriate-descent/env/lib/python3.7/site-packages (0.2.5)\n",
      "Collecting box2d==2.3.*\n",
      "  Using cached Box2D-2.3.2.tar.gz (427 kB)\n",
      "Requirement already satisfied: cloudpickle<1.4.0,>=1.2.0 in /Users/pughdr/Research/stochastic-expatriate-descent/env/lib/python3.7/site-packages (from gym==0.17.*) (1.3.0)\n",
      "Requirement already satisfied: scipy in /Users/pughdr/Research/stochastic-expatriate-descent/env/lib/python3.7/site-packages (from gym==0.17.*) (1.4.1)\n",
      "Requirement already satisfied: numpy>=1.10.4 in /Users/pughdr/Research/stochastic-expatriate-descent/env/lib/python3.7/site-packages (from gym==0.17.*) (1.18.1)\n",
      "Requirement already satisfied: pyglet<=1.5.0,>=1.4.0 in /Users/pughdr/Research/stochastic-expatriate-descent/env/lib/python3.7/site-packages (from gym==0.17.*) (1.5.0)\n",
      "Requirement already satisfied: six in /Users/pughdr/Research/stochastic-expatriate-descent/env/lib/python3.7/site-packages (from gym==0.17.*) (1.14.0)\n",
      "Requirement already satisfied: EasyProcess in /Users/pughdr/Research/stochastic-expatriate-descent/env/lib/python3.7/site-packages (from pyvirtualdisplay==0.2.*) (0.2.10)\n",
      "Requirement already satisfied: future in /Users/pughdr/Research/stochastic-expatriate-descent/env/lib/python3.7/site-packages (from pyglet<=1.5.0,>=1.4.0->gym==0.17.*) (0.18.2)\n",
      "Building wheels for collected packages: box2d\n",
      "  Building wheel for box2d (setup.py) ... \u001b[?25ldone\n",
      "\u001b[?25h  Created wheel for box2d: filename=Box2D-2.3.2-cp37-cp37m-macosx_10_9_x86_64.whl size=522295 sha256=e591bdf01666a4cf6a2410096282a50a0ff2e40a366db1b6a4fc2b13de9744dc\n",
      "  Stored in directory: /Users/pughdr/Library/Caches/pip/wheels/89/b0/a7/84885e448a1d3ca7b9779a7aba7d71121b1b11baec80027885\n",
      "Successfully built box2d\n",
      "Installing collected packages: box2d\n",
      "Successfully installed box2d-2.3.2\n"
     ]
    }
   ],
   "source": [
    "!conda install --yes --channel pytorch --channel conda-forge pytorch=1.4 pandas=1.0 scipy=1.4 swig=4.0\n",
    "!pip install gym[box2d]==0.17.*"
   ]
  },
  {
   "cell_type": "code",
   "execution_count": 1,
   "metadata": {},
   "outputs": [],
   "source": [
    "import collections\n",
    "import typing\n",
    "\n",
    "from IPython import display\n",
    "import gym\n",
    "import matplotlib.pyplot as plt\n",
    "import numpy as np\n",
    "import pandas as pd\n",
    "import torch\n",
    "from torch import nn, optim\n",
    "from torch.nn import functional as F"
   ]
  },
  {
   "cell_type": "code",
   "execution_count": 2,
   "metadata": {},
   "outputs": [],
   "source": [
    "%matplotlib inline\n",
    "plt.ion()"
   ]
  },
  {
   "cell_type": "markdown",
   "metadata": {},
   "source": [
    "I am currently using my COVID-19 imposed quarantine to expand my deep learning skills by completing the [*Deep Reinforcement Learning Nanodegree*](https://www.udacity.com/course/deep-reinforcement-learning-nanodegree--nd893) from [Udacity](https://www.udacity.com/). This past week I have been working my way through the seminal 2015 *Nature* paper from researchers at [Deepmind](https://deepmind.com/) [*Human-level control through deep reinforcement learning*](https://storage.googleapis.com/deepmind-media/dqn/DQNNaturePaper.pdf) (Minh et al 2015).\n",
    "\n",
    "### Why is Minh et al 2015 important?\n",
    "\n",
    "While Minh et al 2015 was not the first paper to use neural networks to approximate the action-value function, this paper was the first to demonstrate that the same neural network architecture could be trained in a computationally efficient manner to \"solve\" a large number or different tasks.\n",
    "\n",
    "The paper also contributed several practical \"tricks\" for getting deep neural networks to consistently converge during training. This was a non-trivial contribution as issues with training convergence had plaugued previous attempts to use neural networks as function approximators in reinforcement learning tasks and were blocking widespread adoption of deep learning techniques within the reinforcemnt learning community.\n",
    "\n",
    "## Summary of the paper\n",
    "\n",
    "Minh et al 2015 uses deep (convolutional) neural network to approximate the optimal action-value function\n",
    "\n",
    "$$ Q^*(s, a) = \\max_{\\pi} \\mathbb{E}\\Bigg[\\sum_{s=0}^{\\infty} \\gamma^s r_{t+s} | s_t=s, a_t=a, \\pi \\Bigg] $$\n",
    "\n",
    "which is the maximum sum of rewards $r_t$ discounted by $\\gamma$ at each time-step $t$ achievable by a behaviour policy $\\pi = P(a|s)$, after making an observation of the state $s$ and taking an action $a$. \n",
    "\n",
    "Prior to this seminal paper it was well known that standard reinforcement learning algorithms were unstable or even diverged when a non-linear function approximators such as a neural networks were used to represent the action-value function $Q$. Why? \n",
    "\n",
    "Minh et al 2015 discuss several reasons.\n",
    "\n",
    "1. Correlations present in the sequence of observations of the state $s$. In reinforcement learning applications the sequence state observations is a time-series which will almost surely be auto-correlated. But surely this would also be true of any application of deep neural networks to model time series data. \n",
    "2. Small updates to $Q$ may significantly change the policy, $\\pi$ and therefore change the data distribution.\n",
    "3. Correlations between the action-values, $Q$, and the target values $r + \\gamma \\max_{a'} Q(s', a')$\n",
    "\n",
    "In the paper the authors address these issues by using...\n",
    "\n",
    "* a biologically inspired mechanism they refer to as *experience replay* that randomizes over the data which removes correlations in the sequence of observations of the state $s$ and smoothes over changes in the data distribution (issues 1 and 2 above).\n",
    "* an iterative update rule that adjusts the action-values, $Q$, towards target values, $Q'$ that are only periodically updated thereby reducing correlations with the target (issue 3 above)."
   ]
  },
  {
   "cell_type": "markdown",
   "metadata": {},
   "source": [
    "### Approximating the action-value function, $Q(s,a)$\n",
    "\n",
    "There are several possible ways of approximating the action-value function $Q$ using a neural network. The only input to the DQN architecture is the state representation and the output layer has a separate output for each possible action. The output units correspond to the predicted $Q$-values of the individual actions for the input state. A representaion of the DQN architecture from the paper is reproduced in the figure below. "
   ]
  },
  {
   "cell_type": "markdown",
   "metadata": {},
   "source": [
    "<p align=\"center\">\n",
    "   <img alt=\"Deep Q-Network Architecture\" src=\"../images/q-network-architecture.jpg\" width=\"750\">\n",
    "</p>"
   ]
  },
  {
   "cell_type": "markdown",
   "metadata": {},
   "source": [
    "The input to the neural network consists of an 84 x 84 x 4 image produced by the preprocessing map $\\phi$. The first hidden layer combines a convolutional layer with 32 filters (each of which uses an 8 x 8 kernel and a stride of 4) and a ReLU activation function. The second hidden layer convolves 64 filters (each of which using a 4 x 4 kernel with stride of 2) followed by a ReLU activation function. This is followed by a third convolutional layer that combines 64 filters (each of which uses a 3 x 3 kernel and a stride of 1) with yet anotehr ReLU activation. The final hidden layer is fully-connected (i.e., dense) linear layer with 512 neurons followed by a ReLU activation. The output layer is a fully-connected layer with a single output for each action.\n",
    "\n",
    "A PyTorch implementation of the DQN architecture would look something like the following."
   ]
  },
  {
   "cell_type": "code",
   "execution_count": 3,
   "metadata": {},
   "outputs": [],
   "source": [
    "def deep_q_network(in_channels: int, action_size: int) -> nn.Module:\n",
    "    deep_q_network = nn.Sequential(\n",
    "        nn.Conv2d(in_channels, out_channels=32, kernel_size=8, stride=4),\n",
    "        nn.ReLU(),\n",
    "        nn.Conv2d(in_channels=32, out_channels=64, kernel_size=4, stride=2),\n",
    "        nn.ReLU(),\n",
    "        nn.Conv2d(in_channels=64, out_channels=64, kernel_size=2, stride=1),\n",
    "        nn.ReLU(),\n",
    "        nn.Linear(in_features=64, out_features=512),\n",
    "        nn.ReLU(),\n",
    "        nn.Linear(in_features=512, out_features=action_size)\n",
    "    )\n",
    "    return deep_q_network"
   ]
  },
  {
   "cell_type": "markdown",
   "metadata": {},
   "source": [
    "### The Loss Function\n",
    "\n",
    "The $Q$-learning update at iteration $i$ uses the following loss function\n",
    "\n",
    "$$ \\mathcal{L_i}(\\theta_i) = \\mathbb{E}_{(s, a, r, s') \\sim U(D)} \\Bigg[\\bigg(r + \\gamma \\max_{a'} Q\\big(s', a'; \\theta_i^{-}\\big) - Q\\big(s, a; \\theta_i\\big)\\bigg)^2\\Bigg] $$\n",
    "\n",
    "where $\\gamma$ is the discount factor determining the agent’s horizon, $\\theta_i$ are the parameters of the $Q$-network at iteration $i$ and $\\theta_i^{-}$ are the $Q$-network parameters used to compute the target at iteration $i$. The target network parameters $\\theta_i^{-}$ are only updated with the $Q$-network parameters $\\theta_i$ every $C$ steps and are held fixed between individual updates. "
   ]
  },
  {
   "cell_type": "markdown",
   "metadata": {},
   "source": [
    "### Experience Replay\n",
    "\n",
    "To perform *experience replay* the authors store the agent's experiences $e_t$ as represented by the tuple\n",
    "\n",
    "$$ e_t = (s_t, a_t, r_t, s_{t+1}) $$\n",
    "\n",
    "consisting of the observed state in period $t$, the reward received in period $t$, the action taken in period $t$, and the resulting state in period $t+1$. The dataset of agent experiences at period $t$ consists of the set of past experiences.\n",
    "\n",
    "$$ D_t = \\{e1, e2, ..., e_t \\} $$\n",
    "\n",
    "Depending on the task it may note be feasible for the agent to store the entire history of past experiences.\n",
    "\n",
    "During learning Q-learning updates are computed based on samples (or minibatches) of experience $(s,a,r,s')$, drawn uniformly at random from the pool of stored samples $D_t$.\n",
    "\n",
    "The following is my Python implmentation of these ideas. "
   ]
  },
  {
   "cell_type": "code",
   "execution_count": 4,
   "metadata": {},
   "outputs": [],
   "source": [
    "_field_names = [\n",
    "    \"state\",\n",
    "    \"action\",\n",
    "    \"reward\",\n",
    "    \"next_state\",\n",
    "    \"done\"\n",
    "]\n",
    "Experience = collections.namedtuple(\"Experience\", field_names=_field_names)\n",
    "\n",
    "\n",
    "class ExperienceReplayBuffer:\n",
    "    \"\"\"Fixed-size buffer to store experience tuples.\"\"\"\n",
    "\n",
    "    def __init__(self,\n",
    "                 batch_size: int,\n",
    "                 buffer_size: int = None,\n",
    "                 random_state: np.random.RandomState = None) -> None:\n",
    "        \"\"\"\n",
    "        Initialize an ExperienceReplayBuffer object.\n",
    "\n",
    "        Parameters:\n",
    "        -----------\n",
    "        buffer_size (int): maximum size of buffer\n",
    "        batch_size (int): size of each training batch\n",
    "        seed (int): random seed\n",
    "        \n",
    "        \"\"\"\n",
    "        self._batch_size = batch_size\n",
    "        self._buffer_size = buffer_size\n",
    "        self._buffer = collections.deque(maxlen=buffer_size)\n",
    "        self._random_state = np.random.RandomState() if random_state is None else random_state\n",
    "        \n",
    "    def __len__(self) -> int:\n",
    "        return len(self._buffer)\n",
    "    \n",
    "    @property\n",
    "    def batch_size(self) -> int:\n",
    "        return self._batch_size\n",
    "    \n",
    "    @property\n",
    "    def buffer_size(self) -> int:\n",
    "        return self._buffer_size\n",
    "\n",
    "    def is_full(self) -> bool:\n",
    "        return len(self._buffer) == self._buffer_size\n",
    "    \n",
    "    def append(self, experience: Experience) -> None:\n",
    "        \"\"\"Add a new experience to memory.\"\"\"\n",
    "        self._buffer.append(experience)\n",
    "    \n",
    "    def sample(self) -> typing.List[Experience]:\n",
    "        \"\"\"Randomly sample a batch of experiences from memory.\"\"\"\n",
    "        idxs = self._random_state.randint(len(self._buffer), size=self._batch_size)\n",
    "        experiences = [self._buffer[idx] for idx in idxs]\n",
    "        return experiences\n"
   ]
  },
  {
   "cell_type": "markdown",
   "metadata": {},
   "source": [
    "### The Deep Q-Network Algorithm\n",
    "\n",
    "The following is Python pseudo-code for the Deep Q-Network (DQN) algorithm. For more fine-grained details of the DQN algorithm see the methods section of [Minh et al 2015](https://storage.googleapis.com/deepmind-media/dqn/DQNNaturePaper.pdf).\n",
    "\n",
    "```python\n",
    "\n",
    "# hyper-parameters\n",
    "batch_size = 32 # number of experience tuples used in computing the gradient descent parameter update.\n",
    "buffer_size = 10000 # number of experience tuples stored in the replay buffer\n",
    "gamma = 0.99 # discount factor used in the Q-learning update\n",
    "target_network_update_frequency = 4 # frequency (measured in parameter updates) with which target network is updated.\n",
    "update_frequency = 4 # frequency (measured in number of timesteps) with which q-network parameters are updated.\n",
    "\n",
    "# initilizing the various data structures\n",
    "replay_buffer = ExperienceReplayBuffer(batch_size, buffer_size, seed)\n",
    "local_q_network = initialize_q_network()\n",
    "target_q_network = initialize_q_network()\n",
    "synchronize_q_networks(target_q_network, local_q_network)\n",
    "\n",
    "for i in range(number_episodes)\n",
    "\n",
    "    # initialize the environment state\n",
    "    state = env.reset()\n",
    "\n",
    "    # simulate a single training episode\n",
    "    done = False\n",
    "    timesteps = 0\n",
    "    parameter_updates = 0\n",
    "    while not done:\n",
    "\n",
    "        # greedy action based on Q(s, a; theta)\n",
    "        action = agent.choose_epsilon_greedy_action(state) \n",
    "\n",
    "        # update the environment based on the chosen action\n",
    "        next_state, reward, done = env.step(action)\n",
    "\n",
    "        # agent records experience in its replay buffer\n",
    "        experience = (state, action, reward, next_state, done)\n",
    "        agent.replay_buffer.append(experience)\n",
    "\n",
    "        # agent samples a mini-batch of experiences from its replay buffer\n",
    "        experiences = agent.replay_buffer.sample()\n",
    "        states, actions, rewards, next_states, dones = experiences\n",
    "\n",
    "        # agent learns every update_frequency timesteps\n",
    "        if timesteps % update_frequency == 0:\n",
    "            \n",
    "            # compute the Q^- values using the Q-learning formula\n",
    "            target_q_values = q_learning_update(target_q_network, rewards, next_states, dones)\n",
    "\n",
    "            # compute the Q values\n",
    "            local_q_values = local_q_network(states, actions)\n",
    "\n",
    "            # agent updates the parameters theta using gradient descent\n",
    "            loss = mean_squared_error(target_q_values, local_q_values)\n",
    "            gradient_descent_update(loss)\n",
    "            \n",
    "            parameter_updates += 1\n",
    "\n",
    "        # every target_network_update_frequency timesteps set theta^- = theta\n",
    "        if parameter_updates % target_network_update_frequency == 0:\n",
    "            synchronize_q_networks(target_q_network, local_q_network)\n",
    "```\n"
   ]
  },
  {
   "cell_type": "markdown",
   "metadata": {},
   "source": [
    "## Solving the `LunarLander-v2` environment\n",
    "\n",
    "In the rest of this blog post I will use the DQN algorithm to train an agent to solve the [LunarLander-v2](https://gym.openai.com/envs/LunarLander-v2/) environment from [OpenAI](https://openai.com/).\n",
    "\n",
    "In this environment the landing pad is always at coordinates (0,0). The reward for moving the lander from the top of the screen to landing pad and arriving at zero speed is typically between 100 and 140 points. Firing the main engine is -0.3 points each frame (so the lander is incentivized to fire the engine as few times possible). If the lander moves away from landing pad it loses reward (so the lander is incentived to land in the designated landing area). The lander is also incentived to land \"gracefully\" (and not crash in the landing area!).\n",
    "\n",
    "A training episode finishes if the lander crashes (-100 points) or comes to rest (+100 points). Each leg with ground contact receives and additional +10 points. The task is considered \"solved\" if the lander is able to achieve 200 points (I will actually be more stringent and define \"solved\" as achieving over 200 points on average in the most recent 100 training episodes).\n",
    "\n",
    "### Action Space \n",
    "\n",
    "There are four discrete actions available: \n",
    "\n",
    "0. Do nothing.\n",
    "1. Fire the left orientation engine.\n",
    "2. Fire main engine.\n",
    "3. Fire the right orientation engine."
   ]
  },
  {
   "cell_type": "code",
   "execution_count": 5,
   "metadata": {},
   "outputs": [
    {
     "name": "stderr",
     "output_type": "stream",
     "text": [
      "/Users/pughdr/Research/stochastic-expatriate-descent/env/lib/python3.7/site-packages/gym/logger.py:30: UserWarning: \u001b[33mWARN: Box bound precision lowered by casting to float32\u001b[0m\n",
      "  warnings.warn(colorize('%s: %s'%('WARN', msg % args), 'yellow'))\n"
     ]
    }
   ],
   "source": [
    "env = gym.make('LunarLander-v2')\n",
    "_ = env.seed(42)"
   ]
  },
  {
   "cell_type": "markdown",
   "metadata": {},
   "source": [
    "### Defining a generic `Agent` and `train` loop\n",
    "\n",
    "In the cell below I define a fairly generic training loop for training and `Agent` to solve a task in a given `gym.Env` environment. In working through the hands-on portions of the [Udacity](https://www.udacity.com/) [*Deep Reinforcement Learning Nanodegree*](https://www.udacity.com/course/deep-reinforcement-learning-nanodegree--nd893) I found myself writing similar code over and over again to train the agent to solve a task. This is my first attempt to write something that I might be able to reuse on the course going forward."
   ]
  },
  {
   "cell_type": "code",
   "execution_count": 6,
   "metadata": {},
   "outputs": [],
   "source": [
    "class Agent:\n",
    "    \n",
    "    def choose_action(self, state: np.array) -> int:\n",
    "        \"\"\"Rule for choosing an action given the current state of the environment.\"\"\"\n",
    "        raise NotImplementedError\n",
    "        \n",
    "    def save(self, filepath) -> None:\n",
    "        \"\"\"Save any important agent state to a file.\"\"\"\n",
    "        raise NotImplementedError\n",
    "        \n",
    "    def step(self,\n",
    "             state: np.array,\n",
    "             action: int,\n",
    "             reward: float,\n",
    "             next_state: np.array,\n",
    "             done: bool) -> None:\n",
    "        \"\"\"Update agent's state after observing the effect of its action on the environment.\"\"\"\n",
    "        raise NotImplmentedError\n"
   ]
  },
  {
   "cell_type": "code",
   "execution_count": 7,
   "metadata": {},
   "outputs": [],
   "source": [
    "def _train_for_at_most(agent: Agent, env: gym.Env, max_timesteps: int) -> int:\n",
    "    \"\"\"Train agent for a maximum number of timesteps.\"\"\"\n",
    "    state = env.reset()\n",
    "    score = 0\n",
    "    for t in range(max_timesteps):\n",
    "        action = agent.choose_action(state)\n",
    "        next_state, reward, done, _ = env.step(action)\n",
    "        agent.step(state, action, reward, next_state, done)\n",
    "        state = next_state\n",
    "        score += reward\n",
    "        if done:\n",
    "            break\n",
    "    return score\n",
    "\n",
    "                \n",
    "def _train_until_done(agent: Agent, env: gym.Env) -> float:\n",
    "    \"\"\"Train the agent until the current episode is complete.\"\"\"\n",
    "    state = env.reset()\n",
    "    score = 0\n",
    "    done = False\n",
    "    while not done:\n",
    "        action = agent.choose_action(state)\n",
    "        next_state, reward, done, _ = env.step(action)\n",
    "        agent.step(state, action, reward, next_state, done)\n",
    "        state = next_state\n",
    "        score += reward\n",
    "    return score\n",
    "\n",
    "\n",
    "def train(agent: Agent,\n",
    "          env: gym.Env,\n",
    "          checkpoint_filepath: str,\n",
    "          target_score: float,\n",
    "          number_episodes: int,\n",
    "          maximum_timesteps=None) -> typing.List[float]:\n",
    "    \"\"\"\n",
    "    Reinforcement learning training loop.\n",
    "    \n",
    "    Parameters:\n",
    "    -----------\n",
    "    agent (Agent): an agent to train.\n",
    "    env (gym.Env): an environment in which to train the agent.\n",
    "    checkpoint_filepath (str): filepath used to save the state of the trained agent.\n",
    "    number_episodes (int): maximum number of training episodes.\n",
    "    maximum_timsteps (int): maximum number of timesteps per episode.\n",
    "    \n",
    "    \"\"\"\n",
    "    scores = []\n",
    "    most_recent_scores = collections.deque(maxlen=100)\n",
    "    for i in range(number_episodes):\n",
    "        if maximum_timesteps is None:\n",
    "            score = _train_until_done(agent, env)\n",
    "        else:\n",
    "            score = _train_for_at_most(agent, env, maximum_timesteps)         \n",
    "        scores.append(score)\n",
    "        most_recent_scores.append(score)\n",
    "        \n",
    "        average_score = sum(most_recent_scores) / len(most_recent_scores)\n",
    "        if average_score >= target_score:\n",
    "            print(f\"\\nEnvironment solved in {i:d} episodes!\\tAverage Score: {average_score:.2f}\")\n",
    "            agent.save(checkpoint_filepath)\n",
    "            break\n",
    "        if (i + 1) % 100 == 0:\n",
    "            print(f\"\\rEpisode {i + 1}\\tAverage Score: {average_score:.2f}\")\n",
    "\n",
    "    return scores"
   ]
  },
  {
   "cell_type": "markdown",
   "metadata": {},
   "source": [
    "### Creating a `DeepQAgent`\n",
    "\n",
    "The code in the cell below encapsulates much of the logic of the DQN algorithm in a `DeepQAgent` class. Since the `LunarLander-v2` task is not well suited for convolutional neural networks, the agent uses a simple three layer dense neural network with ReLU activation functions to approximate the action-value function $Q$."
   ]
  },
  {
   "cell_type": "code",
   "execution_count": 55,
   "metadata": {},
   "outputs": [],
   "source": [
    "class DeepQAgent(Agent):\n",
    "\n",
    "    def __init__(self,\n",
    "                 state_size: int,\n",
    "                 action_size: int,\n",
    "                 number_hidden_units: int,\n",
    "                 optimizer_fn,\n",
    "                 batch_size: int,\n",
    "                 buffer_size: int,\n",
    "                 epsilon_decay_schedule: typing.Callable[[int], float],\n",
    "                 alpha: float,\n",
    "                 gamma: float,\n",
    "                 update_frequency: int,\n",
    "                 seed: int = None) -> None:\n",
    "        \"\"\"\n",
    "        Initialize a DeepQAgent.\n",
    "        \n",
    "        Parameters:\n",
    "        -----------\n",
    "        \n",
    "        state_size (int): the size of the state space.\n",
    "        action_size (int): the size of the action space.\n",
    "        discount_factor (float): Controls how much that agent discounts future rewards (0 < gamma <= 1).\n",
    "        epsilon_decay_schdule (callable): function that takes episode number and returns epsilon.\n",
    "        seed (int): random seed\n",
    "        \n",
    "        \"\"\"\n",
    "        self._state_size = state_size\n",
    "        self._action_size = action_size\n",
    "        self._device = torch.device(\"cuda\" if torch.cuda.is_available() else \"cpu\")\n",
    "        \n",
    "        # set seeds for reproducibility\n",
    "        self._random_state = np.random.RandomState() if seed is None else np.random.RandomState(seed)\n",
    "        if seed is not None:\n",
    "            torch.manual_seed(seed)\n",
    "        if torch.cuda.is_available():\n",
    "            torch.backends.cudnn.deterministic = True\n",
    "            torch.backends.cudnn.benchmark = False\n",
    "        \n",
    "        # initialize agent hyperparameters\n",
    "        self._experience_replay_buffer = ExperienceReplayBuffer(batch_size, buffer_size, seed)\n",
    "        self._epsilon_decay_schedule = epsilon_decay_schedule\n",
    "        self._alpha = alpha\n",
    "        self._gamma = gamma\n",
    "        self._target_network_update_frequency = target_network_update_frequency\n",
    "        \n",
    "        # initialize Q-Networks\n",
    "        self._update_frequency = update_frequency\n",
    "        self._local_q_network = self._initialize_q_network(number_hidden_units)\n",
    "        self._target_q_network = self._initialize_q_network(number_hidden_units)\n",
    "        self._synchronize_q_networks()\n",
    "        \n",
    "        # send the networks to the device\n",
    "        self._local_q_network.to(self._device)\n",
    "        self._target_q_network.to(self._device)\n",
    "        \n",
    "        # initialize the optimizer\n",
    "        self._optimizer = optimizer_fn(self._local_q_network.parameters())\n",
    "\n",
    "        # initialize some counters\n",
    "        self._number_episodes = 0\n",
    "        self._number_timesteps = 0\n",
    "        self._number_parameter_updates = 0\n",
    "        \n",
    "    def _initialize_q_network(self, number_hidden_units: int) -> nn.Module:\n",
    "        q_network = nn.Sequential(\n",
    "            nn.Linear(in_features=self._state_size, out_features=number_hidden_units),\n",
    "            nn.ReLU(),\n",
    "            nn.Linear(in_features=number_hidden_units, out_features=number_hidden_units),\n",
    "            nn.ReLU(),\n",
    "            nn.Linear(in_features=number_hidden_units, out_features=self._action_size)\n",
    "        )\n",
    "        return q_network\n",
    "        \n",
    "    def _learn_from(self, experiences: typing.List[Experience]) -> None:\n",
    "        states, actions, rewards, next_states, dones = (torch.Tensor(vs).to(self._device) for vs in zip(*experiences))\n",
    "        \n",
    "        # get max predicted Q values (for next states) from target model\n",
    "        next_target_q_values, _ = (self._target_q_network(next_states)\n",
    "                                       .detach()\n",
    "                                       .max(dim=1))\n",
    "        \n",
    "        # compute the new Q' values using the Q-learning formula\n",
    "        target_q_values = rewards + (self._gamma * next_target_q_values * (1 - dones))\n",
    "        \n",
    "        # get expected Q values from local model\n",
    "        _index = (actions.long()\n",
    "                         .unsqueeze(dim=1))\n",
    "        expected_q_values = (self._local_q_network(states)\n",
    "                                 .gather(dim=1, index=_index))\n",
    "        # compute the mean squared loss\n",
    "        loss = F.mse_loss(expected_q_values, target_q_values.unsqueeze(dim=1))\n",
    "        \n",
    "        # agent updates the parameters theta of Q using gradient descent\n",
    "        self._optimizer.zero_grad()\n",
    "        loss.backward()\n",
    "        self._optimizer.step()\n",
    "        \n",
    "        self._soft_update_target_q_network_parameters()\n",
    "                 \n",
    "    def _soft_update_target_q_network_parameters(self) -> None:\n",
    "        for target_param, local_param in zip(self._target_q_network.parameters(), self._local_q_network.parameters()):\n",
    "            target_param.data.copy_(self._alpha * local_param.data + (1 - self._alpha) * target_param.data)\n",
    "    \n",
    "    def _synchronize_q_networks(self) -> None:\n",
    "        \"\"\"Synchronize the target_q_network and the local_q_network.\"\"\"\n",
    "        _ = self._target_q_network.load_state_dict(self._local_q_network.state_dict())\n",
    "           \n",
    "    def _uniform_random_policy(self, state: torch.Tensor) -> int:\n",
    "        \"\"\"Choose an action uniformly at random.\"\"\"\n",
    "        return self._random_state.randint(self._action_size)\n",
    "        \n",
    "    def _greedy_policy(self, state: torch.Tensor) -> int:\n",
    "        \"\"\"Choose an action that maximizes the action_values given the current state.\"\"\"\n",
    "        # evaluate the network to compute the action values\n",
    "        self._local_q_network.eval()\n",
    "        with torch.no_grad():\n",
    "            action_values = self._local_q_network(state)\n",
    "        self._local_q_network.train()\n",
    "        \n",
    "        # choose the greedy action\n",
    "        action = (action_values.cpu()  # action_values might reside on the GPU!\n",
    "                               .argmax()\n",
    "                               .item())\n",
    "        return action\n",
    "    \n",
    "    def _epsilon_greedy_policy(self, state: torch.Tensor, epsilon: float) -> int:\n",
    "        \"\"\"With probability epsilon explore randomly; otherwise exploit knowledge optimally.\"\"\"\n",
    "        if self._random_state.random() < epsilon:\n",
    "            action = self._uniform_random_policy(state)\n",
    "        else:\n",
    "            action = self._greedy_policy(state)\n",
    "        return action\n",
    "\n",
    "    def choose_action(self, state: np.array) -> int:\n",
    "        \"\"\"\n",
    "        Return the action for given state as per current policy.\n",
    "        \n",
    "        Parameters:\n",
    "        -----------\n",
    "        state (np.array): current state of the environment.\n",
    "        \n",
    "        Return:\n",
    "        --------\n",
    "        action (int): an integer representing the chosen action.\n",
    "\n",
    "        \"\"\"\n",
    "        # need to reshape state array and convert to tensor\n",
    "        state_tensor = (torch.from_numpy(state)\n",
    "                             .unsqueeze(dim=0)\n",
    "                             .to(self._device))\n",
    "            \n",
    "        # choose uniform at random if agent has insufficient experience\n",
    "        if not self.has_sufficient_experience():\n",
    "            action = self._uniform_random_policy(state_tensor)\n",
    "        else:\n",
    "            epsilon = self._epsilon_decay_schedule(self._number_episodes)\n",
    "            action = self._epsilon_greedy_policy(state_tensor, epsilon)\n",
    "        return action\n",
    "    \n",
    "    def has_sufficient_experience(self) -> bool:\n",
    "        \"\"\"True if agent has enough experience to train on a batch of samples; False otherwise.\"\"\"\n",
    "        return len(self._experience_replay_buffer) >= self._experience_replay_buffer.batch_size\n",
    "    \n",
    "    def save(self, filepath: str) -> None:\n",
    "        \"\"\"\n",
    "        Saves the state of the DeepQAgent.\n",
    "        \n",
    "        Parameters:\n",
    "        -----------\n",
    "        filepath (str): filepath where the serialized state should be saved.\n",
    "        \n",
    "        Notes:\n",
    "        ------\n",
    "        The method uses `torch.save` to serialize the state of the q-network, \n",
    "        the optimizer, as well as the dictionary of agent hyperparameters.\n",
    "        \n",
    "        \"\"\"\n",
    "        checkpoint = {\n",
    "            \"q-network-state\": self._local_q_network.state_dict(),\n",
    "            \"optimizer-state\": self._optimizer.state_dict(),\n",
    "            \"agent-hyperparameters\": {\n",
    "                \"alpha\": self._alpha,\n",
    "                \"batch_size\": self._experience_replay_buffer.batch_size,\n",
    "                \"buffer_size\": self._experience_replay_buffer.buffer_size,\n",
    "                \"gamma\": self._gamma,\n",
    "                \"target_network_update_frequency\": self._target_network_update_frequency,\n",
    "                \"update_frequency\": self._update_frequency\n",
    "            }\n",
    "        }\n",
    "        torch.save(checkpoint, filepath)\n",
    "        \n",
    "    def step(self, state: np.array, action: int, reward: float, next_state: np.array, done: bool) -> None:\n",
    "        \"\"\"\n",
    "        Updates the agent's state based on feedback received from the environment.\n",
    "        \n",
    "        Parameters:\n",
    "        -----------\n",
    "        state (np.array): the previous state of the environment.\n",
    "        action (int): the action taken by the agent in the previous state.\n",
    "        reward (float): the reward received from the environment.\n",
    "        next_state (np.array): the resulting state of the environment following the action.\n",
    "        done (bool): True is the training episode is finised; false otherwise.\n",
    "        \n",
    "        \"\"\"\n",
    "        # save experience in the experience replay buffer\n",
    "        experience = Experience(state, action, reward, next_state, done)\n",
    "        self._experience_replay_buffer.append(experience)\n",
    "            \n",
    "        if done:\n",
    "            self._number_episodes += 1\n",
    "        else:\n",
    "            self._number_timesteps += 1\n",
    "            \n",
    "            # every so often the agent should learn from experiences\n",
    "            if self._number_timesteps % self._update_frequency == 0 and self.has_sufficient_experience():\n",
    "                experiences = self._experience_replay_buffer.sample()\n",
    "                self._learn_from(experiences)\n"
   ]
  },
  {
   "cell_type": "markdown",
   "metadata": {},
   "source": [
    "#### Epsilon decay schedule\n",
    "\n",
    "In the DQN algorithm the agent chooses its action using an $\\epsilon$-greedy policy. When using an $\\epsilon$-greedy policy, with probability $\\epsilon$, the agent explores the state space by choosing an action uniformly at random from the set of feasible actions; with probability $1-\\epsilon$, the agent exploits its current knowledge by choosing the optimal action given that current state. \n",
    "\n",
    "As the agent learns and acquires additional knowledge about it environment it makes sense to *decrease* exploration and *increase* exploitation by decreasing $\\epsilon$. In practice, it isn't a good idea to decrease $\\epsilon$ to zero; instead one typically decreases $\\epsilon$ over time according to some schedule until it reaches some minimum value.\n",
    "\n",
    "The Deepmind researchers used a simple linear decay schedule and set a minimum value of $\\epsilon=0.1$. In the cell below I code up a linear decay schedule as well as a power decay schedule that I have seen used in many other practical applications."
   ]
  },
  {
   "cell_type": "code",
   "execution_count": 56,
   "metadata": {},
   "outputs": [],
   "source": [
    "def linear_decay_schedule(episode_number: int,\n",
    "                          slope: float,\n",
    "                          minimum_epsilon: float) -> float:\n",
    "    \"\"\"Simple linear decay schedule used in the Deepmind paper.\"\"\"\n",
    "    return max(1 - slope * episode_number, minimum_epsilon)\n",
    "\n",
    "def power_decay_schedule(episode_number: int,\n",
    "                         decay_factor: float,\n",
    "                         minimum_epsilon: float) -> float:\n",
    "    \"\"\"Power decay schedule found in other practical applications.\"\"\"\n",
    "    return max(decay_factor**episode_number, minimum_epsilon)\n",
    "\n",
    "_epsilon_decay_schedule_kwargs = {\n",
    "    \"decay_factor\": 0.995,\n",
    "    \"minimum_epsilon\": 1e-2,\n",
    "}\n",
    "epsilon_decay_schedule = lambda n: power_decay_schedule(n, **_epsilon_decay_schedule_kwargs)"
   ]
  },
  {
   "cell_type": "markdown",
   "metadata": {},
   "source": [
    "#### Choosing an optimizer\n",
    "\n",
    "As is the case in training any neural network, the choice of optimizer and the tuning of its hyper-parameters (in particular the learning rate) is important. Here I am going to more or less follow the Minh et al 2015 paper and use the [RMSProp](https://pytorch.org/docs/stable/optim.html#torch.optim.RMSprop) optimizer."
   ]
  },
  {
   "cell_type": "code",
   "execution_count": 57,
   "metadata": {},
   "outputs": [],
   "source": [
    "_optimizer_kwargs ={\n",
    "    \"lr\": 1e-2,\n",
    "    \"alpha\": 0.99,\n",
    "    \"eps\": 1e-08,\n",
    "    \"weight_decay\": 0,\n",
    "    \"momentum\": 0,\n",
    "    \"centered\": False\n",
    "}\n",
    "optimizer_fn = lambda parameters: optim.RMSprop(parameters, **_optimizer_kwargs)"
   ]
  },
  {
   "cell_type": "markdown",
   "metadata": {},
   "source": [
    "At this point I am ready to create an instance of the `DeepQAgent`."
   ]
  },
  {
   "cell_type": "code",
   "execution_count": 58,
   "metadata": {},
   "outputs": [],
   "source": [
    "_agent_kwargs = {\n",
    "    \"state_size\": env.observation_space.shape[0],\n",
    "    \"action_size\": env.action_space.n, \n",
    "    \"number_hidden_units\": 64,\n",
    "    \"optimizer_fn\": optimizer_fn,\n",
    "    \"epsilon_decay_schedule\": epsilon_decay_schedule,\n",
    "    \"batch_size\": 64,\n",
    "    \"buffer_size\": 100000,\n",
    "    \"alpha\": 1e-3,\n",
    "    \"gamma\": 0.99,\n",
    "    \"update_frequency\": 4,\n",
    "    \"seed\": None,\n",
    "}\n",
    "\n",
    "deep_q_agent = DeepQAgent(**_agent_kwargs)"
   ]
  },
  {
   "cell_type": "markdown",
   "metadata": {},
   "source": [
    "### Performance of an un-trained `DeepQAgent`\n",
    "\n",
    "The function `simulate` defined in the cell below can be used to simuate an agent interacting with and environment for one episode."
   ]
  },
  {
   "cell_type": "code",
   "execution_count": 14,
   "metadata": {},
   "outputs": [],
   "source": [
    "def simulate(agent: Agent, env: gym.Env):\n",
    "    state = env.reset()\n",
    "    img = plt.imshow(env.render(mode='rgb_array'))\n",
    "    done = False\n",
    "    while not done:\n",
    "        action = deep_q_agent.choose_action(state)\n",
    "        img.set_data(env.render(mode='rgb_array')) \n",
    "        plt.axis('off')\n",
    "        display.display(plt.gcf())\n",
    "        display.clear_output(wait=True)\n",
    "        state, reward, done, _ = env.step(action)       \n",
    "    env.close()\n"
   ]
  },
  {
   "cell_type": "markdown",
   "metadata": {},
   "source": [
    "The untrained agent behaves erratically (not quite randomly!) and performs poorly. Lots of room for improvement!"
   ]
  },
  {
   "cell_type": "code",
   "execution_count": 140,
   "metadata": {},
   "outputs": [
    {
     "data": {
      "image/png": "[encoded data removed]",
      "text/plain": [
       "<Figure size 432x288 with 1 Axes>"
      ]
     },
     "metadata": {
      "needs_background": "light"
     },
     "output_type": "display_data"
    }
   ],
   "source": [
    "simulate(deep_q_agent, env)"
   ]
  },
  {
   "cell_type": "markdown",
   "metadata": {},
   "source": [
    "### Training the `DeepQAgent`\n",
    "\n",
    "Now I am finally ready to train the `deep_q_agent`. The target score for the `LunarLander-v2` environment is 200 points on average for at least 100 consecutive episodes. If the `deep_q_agent` is able to \"solve\" the environment, then training will terminate early."
   ]
  },
  {
   "cell_type": "code",
   "execution_count": 59,
   "metadata": {},
   "outputs": [
    {
     "name": "stdout",
     "output_type": "stream",
     "text": [
      "Episode 100\tAverage Score: -162.65\n",
      "Episode 200\tAverage Score: -116.93\n",
      "Episode 300\tAverage Score: -62.38\n",
      "Episode 400\tAverage Score: -47.98\n",
      "Episode 500\tAverage Score: 7.31\n",
      "Episode 600\tAverage Score: 83.42\n",
      "Episode 700\tAverage Score: 110.49\n",
      "Episode 800\tAverage Score: 173.95\n",
      "Episode 900\tAverage Score: 194.95\n",
      "\n",
      "Environment solved in 909 episodes!\tAverage Score: 200.84\n"
     ]
    }
   ],
   "source": [
    "scores = train(deep_q_agent, env, \"checkpoint.pth\", number_episodes=2000, target_score=200)"
   ]
  },
  {
   "cell_type": "markdown",
   "metadata": {},
   "source": [
    "### Analyzing `DeepQAgent` performance\n",
    "\n",
    "#### Simulating agent behavior\n",
    "\n",
    "First step to analyzing agent performance is to re-run the simulation above with the trained agent to see the performance improvement on the task at hand. Assuming that the `deep_q_agent` was able to \"solve\" the task, running the simulation should show the lander gracefully landing in the designated landing area."
   ]
  },
  {
   "cell_type": "code",
   "execution_count": 61,
   "metadata": {},
   "outputs": [
    {
     "data": {
      "image/png": "[encoded data removed]",
      "text/plain": [
       "<Figure size 432x288 with 1 Axes>"
      ]
     },
     "metadata": {
      "needs_background": "light"
     },
     "output_type": "display_data"
    }
   ],
   "source": [
    "simulate(deep_q_agent, env)"
   ]
  },
  {
   "cell_type": "markdown",
   "metadata": {},
   "source": [
    "#### Plotting the time series of scores\n",
    "\n",
    "I can use [Pandas](https://pandas.pydata.org/) to quickly plot the time series of scores along with a 100 episode moving average. Note that training stops as soon as the rolling average crosses the target score."
   ]
  },
  {
   "cell_type": "code",
   "execution_count": 62,
   "metadata": {},
   "outputs": [],
   "source": [
    "scores = pd.Series(scores, name=\"scores\")"
   ]
  },
  {
   "cell_type": "code",
   "execution_count": 63,
   "metadata": {},
   "outputs": [
    {
     "data": {
      "text/plain": [
       "count    910.000000\n",
       "mean      21.970552\n",
       "std      178.287148\n",
       "min     -540.156334\n",
       "25%     -102.930508\n",
       "50%       -2.251303\n",
       "75%      208.804669\n",
       "max      307.186852\n",
       "Name: scores, dtype: float64"
      ]
     },
     "execution_count": 63,
     "metadata": {},
     "output_type": "execute_result"
    }
   ],
   "source": [
    "scores.describe()"
   ]
  },
  {
   "cell_type": "code",
   "execution_count": 64,
   "metadata": {},
   "outputs": [
    {
     "data": {
      "image/png": "[encoded data removed]",
      "text/plain": [
       "<Figure size 432x288 with 1 Axes>"
      ]
     },
     "metadata": {
      "needs_background": "light"
     },
     "output_type": "display_data"
    }
   ],
   "source": [
    "fig, ax = plt.subplots(1, 1)\n",
    "_ = scores.plot(ax=ax, label=\"Scores\")\n",
    "_ = (scores.rolling(window=100)\n",
    "           .mean()\n",
    "           .rename(\"Rolling Average\")\n",
    "           .plot(ax=ax))\n",
    "ax.axhline(200, color='k', linestyle=\"dashed\", label=\"Target Score\")\n",
    "ax.legend()\n",
    "_ = ax.set_xlabel(\"Episode Number\")\n",
    "_ = ax.set_ylabel(\"Score\")\n"
   ]
  },
  {
   "cell_type": "markdown",
   "metadata": {},
   "source": [
    "#### Kernel density plot of the scores\n",
    "\n",
    "Kernel density plot of scores is bimodal with one mode less than -100 and a second mode greater than 200. The negative mode corresponds to those training episodes where the agent crash landed and thus scored at most -100; the positive mode corresponds to those training episodes where the agent \"solved\" the task. The kernel density or scores typically exhibits negative skewness (i.e., a fat left tail): there are lots of ways in which landing the lander can go horribly wrong (resulting in the agent getting a very low score) and only relatively few paths to a gentle landing (and a high score)."
   ]
  },
  {
   "cell_type": "code",
   "execution_count": 65,
   "metadata": {},
   "outputs": [
    {
     "data": {
      "text/plain": [
       "Text(0.5, 0, 'Score')"
      ]
     },
     "execution_count": 65,
     "metadata": {},
     "output_type": "execute_result"
    },
    {
     "data": {
      "image/png": "[encoded data removed]",
      "text/plain": [
       "<Figure size 432x288 with 1 Axes>"
      ]
     },
     "metadata": {
      "needs_background": "light"
     },
     "output_type": "display_data"
    }
   ],
   "source": [
    "fig, ax = plt.subplots(1,1)\n",
    "_ = scores.plot(kind=\"kde\", ax=ax)\n",
    "ax.set_xlabel(\"Score\")"
   ]
  },
  {
   "cell_type": "markdown",
   "metadata": {},
   "source": [
    "## Where to go from here?\n",
    "\n",
    "I am a bit frustrated by lack of stability that I am seeing in my implmentation of the Deep Q algorithm: sometimes the algorithm converges and sometimes not. Perhaps more tuning of hyper-parameters or use of a different optimization algorithm would exhibit better convergence. I have already spent more time than I had allocated on playing around with this agorithm so I am not going to try and fine-tune the hyperparamters or explore alternative optimization algorithms for now.\n",
    "\n",
    "Rather than spending time tuning hyperparameters, I think it would be better use of my time to explore algorithmic improvements. In future posts I plan to cover the following extensions of the DQN algorithm.\n",
    "\n",
    "* [Double Q-Learning](https://arxiv.org/abs/1509.06461)\n",
    "* [Prioritized Experience Replay](https://arxiv.org/abs/1509.06461)\n",
    "* [Dueling Network Architectures](https://arxiv.org/abs/1511.06581)"
   ]
  }
 ],
 "metadata": {
  "kernelspec": {
   "display_name": "Python 3",
   "language": "python",
   "name": "python3"
  },
  "language_info": {
   "codemirror_mode": {
    "name": "ipython",
    "version": 3
   },
   "file_extension": ".py",
   "mimetype": "text/x-python",
   "name": "python",
   "nbconvert_exporter": "python",
   "pygments_lexer": "ipython3",
   "version": "3.7.6"
  }
 },
 "nbformat": 4,
 "nbformat_minor": 4
}
