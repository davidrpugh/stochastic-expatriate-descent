{
 "cells": [
  {
   "cell_type": "markdown",
   "metadata": {},
   "source": [
    "# Improving the DQN algorithm using Double Q-Learning \n",
    "> Notes on improving the DQN algorithm using Double Q-learning.\n",
    "\n",
    "- branch: 2020-04-11-double-dqn\n",
    "- badges: true\n",
    "- image: images/double-dqn-figure-2.png\n",
    "- comments: true\n",
    "- author: David R. Pugh\n",
    "- categories: [pytorch, deep-reinforcement-learning, deep-q-networks]"
   ]
  },
  {
   "cell_type": "markdown",
   "metadata": {},
   "source": [
    "I am continuing to work my way through the [Udacity](https://www.udacity.com/) [*Deep Reinforcement Learning Nanodegree*](https://www.udacity.com/course/deep-reinforcement-learning-nanodegree--nd893). In this blog post I discuss and implement the Double DQN algorithm from [*Deep Reinforcement Learning with Double Q-Learning*](https://arxiv.org/abs/1509.06461) (Van Hasselt et al 2015). The Double DQN algorithm is a minor, but important, modification of the original DQN algorithm that I covered in a [previous post](https://davidrpugh.github.io/stochastic-expatriate-descent/pytorch/deep-reinforcement-learning/deep-q-networks/2020/04/03/deep-q-networks.html).\n",
    "\n",
    "The Van Hasselt et al 2015 paper makes several important contributions. \n",
    "\n",
    "1. Demonstration of how Q-learning can be overly optimistic in large-scale, even \n",
    "   deterministic, problems due to the inherent estimation errors of learning. \n",
    "2. Demonstration that over-estimations are more common and severe in practice than previously \n",
    "   acknowledged. \n",
    "3. Implementation of Double Q-learning called Double DQN that extends, with minor \n",
    "   modifications, the popular DQN algorithm and that can be used at scale to successfully \n",
    "   reduce over-estimations with the result being more stable and reliable learning.\n",
    "4. Demonstation that Double DQN finds better policies by obtaining new state-of-the-art \n",
    "   results on the Atari 2600 dataset.\n",
    "   \n",
    "## Why does Q-learning over-estimate Q-values?\n",
    "\n",
    "No matter what type of function approximation scheme used to approximate the action-value function $Q$ there will always be approximation error. The presence of the max operator in the Bellman equation used to compute the $Q$-values means that the approximate $Q$-values will almost always be strictly greater than the corresponding $Q$ value from the true action-value function (i.e., the approximation errors will almost always be positive). This potentially significant source of bias can impede learning and is often exacerbated by the use of flexible, non-linear function approximators such as neural networks. By explicitly separating action selection from action evaluation, double Q-Learning allows each step to use a different function approximator resulting in a better overall approximation of the action-value function. Figure 2 (with caption) below, which is taken from Van Hasselt et al 2015, summarizes these ideas. See the [paper](https://arxiv.org/pdf/1509.06461.pdf) for more details.\n",
    "\n",
    "![](my_icons/double-dqn-figure-2.png)\n",
    "    \n",
    "## Implementing the Double DQN algorithm\n",
    "\n",
    "The key idea behind Double Q-learning is to reduce over-estimations of Q-values by separating the selection of actions from the evaluation of those actions so that a different Q-network can be used in each step. When applying Double Q-learning to extend the DQN algorithm one can use the online Q-network, $Q(S, a; \\theta)$, to select the actions and then the target Q-network, $Q(S, a; \\theta^{-})$, to evaluate the selected actions.\n",
    "\n",
    "Before implement the Double DQN algorithm, I am going to re-implement the Q-learning update from the DQN algorithm in a way that explicitly separates action selection from action evaluation. Once I have implemented this new version of Q-learning, implementing the Double DQN algorithm will be much easier. Formally separating action selection from action evaluation involves re-writing the Q-learning Bellman equation as follows.\n",
    "\n",
    "$$ Y_t^{DQN} = R_{t+1} + \\gamma Q\\big(S_{t+1}, \\underset{a}{\\mathrm{argmax}}\\ Q(S_{t+1}, a; \\theta_t); \\theta_t\\big) $$\n",
    "\n",
    "In Python this can be implemented as three separate functions."
   ]
  },
  {
   "cell_type": "code",
   "execution_count": 3,
   "metadata": {},
   "outputs": [],
   "source": [
    "import torch\n",
    "from torch import nn\n",
    "\n",
    "\n",
    "def select_greedy_actions(states: torch.Tensor, q_network: nn.Module) -> torch.Tensor:\n",
    "    \"\"\"Select the greedy action for the current state given some Q-network.\"\"\"\n",
    "    _, actions = q_network(states).max(dim=1, keepdim=True)\n",
    "    return actions\n",
    "\n",
    "\n",
    "def evaluate_selected_actions(states: torch.Tensor,\n",
    "                              actions: torch.Tensor,\n",
    "                              rewards: torch.Tensor,\n",
    "                              dones: torch.Tensor,\n",
    "                              gamma: float,\n",
    "                              q_network: nn.Module) -> torch.Tensor:\n",
    "    \"\"\"Compute the Q-values by evaluating the actions given the current states and Q-network.\"\"\"\n",
    "    next_q_values = q_network(states).gather(dim=1, index=actions)        \n",
    "    q_values = rewards + (self._gamma * next_q_values * (1 - dones))\n",
    "    return q_values\n",
    "\n",
    "\n",
    "def q_learning_update(states: torch.Tensor,\n",
    "                      rewards: torch.Tensor,\n",
    "                      dones: torch.Tensor,\n",
    "                      gamma: float,\n",
    "                      q_network: nn.Module) -> torch.Tensor:\n",
    "    \"\"\"Q-Learning update with explicitly decoupled action selection and evaluation steps.\"\"\"\n",
    "    actions = select_greedy_actions(states, q_network)\n",
    "    q_values = evaluate_selected_actions(states, actions, rewards, dones, gamma, q_network)\n",
    "    return q_values\n",
    "\n"
   ]
  },
  {
   "cell_type": "markdown",
   "metadata": {},
   "source": [
    "From here it is straight forward to implement the Double DQN algorithm. All I need is a second action-value function. The target network in the DQN architecture provides a natural candidate for the second action-value function. Hasselt et al 2015 suggest using the online Q-network to select the greedy policy actions before using the target Q-network to estimate the value of the selected actions. Once again here are the maths...\n",
    "\n",
    "$$ Y_t^{DoubleDQN} = R_{t+1} + \\gamma Q\\big(S_{t+1}, \\underset{a}{\\mathrm{argmax}}\\ Q(S_{t+1}, a; \\theta_t), \\theta_t^{-}\\big) $$\n",
    "\n",
    "...and here is the the Python implementation."
   ]
  },
  {
   "cell_type": "code",
   "execution_count": 4,
   "metadata": {},
   "outputs": [],
   "source": [
    "def double_q_learning_update(states: torch.Tensor,\n",
    "                             rewards: torch.Tensor,\n",
    "                             dones: torch.Tensor,\n",
    "                             gamma: float,\n",
    "                             q_network_1: nn.Module,\n",
    "                             q_network_2: nn.Module) -> torch.Tensor:\n",
    "    \"\"\"Double Q-Learning uses Q-network 1 to select actions and Q-network 2 to evaluate the selected actions.\"\"\"\n",
    "    actions = select_greedy_actions(states, q_network_1)\n",
    "    q_values = evaluate_selected_actions(states, rewards, actions, dones, gamma, q_network_2)\n",
    "    return q_values"
   ]
  },
  {
   "cell_type": "markdown",
   "metadata": {},
   "source": [
    "Note that the function `double_q_learning_update` is almost identical to the `q_learning_update` function above: all that is needed is to introduce a second Q-network parameter, `q_network_2`, to the function. This second Q-network will be use to evaluate the actions chosen using the original Q-network parameter, now called `q_network_1`."
   ]
  },
  {
   "cell_type": "markdown",
   "metadata": {},
   "source": [
    "## Solving the `LunarLander-v2` environment\n",
    "\n",
    "In the rest of this blog post I will use the Double DQN algorithm to train an agent to solve the [LunarLander-v2](https://gym.openai.com/envs/LunarLander-v2/) environment from [OpenAI](https://openai.com/) and the compare it to the the results obtained using the vanilla DQN algorithm.\n",
    "\n",
    "In this environment the landing pad is always at coordinates (0,0). The reward for moving the lander from the top of the screen to landing pad and arriving at zero speed is typically between 100 and 140 points. Firing the main engine is -0.3 points each frame (so the lander is incentivized to fire the engine as few times possible). If the lander moves away from landing pad it loses reward (so the lander is incentived to land in the designated landing area). The lander is also incentived to land \"gracefully\" (and not crash in the landing area!).\n",
    "\n",
    "A training episode finishes if the lander crashes (-100 points) or comes to rest (+100 points). Each leg with ground contact receives and additional +10 points. The task is considered \"solved\" if the lander is able to achieve 200 points (I will actually be more stringent and define \"solved\" as achieving over 200 points on average in the most recent 100 training episodes).\n",
    "\n",
    "### Action Space \n",
    "\n",
    "There are four discrete actions available: \n",
    "\n",
    "0. Do nothing.\n",
    "1. Fire the left orientation engine.\n",
    "2. Fire main engine.\n",
    "3. Fire the right orientation engine."
   ]
  },
  {
   "cell_type": "markdown",
   "metadata": {},
   "source": [
    "### Colab specific environment setup\n",
    "\n",
    "If you are playing around with this notebook on Google Colab, then you will need to run the following cell in order to install the required OpenAI dependencies into the environment."
   ]
  },
  {
   "cell_type": "code",
   "execution_count": null,
   "metadata": {},
   "outputs": [],
   "source": [
    "!pip install gym[box2d]==0.17.*"
   ]
  },
  {
   "cell_type": "markdown",
   "metadata": {},
   "source": [
    "### Making my code more maintainable\n",
    "\n",
    "In order to make the code used in this and in my previous blog post more maintainable for future posts, I have moved the various class definitions and training functions in my previous post out of Jupyter notebooks and into scripts. The [`agents.py`](https://github.com/davidrpugh/stochastic-expatriate-descent/blob/2020-04-11-double-dqn/_notebooks/agents.py) scripts contains the various agent classes, in particular the `DeepQAgent` class which implements both the DQN and Double DQN algorithms; the [`experience_replay.py`](https://github.com/davidrpugh/stochastic-expatriate-descent/blob/2020-04-11-double-dqn/_notebooks/experience_replay.py) script containing the `Experience` and `ExperienceReplayBuffer` classes; and the [`training.py`](https://github.com/davidrpugh/stochastic-expatriate-descent/blob/2020-04-11-double-dqn/_notebooks/training.py) script contains the functions that train an `agents.Agent` to solve some `gym.Env` environment."
   ]
  },
  {
   "cell_type": "code",
   "execution_count": 33,
   "metadata": {},
   "outputs": [
    {
     "name": "stderr",
     "output_type": "stream",
     "text": [
      "/Users/pughdr/Research/stochastic-expatriate-descent/env/lib/python3.7/site-packages/gym/logger.py:30: UserWarning: \u001b[33mWARN: Box bound precision lowered by casting to float32\u001b[0m\n",
      "  warnings.warn(colorize('%s: %s'%('WARN', msg % args), 'yellow'))\n"
     ]
    }
   ],
   "source": [
    "import gym\n",
    "\n",
    "import agents  # module containing the DeepQAgent class  \n",
    "import training  # module containing the training functions\n",
    "\n",
    "env = gym.make('LunarLander-v2')\n",
    "_ = env.seed(42)"
   ]
  },
  {
   "cell_type": "markdown",
   "metadata": {},
   "source": [
    "### Creating a `DeepQAgent`\n",
    "\n",
    "#### Epsilon decay schedule\n",
    "\n",
    "As was the case with the DQN algorithm, when using the Double DQN algorithm the agent chooses its action using an $\\epsilon$-greedy policy. When using an $\\epsilon$-greedy policy, with probability $\\epsilon$, the agent explores the state space by choosing an action uniformly at random from the set of feasible actions; with probability $1-\\epsilon$, the agent exploits its current knowledge by choosing the optimal action given that current state. \n",
    "\n",
    "As the agent learns and acquires additional knowledge about it environment it makes sense to *decrease* exploration and *increase* exploitation by decreasing $\\epsilon$. In practice, it isn't a good idea to decrease $\\epsilon$ to zero; instead one typically decreases $\\epsilon$ over time according to some schedule until it reaches some minimum value."
   ]
  },
  {
   "cell_type": "code",
   "execution_count": 2,
   "metadata": {},
   "outputs": [],
   "source": [
    "def power_decay_schedule(episode_number: int,\n",
    "                         decay_factor: float,\n",
    "                         minimum_epsilon: float) -> float:\n",
    "    \"\"\"Power decay schedule found in other practical applications.\"\"\"\n",
    "    return max(decay_factor**episode_number, minimum_epsilon)\n",
    "\n",
    "_epsilon_decay_schedule_kwargs = {\n",
    "    \"decay_factor\": 0.99,\n",
    "    \"minimum_epsilon\": 1e-2,\n",
    "}\n",
    "epsilon_decay_schedule = lambda n: power_decay_schedule(n, **_epsilon_decay_schedule_kwargs)"
   ]
  },
  {
   "cell_type": "markdown",
   "metadata": {},
   "source": [
    "#### Choosing an optimizer\n",
    "\n",
    "As is the case in training any neural network, the choice of optimizer and the tuning of its hyper-parameters (in particular the learning rate) is important. Here I am going to use the [Adam](https://pytorch.org/docs/stable/optim.html#torch.optim.Adam) optimizer. In my previous post on the DQN algorithm I used [RMSProp](https://pytorch.org/docs/stable/optim.html#torch.optim.RMSProp). In my experiments I found that the Adam optimizer significantly improves the efficiency and stability of both the Double DQN and DQN algorithms compared with RMSProp (on this task at least!). "
   ]
  },
  {
   "cell_type": "code",
   "execution_count": 3,
   "metadata": {},
   "outputs": [],
   "source": [
    "from torch import optim\n",
    "\n",
    "\n",
    "_optimizer_kwargs = {\n",
    "    \"lr\": 1e-3,\n",
    "    \"betas\": (0.9, 0.999),\n",
    "    \"eps\": 1e-08,\n",
    "    \"weight_decay\": 0,\n",
    "    \"amsgrad\": False,\n",
    "}\n",
    "optimizer_fn = lambda parameters: optim.Adam(parameters, **_optimizer_kwargs)"
   ]
  },
  {
   "cell_type": "markdown",
   "metadata": {},
   "source": [
    "### Training the `DeepQAgent` using Double DQN\n",
    "\n",
    "Now I am finally ready to train the `deep_q_agent`. The target score for the `LunarLander-v2` environment is 200 points on average for at least 100 consecutive episodes. If the `deep_q_agent` is able to \"solve\" the environment, then training will terminate early."
   ]
  },
  {
   "cell_type": "code",
   "execution_count": 34,
   "metadata": {},
   "outputs": [
    {
     "name": "stdout",
     "output_type": "stream",
     "text": [
      "Episode 100\tAverage Score: -136.37\n",
      "Episode 200\tAverage Score: -80.72\n",
      "Episode 300\tAverage Score: -42.48\n",
      "Episode 400\tAverage Score: 44.46\n",
      "Episode 500\tAverage Score: 108.45\n",
      "Episode 600\tAverage Score: 193.84\n",
      "\n",
      "Environment solved in 609 episodes!\tAverage Score: 201.15\n"
     ]
    }
   ],
   "source": [
    "_agent_kwargs = {\n",
    "    \"state_size\": env.observation_space.shape[0],\n",
    "    \"action_size\": env.action_space.n, \n",
    "    \"number_hidden_units\": 64,\n",
    "    \"optimizer_fn\": optimizer_fn,\n",
    "    \"epsilon_decay_schedule\": epsilon_decay_schedule,\n",
    "    \"batch_size\": 64,\n",
    "    \"buffer_size\": 100000,\n",
    "    \"alpha\": 1e-3,\n",
    "    \"gamma\": 0.99,\n",
    "    \"update_frequency\": 4,\n",
    "    \"double_dqn\": True,  # True uses Double DQN; False uses DQN \n",
    "    \"seed\": None,\n",
    "}\n",
    "double_dqn_agent = agents.DeepQAgent(**_agent_kwargs)\n",
    "\n",
    "double_dqn_scores = training.train(doube_dqn_agent,\n",
    "                                   env,\n",
    "                                   \"double-dqn-checkpoint.pth\",\n",
    "                                   number_episodes=2000,\n",
    "                                   target_score=200)"
   ]
  },
  {
   "cell_type": "markdown",
   "metadata": {},
   "source": [
    "### Training the `DeepQAgent` using DQN\n",
    "\n",
    "Next I will create another `DeepQAgent` and train it using the original DQN algorithm for comparison."
   ]
  },
  {
   "cell_type": "code",
   "execution_count": 36,
   "metadata": {},
   "outputs": [],
   "source": [
    "_agent_kwargs = {\n",
    "    \"state_size\": env.observation_space.shape[0],\n",
    "    \"action_size\": env.action_space.n, \n",
    "    \"number_hidden_units\": 64,\n",
    "    \"optimizer_fn\": optimizer_fn,\n",
    "    \"epsilon_decay_schedule\": epsilon_decay_schedule,\n",
    "    \"batch_size\": 64,\n",
    "    \"buffer_size\": 100000,\n",
    "    \"alpha\": 1e-3,\n",
    "    \"gamma\": 0.99,\n",
    "    \"update_frequency\": 4,\n",
    "    \"double_dqn\": False,  # True uses Double DQN; False uses DQN \n",
    "    \"seed\": None,\n",
    "}\n",
    "dqn_agent = agents.DeepQAgent(**_agent_kwargs)"
   ]
  },
  {
   "cell_type": "code",
   "execution_count": 37,
   "metadata": {},
   "outputs": [
    {
     "name": "stdout",
     "output_type": "stream",
     "text": [
      "Episode 100\tAverage Score: -188.97\n",
      "Episode 200\tAverage Score: -141.91\n",
      "Episode 300\tAverage Score: -61.08\n",
      "Episode 400\tAverage Score: -41.62\n",
      "Episode 500\tAverage Score: -28.62\n",
      "Episode 600\tAverage Score: -19.19\n",
      "Episode 700\tAverage Score: -42.72\n",
      "Episode 800\tAverage Score: 119.68\n",
      "Episode 900\tAverage Score: 186.27\n",
      "\n",
      "Environment solved in 925 episodes!\tAverage Score: 202.67\n"
     ]
    }
   ],
   "source": [
    "dqn_scores = training.train(dqn_agent,\n",
    "                            env,\n",
    "                            \"dqn-checkpoint.pth\",\n",
    "                            number_episodes=2000,\n",
    "                            target_score=200)"
   ]
  },
  {
   "cell_type": "markdown",
   "metadata": {},
   "source": [
    "### Comparing DQN and Double DQN\n",
    "\n",
    "To make it a bit easier to compare the overall performance of the two algorithms I will now re-train both agents for the same number of episodes (rather than training for the minimum number of episodes required to achieve a target score)."
   ]
  },
  {
   "cell_type": "code",
   "execution_count": 11,
   "metadata": {},
   "outputs": [
    {
     "name": "stdout",
     "output_type": "stream",
     "text": [
      "Episode 100\tAverage Score: -154.91\n",
      "Episode 200\tAverage Score: -93.57\n",
      "Episode 300\tAverage Score: -52.90\n",
      "Episode 400\tAverage Score: 21.00\n",
      "Episode 500\tAverage Score: 63.61\n",
      "Episode 600\tAverage Score: 124.04\n",
      "Episode 700\tAverage Score: 213.36\n",
      "Episode 800\tAverage Score: 196.64\n",
      "Episode 900\tAverage Score: 200.42\n",
      "Episode 1000\tAverage Score: 233.95\n",
      "Episode 1100\tAverage Score: 242.40\n",
      "Episode 1200\tAverage Score: 252.33\n",
      "Episode 1300\tAverage Score: 214.17\n",
      "Episode 1400\tAverage Score: 225.87\n",
      "Episode 1500\tAverage Score: 245.65\n",
      "Episode 1600\tAverage Score: 259.11\n",
      "Episode 1700\tAverage Score: 253.96\n",
      "Episode 1800\tAverage Score: 255.25\n",
      "Episode 1900\tAverage Score: 255.18\n",
      "Episode 2000\tAverage Score: 254.36\n"
     ]
    }
   ],
   "source": [
    "_agent_kwargs = {\n",
    "    \"state_size\": env.observation_space.shape[0],\n",
    "    \"action_size\": env.action_space.n, \n",
    "    \"number_hidden_units\": 64,\n",
    "    \"optimizer_fn\": optimizer_fn,\n",
    "    \"epsilon_decay_schedule\": epsilon_decay_schedule,\n",
    "    \"batch_size\": 64,\n",
    "    \"buffer_size\": 100000,\n",
    "    \"alpha\": 1e-3,\n",
    "    \"gamma\": 0.99,\n",
    "    \"update_frequency\": 4,\n",
    "    \"double_dqn\": True,\n",
    "    \"seed\": None,\n",
    "}\n",
    "double_dqn_agent = agents.DeepQAgent(**_agent_kwargs)\n",
    "\n",
    "double_dqn_scores = training.train(double_dqn_agent,\n",
    "                                   env,\n",
    "                                   \"double-dqn-checkpoint.pth\",\n",
    "                                   number_episodes=2000,\n",
    "                                   target_score=float(\"inf\"))"
   ]
  },
  {
   "cell_type": "code",
   "execution_count": 12,
   "metadata": {},
   "outputs": [
    {
     "name": "stdout",
     "output_type": "stream",
     "text": [
      "Episode 100\tAverage Score: -163.32\n",
      "Episode 200\tAverage Score: -112.35\n",
      "Episode 300\tAverage Score: -47.40\n",
      "Episode 400\tAverage Score: 9.72\n",
      "Episode 500\tAverage Score: 115.13\n",
      "Episode 600\tAverage Score: 168.85\n",
      "Episode 700\tAverage Score: 217.28\n",
      "Episode 800\tAverage Score: 144.49\n",
      "Episode 900\tAverage Score: 202.26\n",
      "Episode 1000\tAverage Score: 224.12\n",
      "Episode 1100\tAverage Score: 226.08\n",
      "Episode 1200\tAverage Score: 231.65\n",
      "Episode 1300\tAverage Score: 242.66\n",
      "Episode 1400\tAverage Score: 255.53\n",
      "Episode 1500\tAverage Score: 265.84\n",
      "Episode 1600\tAverage Score: 266.04\n",
      "Episode 1700\tAverage Score: 262.30\n",
      "Episode 1800\tAverage Score: 251.11\n",
      "Episode 1900\tAverage Score: 257.42\n",
      "Episode 2000\tAverage Score: 252.75\n"
     ]
    }
   ],
   "source": [
    "_agent_kwargs = {\n",
    "    \"state_size\": env.observation_space.shape[0],\n",
    "    \"action_size\": env.action_space.n, \n",
    "    \"number_hidden_units\": 64,\n",
    "    \"optimizer_fn\": optimizer_fn,\n",
    "    \"epsilon_decay_schedule\": epsilon_decay_schedule,\n",
    "    \"batch_size\": 64,\n",
    "    \"buffer_size\": 100000,\n",
    "    \"alpha\": 1e-3,\n",
    "    \"gamma\": 0.99,\n",
    "    \"update_frequency\": 4,\n",
    "    \"double_dqn\": False,\n",
    "    \"seed\": None,\n",
    "}\n",
    "dqn_agent = agents.DeepQAgent(**_agent_kwargs)\n",
    "\n",
    "dqn_scores = training.train(dqn_agent,\n",
    "                            env,\n",
    "                            \"dqn-checkpoint.pth\",\n",
    "                            number_episodes=2000,\n",
    "                            target_score=float(\"inf\"))"
   ]
  },
  {
   "cell_type": "markdown",
   "metadata": {},
   "source": [
    "#### Plotting the time series of scores\n",
    "\n",
    "I can use [Pandas](https://pandas.pydata.org/) to quickly plot the time series of scores along with a 100 episode moving average. Note that training stops as soon as the rolling average crosses the target score."
   ]
  },
  {
   "cell_type": "code",
   "execution_count": 13,
   "metadata": {},
   "outputs": [],
   "source": [
    "import pandas as pd\n",
    "import matplotlib.pyplot as plt\n",
    "%matplotlib inline"
   ]
  },
  {
   "cell_type": "code",
   "execution_count": 14,
   "metadata": {},
   "outputs": [],
   "source": [
    "dqn_scores = pd.Series(dqn_scores, name=\"scores\")\n",
    "double_dqn_scores = pd.Series(double_dqn_scores, name=\"scores\")"
   ]
  },
  {
   "cell_type": "code",
   "execution_count": 21,
   "metadata": {},
   "outputs": [
    {
     "data": {
      "text/plain": [
       "count    2000.000000\n",
       "mean      163.508939\n",
       "std       152.089392\n",
       "min      -500.516422\n",
       "25%        37.745057\n",
       "50%       240.134765\n",
       "75%       264.536588\n",
       "max       310.643203\n",
       "Name: scores, dtype: float64"
      ]
     },
     "execution_count": 21,
     "metadata": {},
     "output_type": "execute_result"
    }
   ],
   "source": [
    "dqn_scores.describe()"
   ]
  },
  {
   "cell_type": "code",
   "execution_count": 22,
   "metadata": {},
   "outputs": [
    {
     "data": {
      "text/plain": [
       "count    2000.000000\n",
       "mean      160.496507\n",
       "std       154.166885\n",
       "min      -543.465688\n",
       "25%        47.844408\n",
       "50%       240.574470\n",
       "75%       264.805729\n",
       "max       319.673532\n",
       "Name: scores, dtype: float64"
      ]
     },
     "execution_count": 22,
     "metadata": {},
     "output_type": "execute_result"
    }
   ],
   "source": [
    "double_dqn_scores.describe()"
   ]
  },
  {
   "cell_type": "code",
   "execution_count": 29,
   "metadata": {},
   "outputs": [
    {
     "data": {
      "image/png": "[encoded data removed]",
      "text/plain": [
       "<Figure size 720x432 with 2 Axes>"
      ]
     },
     "metadata": {
      "needs_background": "light"
     },
     "output_type": "display_data"
    }
   ],
   "source": [
    "fig, axes = plt.subplots(2, 1, figsize=(10, 6), sharex=True, sharey=True)\n",
    "_ = dqn_scores.plot(ax=axes[0], label=\"DQN Scores\")\n",
    "_ = (dqn_scores.rolling(window=100)\n",
    "               .mean()\n",
    "               .rename(\"Rolling Average\")\n",
    "               .plot(ax=axes[0]))\n",
    "_ = axes[0].legend()\n",
    "_ = axes[0].set_ylabel(\"Score\")\n",
    "\n",
    "_ = double_dqn_scores.plot(ax=axes[1], label=\"Double DQN Scores\")\n",
    "_ = (double_dqn_scores.rolling(window=100)\n",
    "                      .mean()\n",
    "                      .rename(\"Rolling Average\")\n",
    "                      .plot(ax=axes[1]))\n",
    "_ = axes[1].legend()\n",
    "_ = axes[1].set_ylabel(\"Score\")\n",
    "_ = axes[1].set_xlabel(\"Episode Number\")\n"
   ]
  },
  {
   "cell_type": "markdown",
   "metadata": {},
   "source": [
    "#### Kernel density plot of the scores\n",
    "\n",
    "Kernel density plot of scores is bimodal with one mode less than -100 and a second mode greater than 200. The negative mode corresponds to those training episodes where the agent crash landed and thus scored at most -100; the positive mode corresponds to those training episodes where the agent \"solved\" the task. The kernel density or scores typically exhibits negative skewness (i.e., a fat left tail): there are lots of ways in which landing the lander can go horribly wrong (resulting in the agent getting a very low score) and only relatively few paths to a gentle landing (and a high score). Visually there doesn't seem to be too much of a difference between the distribution of scores between the DQN and Double DQN algorithms."
   ]
  },
  {
   "cell_type": "code",
   "execution_count": 18,
   "metadata": {},
   "outputs": [
    {
     "data": {
      "image/png": "[encoded data removed]",
      "text/plain": [
       "<Figure size 432x288 with 1 Axes>"
      ]
     },
     "metadata": {
      "needs_background": "light"
     },
     "output_type": "display_data"
    }
   ],
   "source": [
    "fig, ax = plt.subplots(1,1)\n",
    "_ = dqn_scores.plot(kind=\"kde\", ax=ax, label=\"DQN\")\n",
    "_ = double_dqn_scores.plot(kind=\"kde\", ax=ax, label=\"Double DQN\")\n",
    "_ = ax.set_xlabel(\"Score\")\n",
    "_ = ax.legend()"
   ]
  },
  {
   "cell_type": "markdown",
   "metadata": {},
   "source": [
    "## Where to go from here?\n",
    "\n",
    "In my next post I plan to cover [Prioritized Experience Replay](https://arxiv.org/abs/1509.06461) which improves the sampling scheme used by the `ExperienceReplayBuffer` so as to replay important transitions more frequently which should lead to more efficient learning. "
   ]
  }
 ],
 "metadata": {
  "kernelspec": {
   "display_name": "Python 3",
   "language": "python",
   "name": "python3"
  },
  "language_info": {
   "codemirror_mode": {
    "name": "ipython",
    "version": 3
   },
   "file_extension": ".py",
   "mimetype": "text/x-python",
   "name": "python",
   "nbconvert_exporter": "python",
   "pygments_lexer": "ipython3",
   "version": "3.7.6"
  }
 },
 "nbformat": 4,
 "nbformat_minor": 4
}
