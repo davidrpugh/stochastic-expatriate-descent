{
 "cells": [
  {
   "cell_type": "markdown",
   "metadata": {},
   "source": [
    "# Improving the DQN algorithm using Double Q-Learning \n",
    "> Notes on improving the DQN algorithm using Double Q-learning.\n",
    "\n",
    "- branch: 2020-04-11-double-dqn\n",
    "- badges: true\n",
    "- image: images/double-dqn-figure-2.png\n",
    "- comments: true\n",
    "- author: David R. Pugh\n",
    "- categories: [pytorch, deep-reinforcement-learning, deep-q-networks]"
   ]
  },
  {
   "cell_type": "markdown",
   "metadata": {},
   "source": [
    "I am continuing to work my way through the [Udacity](https://www.udacity.com/) [*Deep Reinforcement Learning Nanodegree*](https://www.udacity.com/course/deep-reinforcement-learning-nanodegree--nd893). In this blog post I discuss and implement the Double DQN algorithm from [*Deep Reinforcement Learning with Double Q-Learning*](https://arxiv.org/abs/1509.06461) (Van Hasselt et al 2015). The Double DQN algorithm is a minor, but important, modification of the original DQN algorithm that I covered in a [previous post](https://davidrpugh.github.io/stochastic-expatriate-descent/pytorch/deep-reinforcement-learning/deep-q-networks/2020/04/03/deep-q-networks.html).\n",
    "\n",
    "Van Hasselt et al 2015 has several important contributions. \n",
    "\n",
    "1. Demonstration of how Q-learning can be overly optimistic in large-scale, even \n",
    "   deterministic, problems due to the inherent estimation errors of learning. \n",
    "2. Demonstration that over-estimations are more common and severe in practice than previously \n",
    "   acknowledged. \n",
    "3. Implementation of Double Q-learning called Double DQN that extends, with minor \n",
    "   modifications, the popular DQN algorithm and that can be used at scale to successfully \n",
    "   reduce over-estimations with the result being more stable and reliable learning.\n",
    "4. Demonstation that Double DQN finds better policies by obtaining new state-of-the-art \n",
    "   results on the Atari 2600 dataset.\n",
    "   \n",
    "## Why does Q-learning over-estimate Q-values?\n",
    "\n",
    "No matter what type of function approximation scheme used to approximate the action-value function $Q$ there will always be approximation error. The presence of the max operator in the Bellman equation used to compute the $Q$-values means that the approximate $Q$-values will almost always be strictly greater than the corresponding $Q$ value from the true action-value function (i.e., the approximation errors will almost always be positive). This potentially significant source of bias can impede learning and is often exacerbated by the use of flexible, non-linear function approximators such as neural networks. Figure 2 (with caption) below, which is taken from Van Hasselt et al 2015, provides additional intuition.\n",
    "\n",
    "![](my_icons/double-dqn-figure-2.png)\n",
    "\n",
    "\n",
    "![](my_icons/double-dqn-figure-3.png)\n",
    "    \n",
    "## Implementing the Double DQN algorithm\n",
    "\n",
    "The key idea behind Double Q-learning is to reduce over-estimations of Q-values by separating the selection of actions from the evaluation of those actions so that a different Q-network can be used in each step. When applying Double Q-learning to extend the DQN algorithm one can use the online Q-network, $Q(S, a; \\theta)$, to select the actions and then the target Q-network, $Q(S, a; \\theta^{-})$, to evaluate the selected actions.\n",
    "\n",
    "Before implement the Double DQN algorithm, I am going to re-implement the Q-learning update from the DQN algorithm in a way that explicitly separates action selection from action evaluation. Once I have implemented this new version of Q-learning, implementing the Double DQN algorithm will be much easier. Here are the maths...\n",
    "\n",
    "$$ Y_t^{DQN} = R_{t+1} + \\gamma Q\\big(S_{t+1}, \\underset{a}{\\mathrm{argmax}}\\ Q(S_{t+1}, a; \\theta_t); \\theta_t\\big) $$\n",
    "\n",
    "...and here is my Python implementation."
   ]
  },
  {
   "cell_type": "code",
   "execution_count": null,
   "metadata": {},
   "outputs": [],
   "source": [
    "import torch\n",
    "\n",
    "\n",
    "def select_greedy_actions(states: torch.Tensor, q_network: nn.Module) -> torch.Tensor:\n",
    "    \"\"\"Select the greedy action for the current state given some Q-network.\"\"\"\n",
    "    _, actions = q_network(states).max(dim=1, keepdim=True)\n",
    "    return actions\n",
    "\n",
    "\n",
    "def evaluate_selected_actions(states: torch.Tensor,\n",
    "                              actions: torch.Tensor,\n",
    "                              rewards: torch.Tensor,\n",
    "                              dones: torch.Tensor,\n",
    "                              gamma: float,\n",
    "                              q_network: nn.Module) -> torch.Tensor:\n",
    "    \"\"\"Compute the Q-values by evaluating the actions given the current states and Q-network.\"\"\"\n",
    "    next_q_values = q_network(states).gather(dim=1, index=actions)        \n",
    "    q_values = rewards + (self._gamma * next_q_values * (1 - dones))\n",
    "    return q_values\n",
    "\n",
    "\n",
    "def q_learning_update(states: torch.Tensor,\n",
    "                      rewards: torch.Tensor,\n",
    "                      dones: torch.Tensor,\n",
    "                      gamma: float,\n",
    "                      q_network: nn.Module) -> torch.Tensor:\n",
    "    \"\"\"Q-Learning update with explicitly decoupled action selection and evaluation steps.\"\"\"\n",
    "    actions = select_greedy_actions(states, q_network)\n",
    "    q_values = evaluate_selected_actions(states, actions, rewards, dones, gamma, q_network)\n",
    "    return q_values\n",
    "\n"
   ]
  },
  {
   "cell_type": "markdown",
   "metadata": {},
   "source": [
    "Now I am ready to implement the Double DQN algorithm. All I need is a second action-value function. The target network in the DQN architecture provides a natural candidate for the second action-value function without having to introduce additional networks; Hasselt et al 2015 suggest using the online Q-network to select the greedy policy actions before using the target Q-network to estimate the value of the selected actions. Once again here are the maths...\n",
    "\n",
    "$$ Y_t^{DoubleDQN} = R_{t+1} + \\gamma Q\\big(S_{t+1}, \\underset{a}{\\mathrm{argmax}}\\ Q(S_{t+1}, a; \\theta_t), \\theta_t^{-}\\big) $$\n",
    "\n",
    "...and here is the the Python implementation. Note that the function `double_q_learning_update` is almost identical to the `q_learning_update` function above: all that is needed is to introduce a second Q-network parameter, `q_network_2`, to the function. This second Q-network will be use to evaluate the actions chosen using the original Q-network parameter, now called `q_network_1`."
   ]
  },
  {
   "cell_type": "code",
   "execution_count": null,
   "metadata": {},
   "outputs": [],
   "source": [
    "def double_q_learning_update(states: torch.Tensor,\n",
    "                             rewards: torch.Tensor,\n",
    "                             dones: torch.Tensor,\n",
    "                             gamma: float,\n",
    "                             q_network_1: nn.Module,\n",
    "                             q_network_2: nn.Module) -> torch.Tensor:\n",
    "    \"\"\"Double Q-Learning uses Q-network 1 to select actions and Q-network 2 to evaluate the selected actions.\"\"\"\n",
    "    actions = select_greedy_actions(states, q_network_1)\n",
    "    q_values = evaluate_selected_actions(states, rewards, actions, dones, gamma, q_network_2)\n",
    "    return q_values"
   ]
  },
  {
   "cell_type": "markdown",
   "metadata": {},
   "source": [
    "## Solving the `LunarLander-v2` environment\n",
    "\n",
    "In the rest of this blog post I will use the DQN algorithm to train an agent to solve the [LunarLander-v2](https://gym.openai.com/envs/LunarLander-v2/) environment from [OpenAI](https://openai.com/).\n",
    "\n",
    "In this environment the landing pad is always at coordinates (0,0). The reward for moving the lander from the top of the screen to landing pad and arriving at zero speed is typically between 100 and 140 points. Firing the main engine is -0.3 points each frame (so the lander is incentivized to fire the engine as few times possible). If the lander moves away from landing pad it loses reward (so the lander is incentived to land in the designated landing area). The lander is also incentived to land \"gracefully\" (and not crash in the landing area!).\n",
    "\n",
    "A training episode finishes if the lander crashes (-100 points) or comes to rest (+100 points). Each leg with ground contact receives and additional +10 points. The task is considered \"solved\" if the lander is able to achieve 200 points (I will actually be more stringent and define \"solved\" as achieving over 200 points on average in the most recent 100 training episodes).\n",
    "\n",
    "### Action Space \n",
    "\n",
    "There are four discrete actions available: \n",
    "\n",
    "0. Do nothing.\n",
    "1. Fire the left orientation engine.\n",
    "2. Fire main engine.\n",
    "3. Fire the right orientation engine."
   ]
  },
  {
   "cell_type": "markdown",
   "metadata": {},
   "source": [
    "## Colab specific environment setup\n",
    "\n",
    "If you are playing around with this notebook on Google Colab, then you will need to run the following cell in order to install the required OpenAI dependencies into the environment."
   ]
  },
  {
   "cell_type": "code",
   "execution_count": null,
   "metadata": {},
   "outputs": [],
   "source": [
    "!pip install gym[box2d]==0.17.*"
   ]
  },
  {
   "cell_type": "code",
   "execution_count": null,
   "metadata": {},
   "outputs": [],
   "source": [
    "import gym\n",
    "\n",
    "env = gym.make('LunarLander-v2')\n",
    "_ = env.seed(42)"
   ]
  },
  {
   "cell_type": "markdown",
   "metadata": {},
   "source": [
    "### Defining a generic `Agent` and `train` loop\n",
    "\n",
    "In the cell below I define a fairly generic training loop for training and `Agent` to solve a task in a given `gym.Env` environment. In working through the hands-on portions of the [Udacity](https://www.udacity.com/) [*Deep Reinforcement Learning Nanodegree*](https://www.udacity.com/course/deep-reinforcement-learning-nanodegree--nd893) I found myself writing similar code over and over again to train the agent to solve a task. This is my first attempt to write something that I might be able to reuse on the course going forward."
   ]
  },
  {
   "cell_type": "code",
   "execution_count": 2,
   "metadata": {},
   "outputs": [],
   "source": [
    "import agents\n",
    "import training"
   ]
  },
  {
   "cell_type": "markdown",
   "metadata": {},
   "source": [
    "### Creating a `DoubleDeepQAgent`\n",
    "\n",
    "The code in the cell below encapsulates much of the logic of the DQN algorithm in a `DoubleDeepQAgent` class. Since the `LunarLander-v2` task is not well suited for convolutional neural networks, the agent uses a simple three layer dense neural network with ReLU activation functions to approximate the action-value function $Q$."
   ]
  },
  {
   "cell_type": "code",
   "execution_count": 116,
   "metadata": {},
   "outputs": [],
   "source": []
  },
  {
   "cell_type": "markdown",
   "metadata": {},
   "source": [
    "#### Epsilon decay schedule\n",
    "\n",
    "In the DQN algorithm the agent chooses its action using an $\\epsilon$-greedy policy. When using an $\\epsilon$-greedy policy, with probability $\\epsilon$, the agent explores the state space by choosing an action uniformly at random from the set of feasible actions; with probability $1-\\epsilon$, the agent exploits its current knowledge by choosing the optimal action given that current state. \n",
    "\n",
    "As the agent learns and acquires additional knowledge about it environment it makes sense to *decrease* exploration and *increase* exploitation by decreasing $\\epsilon$. In practice, it isn't a good idea to decrease $\\epsilon$ to zero; instead one typically decreases $\\epsilon$ over time according to some schedule until it reaches some minimum value."
   ]
  },
  {
   "cell_type": "code",
   "execution_count": 7,
   "metadata": {},
   "outputs": [],
   "source": [
    "def power_decay_schedule(episode_number: int,\n",
    "                         decay_factor: float,\n",
    "                         minimum_epsilon: float) -> float:\n",
    "    \"\"\"Power decay schedule found in other practical applications.\"\"\"\n",
    "    return max(decay_factor**episode_number, minimum_epsilon)\n",
    "\n",
    "_epsilon_decay_schedule_kwargs = {\n",
    "    \"decay_factor\": 0.99,\n",
    "    \"minimum_epsilon\": 1e-2,\n",
    "}\n",
    "epsilon_decay_schedule = lambda n: power_decay_schedule(n, **_epsilon_decay_schedule_kwargs)"
   ]
  },
  {
   "cell_type": "markdown",
   "metadata": {},
   "source": [
    "#### Choosing an optimizer\n",
    "\n",
    "As is the case in training any neural network, the choice of optimizer and the tuning of its hyper-parameters (in particular the learning rate) is important. Here I am going to more or less follow the Minh et al 2015 paper and use the [RMSProp](https://pytorch.org/docs/stable/optim.html#torch.optim.RMSprop) optimizer."
   ]
  },
  {
   "cell_type": "code",
   "execution_count": 8,
   "metadata": {},
   "outputs": [],
   "source": [
    "from torch import optim\n",
    "\n",
    "\n",
    "_optimizer_kwargs = {\n",
    "    \"lr\": 1e-2,\n",
    "    \"alpha\": 0.95,\n",
    "    \"eps\": 1e-08,\n",
    "    \"weight_decay\": 0,\n",
    "    \"momentum\": 0,\n",
    "    \"centered\": False\n",
    "}\n",
    "optimizer_fn = lambda parameters: optim.RMSprop(parameters, **_optimizer_kwargs)"
   ]
  },
  {
   "cell_type": "markdown",
   "metadata": {},
   "source": [
    "At this point I am ready to create an instance of the `DeepQAgent`."
   ]
  },
  {
   "cell_type": "code",
   "execution_count": 9,
   "metadata": {},
   "outputs": [],
   "source": [
    "_agent_kwargs = {\n",
    "    \"state_size\": env.observation_space.shape[0],\n",
    "    \"action_size\": env.action_space.n, \n",
    "    \"number_hidden_units\": 64,\n",
    "    \"optimizer_fn\": optimizer_fn,\n",
    "    \"epsilon_decay_schedule\": epsilon_decay_schedule,\n",
    "    \"batch_size\": 64,\n",
    "    \"buffer_size\": 100000,\n",
    "    \"alpha\": 1e-3,\n",
    "    \"gamma\": 0.99,\n",
    "    \"update_frequency\": 4,\n",
    "    \"seed\": None,\n",
    "}\n",
    "deep_q_agent = agents.DeepQAgent(**_agent_kwargs)"
   ]
  },
  {
   "cell_type": "markdown",
   "metadata": {},
   "source": [
    "### Training the `DeepQAgent`\n",
    "\n",
    "Now I am finally ready to train the `deep_q_agent`. The target score for the `LunarLander-v2` environment is 200 points on average for at least 100 consecutive episodes. If the `deep_q_agent` is able to \"solve\" the environment, then training will terminate early."
   ]
  },
  {
   "cell_type": "code",
   "execution_count": 10,
   "metadata": {},
   "outputs": [
    {
     "name": "stdout",
     "output_type": "stream",
     "text": [
      "Episode 100\tAverage Score: -125.01\n",
      "Episode 200\tAverage Score: -90.38\n",
      "Episode 300\tAverage Score: -57.09\n",
      "Episode 400\tAverage Score: 19.33\n",
      "Episode 500\tAverage Score: 104.55\n",
      "Episode 600\tAverage Score: 75.25\n",
      "Episode 700\tAverage Score: 69.66\n",
      "Episode 800\tAverage Score: 138.07\n",
      "Episode 900\tAverage Score: 143.24\n",
      "Episode 1000\tAverage Score: 179.81\n",
      "\n",
      "Environment solved in 1097 episodes!\tAverage Score: 200.07\n"
     ]
    }
   ],
   "source": [
    "scores = training.train(deep_q_agent, env, \"checkpoint.pth\", number_episodes=2000, target_score=200)"
   ]
  },
  {
   "cell_type": "markdown",
   "metadata": {},
   "source": [
    "### Analyzing `DeepQAgent` performance\n",
    "\n",
    "#### Plotting the time series of scores\n",
    "\n",
    "I can use [Pandas](https://pandas.pydata.org/) to quickly plot the time series of scores along with a 100 episode moving average. Note that training stops as soon as the rolling average crosses the target score."
   ]
  },
  {
   "cell_type": "code",
   "execution_count": 132,
   "metadata": {},
   "outputs": [],
   "source": [
    "import pandas as pd\n",
    "import matplotlib.pyplot as plt\n",
    "%matplotlib inline"
   ]
  },
  {
   "cell_type": "code",
   "execution_count": 133,
   "metadata": {},
   "outputs": [],
   "source": [
    "scores = pd.Series(scores, name=\"scores\")"
   ]
  },
  {
   "cell_type": "code",
   "execution_count": 134,
   "metadata": {},
   "outputs": [
    {
     "data": {
      "text/plain": [
       "count    2000.000000\n",
       "mean       48.832966\n",
       "std       196.504239\n",
       "min      -770.591032\n",
       "25%       -97.692346\n",
       "50%        30.859738\n",
       "75%       236.902026\n",
       "max       312.016872\n",
       "Name: scores, dtype: float64"
      ]
     },
     "execution_count": 134,
     "metadata": {},
     "output_type": "execute_result"
    }
   ],
   "source": [
    "scores.describe()"
   ]
  },
  {
   "cell_type": "code",
   "execution_count": 135,
   "metadata": {},
   "outputs": [
    {
     "data": {
      "image/png": "[encoded data removed]",
      "text/plain": [
       "<Figure size 432x288 with 1 Axes>"
      ]
     },
     "metadata": {
      "needs_background": "light"
     },
     "output_type": "display_data"
    }
   ],
   "source": [
    "fig, ax = plt.subplots(1, 1)\n",
    "_ = scores.plot(ax=ax, label=\"Scores\")\n",
    "_ = (scores.rolling(window=100)\n",
    "           .mean()\n",
    "           .rename(\"Rolling Average\")\n",
    "           .plot(ax=ax))\n",
    "ax.axhline(200, color='k', linestyle=\"dashed\", label=\"Target Score\")\n",
    "ax.legend()\n",
    "_ = ax.set_xlabel(\"Episode Number\")\n",
    "_ = ax.set_ylabel(\"Score\")\n"
   ]
  },
  {
   "cell_type": "markdown",
   "metadata": {},
   "source": [
    "#### Kernel density plot of the scores\n",
    "\n",
    "Kernel density plot of scores is bimodal with one mode less than -100 and a second mode greater than 200. The negative mode corresponds to those training episodes where the agent crash landed and thus scored at most -100; the positive mode corresponds to those training episodes where the agent \"solved\" the task. The kernel density or scores typically exhibits negative skewness (i.e., a fat left tail): there are lots of ways in which landing the lander can go horribly wrong (resulting in the agent getting a very low score) and only relatively few paths to a gentle landing (and a high score)."
   ]
  },
  {
   "cell_type": "code",
   "execution_count": 136,
   "metadata": {},
   "outputs": [
    {
     "data": {
      "image/png": "[encoded data removed]",
      "text/plain": [
       "<Figure size 432x288 with 1 Axes>"
      ]
     },
     "metadata": {
      "needs_background": "light"
     },
     "output_type": "display_data"
    }
   ],
   "source": [
    "fig, ax = plt.subplots(1,1)\n",
    "_ = scores.plot(kind=\"kde\", ax=ax)\n",
    "_ = ax.set_xlabel(\"Score\")"
   ]
  },
  {
   "cell_type": "markdown",
   "metadata": {},
   "source": [
    "## Where to go from here?\n",
    "\n",
    "I am a bit frustrated by lack of stability that I am seeing in my implmentation of the Deep Q algorithm: sometimes the algorithm converges and sometimes not. Perhaps more tuning of hyper-parameters or use of a different optimization algorithm would exhibit better convergence. I have already spent more time than I had allocated on playing around with this agorithm so I am not going to try and fine-tune the hyperparamters or explore alternative optimization algorithms for now.\n",
    "\n",
    "Rather than spending time tuning hyperparameters I think it would be better use of my time to explore algorithmic improvements. In future posts I plan to cover the following extensions of the DQN algorithm: [Double Q-Learning](https://arxiv.org/abs/1509.06461), [Prioritized Experience Replay](https://arxiv.org/abs/1509.06461), and [Dueling Network Architectures](https://arxiv.org/abs/1511.06581)"
   ]
  }
 ],
 "metadata": {
  "kernelspec": {
   "display_name": "Python 3",
   "language": "python",
   "name": "python3"
  },
  "language_info": {
   "codemirror_mode": {
    "name": "ipython",
    "version": 3
   },
   "file_extension": ".py",
   "mimetype": "text/x-python",
   "name": "python",
   "nbconvert_exporter": "python",
   "pygments_lexer": "ipython3",
   "version": "3.7.6"
  }
 },
 "nbformat": 4,
 "nbformat_minor": 4
}
